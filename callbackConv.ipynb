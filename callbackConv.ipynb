{
 "cells": [
  {
   "cell_type": "code",
   "execution_count": 34,
   "metadata": {},
   "outputs": [],
   "source": [
    "import logging\n",
    "import tensorflow as tf\n",
    "import numpy as np\n",
    "from tensorflow import keras\n",
    "from tensorflow.keras import layers, models\n",
    "import matplotlib.pyplot as plt\n",
    "import seaborn as sns\n",
    "from tensorflow.keras.callbacks import Callback\n",
    "from keras.utils import to_categorical"
   ]
  },
  {
   "cell_type": "code",
   "execution_count": 35,
   "metadata": {},
   "outputs": [],
   "source": [
    "# Function to compute and save statistics\n",
    "def save_model_statistics(file_path, filters, biases, stage):\n",
    "    with open(file_path, 'a') as f:\n",
    "        f.write(\"-\" * 100 + \"\\n\")\n",
    "        f.write(f\"{stage}:\\n\\n\")\n",
    "        for i in range(2):\n",
    "            mean = np.mean(filters[:, :, 0, i])\n",
    "            variance = np.var(filters[:, :, 0, i])\n",
    "            f.write(f\"Kernel {i + 1} Weights:\\n\")\n",
    "            f.write(f\"Mean: {mean}\\n\")\n",
    "            f.write(f\"Variance: {variance}\\n\")\n",
    "\n",
    "            mean = np.mean(biases[i])\n",
    "            variance = np.var(biases[i])\n",
    "            f.write(f\"Kernel {i + 1} Biases:\\n\")\n",
    "            f.write(f\"Mean: {mean}\\n\")\n",
    "            f.write(f\"Variance: {variance}\\n\")\n",
    "\n",
    "# Function to save weights\n",
    "def save_model_weights(file_path, filters, biases, stage):\n",
    "    with open(file_path, 'a') as f:\n",
    "        f.write(\"-\" * 10 + \"\\n\")\n",
    "        f.write(f\"\\n{stage}:\\n\")\n",
    "        for i in range(2):\n",
    "            x = (filters[:, :, 0, i])\n",
    "            y = (biases[i])\n",
    "            f.write(f\"Kernel {i + 1}\\n\")\n",
    "            f.write(f\"\\n{x}\\n\")\n",
    "            f.write(f\"\\n{y}\\n\")\n",
    "\n",
    "# Function to save kernel comparison images\n",
    "def save_kernel_comparison_images(file_path, filters_before, filters_after):\n",
    "    fig, axes = plt.subplots(2, 1, figsize=(10, 10))\n",
    "    \n",
    "    for i in range(2):\n",
    "        ax = axes[i]\n",
    "        kernel = np.concatenate([filters_before[:, :, 0, i], filters_after[:, :, 0, i]], axis=1)\n",
    "        ax.imshow(kernel, cmap='gray')\n",
    "        #plt.set_title(f'Kernel {i + 1}')\n",
    "        for (x, z), val in np.ndenumerate(kernel):\n",
    "            ax.text(z, x, f'{val:.4f}', ha='center', va='center', color='red', fontsize=8)\n",
    "        ax.axis('off')\n",
    "\n",
    "    plt.tight_layout()\n",
    "    plt.savefig(file_path)\n",
    "    plt.close()\n"
   ]
  },
  {
   "cell_type": "code",
   "execution_count": 36,
   "metadata": {},
   "outputs": [],
   "source": [
    "class WeightsCallback(tf.keras.callbacks.Callback):\n",
    "    def on_epoch_end(self, epoch, logs=None):\n",
    "        weights = self.model.layers[0].get_weights()[0]\n",
    "        bias = self.model.layers[0].get_weights()[1]\n",
    "        print(f\"\\nEpoch {epoch + 1}:\")\n",
    "        print(f\"Weights:\\n{weights}\")\n",
    "        print(f\"Bias:\\n{bias}\")\n",
    "        print(f\"Loss: {logs['loss']}\")\n",
    "        save_model_weights(\"5_weights.txt\", weights, bias, epoch)\n"
   ]
  },
  {
   "cell_type": "code",
   "execution_count": 37,
   "metadata": {},
   "outputs": [],
   "source": [
    "# Load MNIST data\n",
    "mnist = keras.datasets.mnist\n",
    "(x_full, y_full), (x_test_full, y_test_full) = mnist.load_data()\n",
    "\n",
    "x_full = x_full.reshape(-1, 28, 28, 1)\n",
    "x_test_full = x_test_full.reshape(-1, 28, 28, 1)\n",
    "y_full = to_categorical(y_full, num_classes=10)\n",
    "y_test_full=to_categorical(y_test_full, num_classes=10)"
   ]
  },
  {
   "cell_type": "code",
   "execution_count": 38,
   "metadata": {},
   "outputs": [
    {
     "name": "stdout",
     "output_type": "stream",
     "text": [
      "(60000, 28, 28, 1)\n",
      "(28, 28, 1)\n",
      "(60000, 10)\n",
      "[0. 0. 0. 0. 0. 1. 0. 0. 0. 0.]\n"
     ]
    }
   ],
   "source": [
    "print(x_full.shape)\n",
    "print(x_full[0].shape)\n",
    "print(y_full.shape)\n",
    "print(y_full[0])"
   ]
  },
  {
   "cell_type": "code",
   "execution_count": 39,
   "metadata": {},
   "outputs": [
    {
     "name": "stderr",
     "output_type": "stream",
     "text": [
      "c:\\Users\\nandi\\AppData\\Local\\Programs\\Python\\Python310\\lib\\site-packages\\keras\\src\\layers\\convolutional\\base_conv.py:99: UserWarning: Do not pass an `input_shape`/`input_dim` argument to a layer. When using Sequential models, prefer using an `Input(shape)` object as the first layer in the model instead.\n",
      "  super().__init__(\n"
     ]
    }
   ],
   "source": [
    "model = models.Sequential()\n",
    "model.add(layers.Conv2D(2, (3, 3), activation='relu', input_shape=(28, 28, 1)))\n",
    "model.add(layers.Flatten())\n",
    "#model.add(layers.Dense(64, activation='relu'))\n",
    "model.add(layers.Dense(10, activation='softmax'))"
   ]
  },
  {
   "cell_type": "code",
   "execution_count": 40,
   "metadata": {},
   "outputs": [
    {
     "name": "stdout",
     "output_type": "stream",
     "text": [
      "Weights:\n",
      "(3, 3, 1, 32)\n",
      "Bias:\n",
      "(32,)\n",
      "Weights:\n",
      "[[[[-0.08034655  0.13808663  0.09598096  0.11358024 -0.05105884\n",
      "    -0.12863429  0.03700881 -0.00571667  0.08307512 -0.08828795\n",
      "     0.08480278 -0.13553311  0.09368065  0.11124299  0.03352973\n",
      "    -0.03579564  0.0580949   0.10905667  0.11697771 -0.01941589\n",
      "    -0.0196817   0.1001388  -0.04776025 -0.0013942  -0.00311285\n",
      "     0.11210762 -0.07806217 -0.10580872 -0.11396066 -0.11574923\n",
      "     0.09872665  0.09977002]]\n",
      "\n",
      "  [[-0.04715841 -0.11101826  0.07280977  0.09086762 -0.08233052\n",
      "     0.0631038   0.00043349 -0.06702032 -0.02203823  0.03350292\n",
      "     0.12253739  0.03564955 -0.08328258  0.03382383 -0.00492488\n",
      "    -0.09262383  0.10750918 -0.0894026  -0.03058966  0.06535283\n",
      "     0.07372151  0.11920471  0.06043734  0.10953762  0.11155443\n",
      "    -0.10792132 -0.041402    0.05437462 -0.01297428  0.06090358\n",
      "     0.00061871 -0.09913884]]\n",
      "\n",
      "  [[-0.12948832  0.01482724 -0.1397595   0.07148911 -0.07906602\n",
      "     0.09296349 -0.04646117  0.07405046  0.01539794  0.02183361\n",
      "     0.07699722 -0.13540925  0.02871153 -0.13392173 -0.10897928\n",
      "    -0.00651602 -0.09866208  0.12379168  0.13340746 -0.00156221\n",
      "    -0.10946842 -0.07802246 -0.09783442 -0.00850263  0.13014574\n",
      "    -0.10932975  0.12727587  0.10277244  0.09068158  0.06781535\n",
      "    -0.13842678  0.11005087]]]\n",
      "\n",
      "\n",
      " [[[-0.129522    0.09728232  0.13525881 -0.11722486 -0.06663773\n",
      "    -0.11856236  0.00366664 -0.11155622  0.03791662  0.02425113\n",
      "    -0.03852415  0.11219846 -0.06604911  0.09085193 -0.02948863\n",
      "    -0.05195113 -0.03779648  0.03247936 -0.05941759  0.03137474\n",
      "     0.05307676 -0.019871   -0.08071799 -0.08762392 -0.09330352\n",
      "     0.09229848  0.00206764 -0.11449198  0.08857429  0.0855017\n",
      "     0.12780444 -0.02710052]]\n",
      "\n",
      "  [[ 0.07836272  0.0611472   0.03226173 -0.14111198  0.11893521\n",
      "     0.11020444  0.10488173 -0.02628536 -0.12794393 -0.0168115\n",
      "     0.06321053 -0.02941357  0.08271357  0.13985862  0.06770183\n",
      "    -0.06207073 -0.02836594  0.11365514  0.09652057  0.00269422\n",
      "    -0.08577639  0.04453617  0.13969742 -0.12386221  0.02418943\n",
      "     0.04123601 -0.10436417 -0.00736542 -0.02788007 -0.08344249\n",
      "    -0.01578659  0.07135464]]\n",
      "\n",
      "  [[ 0.10175157  0.07832961 -0.02752818  0.03703432 -0.05824333\n",
      "    -0.07501909  0.02016985  0.13830508 -0.12921175 -0.06822065\n",
      "    -0.06225542 -0.0573872   0.138833    0.0901874   0.14120407\n",
      "    -0.13521226 -0.09459899  0.07205422  0.00814787  0.0844048\n",
      "     0.11464335  0.01707438  0.12328269  0.02004071 -0.127137\n",
      "     0.10204424 -0.13774541  0.11053981  0.06457809  0.02393259\n",
      "    -0.08093829 -0.0960612 ]]]\n",
      "\n",
      "\n",
      " [[[ 0.06212682  0.03347093  0.04890974 -0.06038318 -0.11158597\n",
      "     0.11471929 -0.12392604  0.1344315  -0.04035122 -0.07277029\n",
      "    -0.12875278 -0.05284226  0.06355964 -0.04455823 -0.02152327\n",
      "     0.13324688 -0.1375636  -0.08442546  0.12128206  0.10541435\n",
      "     0.1000964   0.01405942 -0.11829224  0.00944695 -0.13328719\n",
      "    -0.03716672 -0.05198061 -0.06988729 -0.13201906  0.0673959\n",
      "     0.02638258  0.0279659 ]]\n",
      "\n",
      "  [[ 0.10232531  0.01766263 -0.12156298  0.06962001  0.13201974\n",
      "     0.02182619  0.03264551 -0.04995929 -0.0881525   0.06462814\n",
      "    -0.04543324 -0.1199327  -0.10086639  0.07772861 -0.05091902\n",
      "     0.11585407  0.01451592 -0.08819652 -0.08926105 -0.02147251\n",
      "     0.11604638 -0.0765368   0.08059071 -0.06710751 -0.12046845\n",
      "    -0.10261216  0.06974886 -0.11329548 -0.03497259 -0.11720608\n",
      "     0.0746651  -0.12905154]]\n",
      "\n",
      "  [[ 0.09075651 -0.05589094 -0.06552806  0.044438    0.10387006\n",
      "     0.070742    0.0196169  -0.0899751   0.12966447  0.07410434\n",
      "    -0.09902796  0.12690549  0.13305174 -0.0842212  -0.0489869\n",
      "     0.1381317  -0.09224135  0.0907011   0.01174399  0.09618847\n",
      "    -0.11328772 -0.06942002 -0.09680421  0.05118813  0.1343349\n",
      "     0.03958957  0.02188441  0.08947156  0.02635764 -0.0974744\n",
      "     0.01517238  0.03357385]]]]\n",
      "Bias:\n",
      "[0. 0. 0. 0. 0. 0. 0. 0. 0. 0. 0. 0. 0. 0. 0. 0. 0. 0. 0. 0. 0. 0. 0. 0.\n",
      " 0. 0. 0. 0. 0. 0. 0. 0.]\n"
     ]
    }
   ],
   "source": [
    "weights_init=(model.layers[0].get_weights()[0])\n",
    "bias_init=(model.layers[0].get_weights()[1])\n",
    "print(f\"Weights:\\n{weights_init.shape}\")\n",
    "print(f\"Bias:\\n{bias_init.shape}\")\n",
    "print(f\"Weights:\\n{weights_init}\")\n",
    "print(f\"Bias:\\n{bias_init}\")\n"
   ]
  },
  {
   "cell_type": "code",
   "execution_count": 42,
   "metadata": {},
   "outputs": [
    {
     "data": {
      "image/png": "[encoded data removed]",
      "text/plain": [
       "<Figure size 1000x500 with 2 Axes>"
      ]
     },
     "metadata": {},
     "output_type": "display_data"
    }
   ],
   "source": [
    "fig, axes = plt.subplots(1, 2, figsize=(10, 5))\n",
    "\n",
    "ax = axes[0]\n",
    "ax.imshow(weights_init[:, :, 0, 0], cmap='gray')\n",
    "ax.set_title('Filter 1')\n",
    "ax.axis('off')\n",
    "for (i, j), val in np.ndenumerate(weights_init[:, :, 0, 0]):\n",
    "    ax.text(j, i, f'{val:.2f}', ha='center', va='center', color='red', fontsize=8)\n",
    "\n",
    "ax = axes[1]\n",
    "ax.imshow(weights_init[:, :, 0, 1], cmap='gray')\n",
    "ax.set_title('Filter 2')\n",
    "ax.axis('off')\n",
    "for (i, j), val in np.ndenumerate(weights_init[:, :, 0, 1]):\n",
    "    ax.text(j, i, f'{val:.2f}', ha='center', va='center', color='red', fontsize=8)\n",
    "plt.show()"
   ]
  },
  {
   "cell_type": "code",
   "execution_count": 9,
   "metadata": {},
   "outputs": [
    {
     "name": "stdout",
     "output_type": "stream",
     "text": [
      "Conv Layer 1 Weights:\n",
      "Mean: -0.09944692254066467\n",
      "Variance: 0.032346323132514954\n",
      "Conv Layer 1 Biases:\n",
      "Mean: 0.0\n",
      "Variance: 0.0\n",
      "------------------------------\n",
      "Conv Layer 2 Weights:\n",
      "Mean: 0.16775982081890106\n",
      "Variance: 0.049484413117170334\n",
      "Conv Layer 2 Biases:\n",
      "Mean: 0.0\n",
      "Variance: 0.0\n",
      "------------------------------\n"
     ]
    }
   ],
   "source": [
    "for i in range(2):\n",
    "    mean = np.mean(weights_init[:, :, 0, i])\n",
    "    variance = np.var(weights_init[:, :, 0, i])\n",
    "    print(f\"Conv Layer {i + 1} Weights:\")\n",
    "    print(f\"Mean: {mean}\")\n",
    "    print(f\"Variance: {variance}\")\n",
    "    \n",
    "    mean = np.mean(bias_init[i])\n",
    "    variance = np.var(bias_init[i])\n",
    "    print(f\"Conv Layer {i + 1} Biases:\")\n",
    "    print(f\"Mean: {mean}\")\n",
    "    print(f\"Variance: {variance}\")\n",
    "    print(\"-\" * 30)\n",
    "\n",
    "save_model_statistics('5.txt', weights_init, bias_init, 'Before Training')\n",
    "save_model_weights('5_weights.txt', weights_init, bias_init, 'Before Training')"
   ]
  },
  {
   "cell_type": "code",
   "execution_count": 10,
   "metadata": {},
   "outputs": [
    {
     "name": "stdout",
     "output_type": "stream",
     "text": [
      "Epoch 1/10\n",
      "\u001b[1m1873/1875\u001b[0m \u001b[32m━━━━━━━━━━━━━━━━━━━\u001b[0m\u001b[37m━\u001b[0m \u001b[1m0s\u001b[0m 2ms/step - accuracy: 0.8088 - loss: 9.4152\n",
      "Epoch 1:\n",
      "Weights:\n",
      "[[[[ 0.03905184  0.09676948]]\n",
      "\n",
      "  [[ 0.16286163 -0.00996063]]\n",
      "\n",
      "  [[ 0.00386037  0.01716947]]]\n",
      "\n",
      "\n",
      " [[[-0.12799855 -0.18086097]]\n",
      "\n",
      "  [[-0.02069948  0.06661094]]\n",
      "\n",
      "  [[-0.1713686   0.11376955]]]\n",
      "\n",
      "\n",
      " [[[-0.11285254  0.13826707]]\n",
      "\n",
      "  [[-0.1077035  -0.07070433]]\n",
      "\n",
      "  [[-0.25632402 -0.0571705 ]]]]\n",
      "Bias:\n",
      "[-0.00488026 -0.24892187]\n",
      "Loss: 3.1564648151397705\n",
      "\u001b[1m1875/1875\u001b[0m \u001b[32m━━━━━━━━━━━━━━━━━━━━\u001b[0m\u001b[37m\u001b[0m \u001b[1m4s\u001b[0m 2ms/step - accuracy: 0.8089 - loss: 9.4051\n",
      "Epoch 2/10\n",
      "\u001b[1m1875/1875\u001b[0m \u001b[32m━━━━━━━━━━━━━━━━━━━━\u001b[0m\u001b[37m\u001b[0m \u001b[1m0s\u001b[0m 2ms/step - accuracy: 0.9314 - loss: 0.3311\n",
      "Epoch 2:\n",
      "Weights:\n",
      "[[[[ 0.01397713  0.03373458]]\n",
      "\n",
      "  [[ 0.08805162  0.00360706]]\n",
      "\n",
      "  [[-0.01165214  0.00355999]]]\n",
      "\n",
      "\n",
      " [[[-0.08446506 -0.05774603]]\n",
      "\n",
      "  [[ 0.01424882  0.02617101]]\n",
      "\n",
      "  [[-0.07217412  0.0400626 ]]]\n",
      "\n",
      "\n",
      " [[[-0.08720834  0.04166717]]\n",
      "\n",
      "  [[-0.12539752 -0.01796403]]\n",
      "\n",
      "  [[-0.08781485 -0.01704293]]]]\n",
      "Bias:\n",
      "[ 0.00278624 -0.20177868]\n",
      "Loss: 0.28366634249687195\n",
      "\u001b[1m1875/1875\u001b[0m \u001b[32m━━━━━━━━━━━━━━━━━━━━\u001b[0m\u001b[37m\u001b[0m \u001b[1m5s\u001b[0m 2ms/step - accuracy: 0.9314 - loss: 0.3311\n",
      "Epoch 3/10\n",
      "\u001b[1m1831/1875\u001b[0m \u001b[32m━━━━━━━━━━━━━━━━━━━\u001b[0m\u001b[37m━\u001b[0m \u001b[1m0s\u001b[0m 2ms/step - accuracy: 0.9516 - loss: 0.1702\n",
      "Epoch 3:\n",
      "Weights:\n",
      "[[[[ 0.00759392  0.02008409]]\n",
      "\n",
      "  [[ 0.06860324  0.00576052]]\n",
      "\n",
      "  [[-0.00498301  0.00546522]]]\n",
      "\n",
      "\n",
      " [[[-0.05838231 -0.03364519]]\n",
      "\n",
      "  [[ 0.0248052   0.01630189]]\n",
      "\n",
      "  [[-0.06808125  0.0277867 ]]]\n",
      "\n",
      "\n",
      " [[[-0.05783363  0.02511252]]\n",
      "\n",
      "  [[-0.12121313 -0.00588372]]\n",
      "\n",
      "  [[-0.02582143 -0.01324954]]]]\n",
      "Bias:\n",
      "[ 0.06987846 -0.06946226]\n",
      "Loss: 0.17384843528270721\n",
      "\u001b[1m1875/1875\u001b[0m \u001b[32m━━━━━━━━━━━━━━━━━━━━\u001b[0m\u001b[37m\u001b[0m \u001b[1m4s\u001b[0m 2ms/step - accuracy: 0.9516 - loss: 0.1703\n",
      "Epoch 4/10\n",
      "\u001b[1m1873/1875\u001b[0m \u001b[32m━━━━━━━━━━━━━━━━━━━\u001b[0m\u001b[37m━\u001b[0m \u001b[1m0s\u001b[0m 3ms/step - accuracy: 0.9537 - loss: 0.1581\n",
      "Epoch 4:\n",
      "Weights:\n",
      "[[[[ 2.72068684e-03  1.04540335e-02]]\n",
      "\n",
      "  [[ 5.68142757e-02  3.05343443e-03]]\n",
      "\n",
      "  [[ 3.78390178e-06  3.69705493e-04]]]\n",
      "\n",
      "\n",
      " [[[-5.62750734e-02 -2.67585572e-02]]\n",
      "\n",
      "  [[ 2.35051066e-02  1.18047073e-02]]\n",
      "\n",
      "  [[-5.07314727e-02  2.26592030e-02]]]\n",
      "\n",
      "\n",
      " [[[-7.90857524e-02  1.89238880e-02]]\n",
      "\n",
      "  [[-8.45665634e-02 -6.78109284e-03]]\n",
      "\n",
      "  [[-2.30094567e-02 -9.67712421e-03]]]]\n",
      "Bias:\n",
      "[ 0.10969219 -0.0206231 ]\n",
      "Loss: 0.16551606357097626\n",
      "\u001b[1m1875/1875\u001b[0m \u001b[32m━━━━━━━━━━━━━━━━━━━━\u001b[0m\u001b[37m\u001b[0m \u001b[1m5s\u001b[0m 3ms/step - accuracy: 0.9537 - loss: 0.1581\n",
      "Epoch 5/10\n",
      "\u001b[1m1861/1875\u001b[0m \u001b[32m━━━━━━━━━━━━━━━━━━━\u001b[0m\u001b[37m━\u001b[0m \u001b[1m0s\u001b[0m 2ms/step - accuracy: 0.9546 - loss: 0.1545\n",
      "Epoch 5:\n",
      "Weights:\n",
      "[[[[-0.00287708  0.01240389]]\n",
      "\n",
      "  [[ 0.05671388  0.00126667]]\n",
      "\n",
      "  [[-0.00129891 -0.00390658]]]\n",
      "\n",
      "\n",
      " [[[-0.03777498 -0.02426106]]\n",
      "\n",
      "  [[ 0.023572    0.01634733]]\n",
      "\n",
      "  [[-0.04254347  0.02799267]]]\n",
      "\n",
      "\n",
      " [[[-0.06889391  0.0121511 ]]\n",
      "\n",
      "  [[-0.10977948 -0.00580478]]\n",
      "\n",
      "  [[-0.0099132  -0.01169785]]]]\n",
      "Bias:\n",
      "[ 0.12091918 -0.05461708]\n",
      "Loss: 0.1582615226507187\n",
      "\u001b[1m1875/1875\u001b[0m \u001b[32m━━━━━━━━━━━━━━━━━━━━\u001b[0m\u001b[37m\u001b[0m \u001b[1m4s\u001b[0m 2ms/step - accuracy: 0.9546 - loss: 0.1545\n",
      "Epoch 6/10\n",
      "\u001b[1m1858/1875\u001b[0m \u001b[32m━━━━━━━━━━━━━━━━━━━\u001b[0m\u001b[37m━\u001b[0m \u001b[1m0s\u001b[0m 3ms/step - accuracy: 0.9582 - loss: 0.1426\n",
      "Epoch 6:\n",
      "Weights:\n",
      "[[[[-0.00397573  0.00703091]]\n",
      "\n",
      "  [[ 0.05200599  0.00222742]]\n",
      "\n",
      "  [[ 0.00269898 -0.00458233]]]\n",
      "\n",
      "\n",
      " [[[-0.04298343 -0.02332956]]\n",
      "\n",
      "  [[ 0.02242953  0.01733499]]\n",
      "\n",
      "  [[-0.04749436  0.02482499]]]\n",
      "\n",
      "\n",
      " [[[-0.05811021  0.01311305]]\n",
      "\n",
      "  [[-0.11268653 -0.00434172]]\n",
      "\n",
      "  [[-0.01747721 -0.01075555]]]]\n",
      "Bias:\n",
      "[ 0.13813032 -0.12672894]\n",
      "Loss: 0.15481151640415192\n",
      "\u001b[1m1875/1875\u001b[0m \u001b[32m━━━━━━━━━━━━━━━━━━━━\u001b[0m\u001b[37m\u001b[0m \u001b[1m5s\u001b[0m 3ms/step - accuracy: 0.9581 - loss: 0.1427\n",
      "Epoch 7/10\n",
      "\u001b[1m1855/1875\u001b[0m \u001b[32m━━━━━━━━━━━━━━━━━━━\u001b[0m\u001b[37m━\u001b[0m \u001b[1m0s\u001b[0m 3ms/step - accuracy: 0.9603 - loss: 0.1298\n",
      "Epoch 7:\n",
      "Weights:\n",
      "[[[[-0.00631036  0.00656776]]\n",
      "\n",
      "  [[ 0.05062589  0.00195942]]\n",
      "\n",
      "  [[ 0.00477093 -0.00863374]]]\n",
      "\n",
      "\n",
      " [[[-0.04204939 -0.02100369]]\n",
      "\n",
      "  [[ 0.02146281  0.01562306]]\n",
      "\n",
      "  [[-0.03578792  0.02491642]]]\n",
      "\n",
      "\n",
      " [[[-0.05237994  0.00878008]]\n",
      "\n",
      "  [[-0.08023357 -0.005188  ]]\n",
      "\n",
      "  [[-0.00994568 -0.00803833]]]]\n",
      "Bias:\n",
      "[ 0.14245526 -0.21233527]\n",
      "Loss: 0.14029498398303986\n",
      "\u001b[1m1875/1875\u001b[0m \u001b[32m━━━━━━━━━━━━━━━━━━━━\u001b[0m\u001b[37m\u001b[0m \u001b[1m5s\u001b[0m 3ms/step - accuracy: 0.9602 - loss: 0.1299\n",
      "Epoch 8/10\n",
      "\u001b[1m1865/1875\u001b[0m \u001b[32m━━━━━━━━━━━━━━━━━━━\u001b[0m\u001b[37m━\u001b[0m \u001b[1m0s\u001b[0m 3ms/step - accuracy: 0.9618 - loss: 0.1268\n",
      "Epoch 8:\n",
      "Weights:\n",
      "[[[[-0.00435495  0.005628  ]]\n",
      "\n",
      "  [[ 0.0517213   0.00019968]]\n",
      "\n",
      "  [[ 0.00301027 -0.01120971]]]\n",
      "\n",
      "\n",
      " [[[-0.04754231 -0.0222251 ]]\n",
      "\n",
      "  [[ 0.02282399  0.01551396]]\n",
      "\n",
      "  [[-0.03572139  0.02789418]]]\n",
      "\n",
      "\n",
      " [[[-0.07807879  0.01127806]]\n",
      "\n",
      "  [[-0.08522308 -0.00546804]]\n",
      "\n",
      "  [[-0.01559214 -0.01070487]]]]\n",
      "Bias:\n",
      "[ 0.14219795 -0.2816119 ]\n",
      "Loss: 0.13731423020362854\n",
      "\u001b[1m1875/1875\u001b[0m \u001b[32m━━━━━━━━━━━━━━━━━━━━\u001b[0m\u001b[37m\u001b[0m \u001b[1m5s\u001b[0m 3ms/step - accuracy: 0.9618 - loss: 0.1269\n",
      "Epoch 9/10\n",
      "\u001b[1m1861/1875\u001b[0m \u001b[32m━━━━━━━━━━━━━━━━━━━\u001b[0m\u001b[37m━\u001b[0m \u001b[1m0s\u001b[0m 3ms/step - accuracy: 0.9652 - loss: 0.1215\n",
      "Epoch 9:\n",
      "Weights:\n",
      "[[[[-0.00778089  0.00713419]]\n",
      "\n",
      "  [[ 0.05267054  0.00641166]]\n",
      "\n",
      "  [[ 0.00669947 -0.01434215]]]\n",
      "\n",
      "\n",
      " [[[-0.04209421 -0.02109796]]\n",
      "\n",
      "  [[ 0.01660132  0.0154753 ]]\n",
      "\n",
      "  [[-0.03833904  0.02988654]]]\n",
      "\n",
      "\n",
      " [[[-0.07944768  0.01374871]]\n",
      "\n",
      "  [[-0.10098546 -0.0028186 ]]\n",
      "\n",
      "  [[-0.01545893 -0.00917475]]]]\n",
      "Bias:\n",
      "[ 0.14154083 -0.3510843 ]\n",
      "Loss: 0.13069836795330048\n",
      "\u001b[1m1875/1875\u001b[0m \u001b[32m━━━━━━━━━━━━━━━━━━━━\u001b[0m\u001b[37m\u001b[0m \u001b[1m5s\u001b[0m 3ms/step - accuracy: 0.9652 - loss: 0.1216\n",
      "Epoch 10/10\n",
      "\u001b[1m1871/1875\u001b[0m \u001b[32m━━━━━━━━━━━━━━━━━━━\u001b[0m\u001b[37m━\u001b[0m \u001b[1m0s\u001b[0m 3ms/step - accuracy: 0.9637 - loss: 0.1231\n",
      "Epoch 10:\n",
      "Weights:\n",
      "[[[[-0.01136156  0.00697402]]\n",
      "\n",
      "  [[ 0.04909201  0.00462327]]\n",
      "\n",
      "  [[ 0.00775746 -0.01635584]]]\n",
      "\n",
      "\n",
      " [[[-0.03457316 -0.02541073]]\n",
      "\n",
      "  [[ 0.01867523  0.01709162]]\n",
      "\n",
      "  [[-0.03640423  0.02897108]]]\n",
      "\n",
      "\n",
      " [[[-0.05410308  0.01241665]]\n",
      "\n",
      "  [[-0.08275276  0.00048587]]\n",
      "\n",
      "  [[-0.01827537 -0.00747061]]]]\n",
      "Bias:\n",
      "[ 0.14548723 -0.43240392]\n",
      "Loss: 0.13000960648059845\n",
      "\u001b[1m1875/1875\u001b[0m \u001b[32m━━━━━━━━━━━━━━━━━━━━\u001b[0m\u001b[37m\u001b[0m \u001b[1m5s\u001b[0m 3ms/step - accuracy: 0.9637 - loss: 0.1231\n"
     ]
    },
    {
     "data": {
      "text/plain": [
       "<keras.src.callbacks.history.History at 0x258c06cda20>"
      ]
     },
     "execution_count": 10,
     "metadata": {},
     "output_type": "execute_result"
    }
   ],
   "source": [
    "model.compile(optimizer='adam',\n",
    "              loss='categorical_crossentropy',\n",
    "              metrics=['accuracy'])\n",
    "\n",
    "model.fit(x_full, y_full, epochs=10, callbacks=[WeightsCallback()])"
   ]
  },
  {
   "cell_type": "code",
   "execution_count": 11,
   "metadata": {},
   "outputs": [
    {
     "name": "stdout",
     "output_type": "stream",
     "text": [
      "Weights:\n",
      "[[[[-0.01136156  0.00697402]]\n",
      "\n",
      "  [[ 0.04909201  0.00462327]]\n",
      "\n",
      "  [[ 0.00775746 -0.01635584]]]\n",
      "\n",
      "\n",
      " [[[-0.03457316 -0.02541073]]\n",
      "\n",
      "  [[ 0.01867523  0.01709162]]\n",
      "\n",
      "  [[-0.03640423  0.02897108]]]\n",
      "\n",
      "\n",
      " [[[-0.05410308  0.01241665]]\n",
      "\n",
      "  [[-0.08275276  0.00048587]]\n",
      "\n",
      "  [[-0.01827537 -0.00747061]]]]\n",
      "Bias:\n",
      "[ 0.14548723 -0.43240392]\n"
     ]
    }
   ],
   "source": [
    "weights_final=(model.layers[0].get_weights()[0])\n",
    "bias_final=(model.layers[0].get_weights()[1])\n",
    "print(f\"Weights:\\n{weights_final}\")\n",
    "print(f\"Bias:\\n{bias_final}\")"
   ]
  },
  {
   "cell_type": "code",
   "execution_count": 12,
   "metadata": {},
   "outputs": [
    {
     "data": {
      "image/png": "[encoded data removed]",
      "text/plain": [
       "<Figure size 1000x500 with 2 Axes>"
      ]
     },
     "metadata": {},
     "output_type": "display_data"
    }
   ],
   "source": [
    "fig, axes = plt.subplots(1, 2, figsize=(10, 5))\n",
    "ax = axes[0]\n",
    "ax.imshow(weights_final[:, :, 0, 0], cmap='gray')\n",
    "ax.set_title('Filter 1')\n",
    "ax.axis('off')\n",
    "for (i, j), val in np.ndenumerate(weights_final[:, :, 0, 0]):\n",
    "    ax.text(j, i, f'{val:.2f}', ha='center', va='center', color='red', fontsize=8)\n",
    "ax = axes[1]\n",
    "ax.imshow(weights_final[:, :, 0, 1], cmap='gray')\n",
    "ax.set_title('Filter 2')\n",
    "ax.axis('off')\n",
    "for (i, j), val in np.ndenumerate(weights_final[:, :, 0, 1]):\n",
    "    ax.text(j, i, f'{val:.2f}', ha='center', va='center', color='red', fontsize=8)\n",
    "plt.show()"
   ]
  },
  {
   "cell_type": "code",
   "execution_count": 13,
   "metadata": {},
   "outputs": [
    {
     "name": "stdout",
     "output_type": "stream",
     "text": [
      "Conv Layer 1 Weights:\n",
      "Mean: -0.017993943765759468\n",
      "Variance: 0.0014070821925997734\n",
      "Conv Layer 1 Biases:\n",
      "Mean: 0.1454872339963913\n",
      "Variance: 0.0\n",
      "------------------------------\n",
      "Conv Layer 2 Weights:\n",
      "Mean: 0.002369481837376952\n",
      "Variance: 0.00025270742480643094\n",
      "Conv Layer 2 Biases:\n",
      "Mean: -0.43240392208099365\n",
      "Variance: 0.0\n",
      "------------------------------\n"
     ]
    }
   ],
   "source": [
    "for i in range(2):\n",
    "    mean = np.mean(weights_final[:, :, 0, i])\n",
    "    variance = np.var(weights_final[:, :, 0, i])\n",
    "    print(f\"Conv Layer {i + 1} Weights:\")\n",
    "    print(f\"Mean: {mean}\")\n",
    "    print(f\"Variance: {variance}\")\n",
    "    \n",
    "    mean = np.mean(bias_final[i])\n",
    "    variance = np.var(bias_final[i])\n",
    "    print(f\"Conv Layer {i + 1} Biases:\")\n",
    "    print(f\"Mean: {mean}\")\n",
    "    print(f\"Variance: {variance}\")\n",
    "    print(\"-\" * 30)\n",
    "\n",
    "save_model_statistics('5.txt', weights_final, bias_final, 'After Training')\n",
    "save_model_weights('5_weights.txt', weights_final, bias_final, 'After Training')\n",
    "save_kernel_comparison_images('5.png', weights_init, weights_final)"
   ]
  },
  {
   "cell_type": "code",
   "execution_count": 14,
   "metadata": {},
   "outputs": [
    {
     "name": "stdout",
     "output_type": "stream",
     "text": [
      "\u001b[1m313/313\u001b[0m \u001b[32m━━━━━━━━━━━━━━━━━━━━\u001b[0m\u001b[37m\u001b[0m \u001b[1m1s\u001b[0m 1ms/step - accuracy: 0.9432 - loss: 0.2480\n",
      "Test accuracy: 0.9509999752044678\n"
     ]
    }
   ],
   "source": [
    "test_loss, test_acc = model.evaluate(x_test_full, y_test_full)\n",
    "print(f'Test accuracy: {test_acc}')\n"
   ]
  },
  {
   "cell_type": "code",
   "execution_count": 33,
   "metadata": {},
   "outputs": [
    {
     "name": "stdout",
     "output_type": "stream",
     "text": [
      "\u001b[1m313/313\u001b[0m \u001b[32m━━━━━━━━━━━━━━━━━━━━\u001b[0m\u001b[37m\u001b[0m \u001b[1m1s\u001b[0m 3ms/step\n"
     ]
    },
    {
     "data": {
      "text/plain": [
       "[<matplotlib.lines.Line2D at 0x258c0972980>]"
      ]
     },
     "execution_count": 33,
     "metadata": {},
     "output_type": "execute_result"
    },
    {
     "data": {
      "image/png": "[encoded data removed]",
      "text/plain": [
       "<Figure size 640x480 with 1 Axes>"
      ]
     },
     "metadata": {},
     "output_type": "display_data"
    }
   ],
   "source": [
    "predictions = model.predict(x_test_full)\n",
    "plt.plot((predictions[0])) \n"
   ]
  },
  {
   "cell_type": "code",
   "execution_count": 16,
   "metadata": {},
   "outputs": [
    {
     "data": {
      "image/png": "[encoded data removed]",
      "text/plain": [
       "<Figure size 1000x1000 with 25 Axes>"
      ]
     },
     "metadata": {},
     "output_type": "display_data"
    }
   ],
   "source": [
    "plt.figure(figsize=(10, 10))\n",
    "for i in range(25):\n",
    "    plt.subplot(5, 5, i + 1)\n",
    "    plt.xticks([])\n",
    "    plt.yticks([])\n",
    "    plt.grid(False)\n",
    "    plt.imshow(x_test_full[i].reshape(28, 28), cmap=plt.cm.binary)\n",
    "    plt.xlabel(f\"Pred: {np.argmax(predictions[i])}, Actual: {np.argmax(y_test_full[i])}\")\n",
    "plt.show()\n"
   ]
  },
  {
   "cell_type": "code",
   "execution_count": 26,
   "metadata": {},
   "outputs": [
    {
     "name": "stdout",
     "output_type": "stream",
     "text": [
      "[[ 0.00697402  0.00462327 -0.01635584]\n",
      " [-0.02541073  0.01709162  0.02897108]\n",
      " [ 0.01241665  0.00048587 -0.00747061]]\n",
      "(28, 28)\n"
     ]
    }
   ],
   "source": [
    "import numpy as np\n",
    "import matplotlib.pyplot as plt\n",
    "from scipy.signal import convolve2d\n",
    "\n",
    "image = x_test_full[0]\n",
    "image = image[:, :, 0]\n",
    "\n",
    "kernel = weights_final[:,:,0,1]\n",
    "\n",
    "print(kernel)\n",
    "print(image.shape)"
   ]
  },
  {
   "cell_type": "code",
   "execution_count": 27,
   "metadata": {},
   "outputs": [
    {
     "data": {
      "image/png": "[encoded data removed]",
      "text/plain": [
       "<Figure size 1500x500 with 3 Axes>"
      ]
     },
     "metadata": {},
     "output_type": "display_data"
    }
   ],
   "source": [
    "\n",
    "\n",
    "# Perform the convolution operation with no padding and stride of 1\n",
    "convolved_output = convolve2d(image, kernel, mode='valid')\n",
    "\n",
    "# Plotting\n",
    "fig, axs = plt.subplots(1, 3, figsize=(15, 5))\n",
    "\n",
    "# Original image\n",
    "axs[0].imshow(image, cmap='gray', interpolation='none')\n",
    "axs[0].set_title('Original Image')\n",
    "axs[0].axis('off')\n",
    "\n",
    "# Kernel\n",
    "axs[1].imshow(kernel, cmap='gray', interpolation='none')\n",
    "axs[1].set_title('Kernel')\n",
    "axs[1].axis('off')\n",
    "\n",
    "# Convolution output\n",
    "axs[2].imshow(convolved_output, cmap='gray', interpolation='none')\n",
    "axs[2].set_title('Convolution Output')\n",
    "axs[2].axis('off')\n",
    "\n",
    "plt.show()\n"
   ]
  },
  {
   "cell_type": "code",
   "execution_count": 29,
   "metadata": {},
   "outputs": [
    {
     "ename": "ValueError",
     "evalue": "The layer sequential has never been called and thus has no defined input.",
     "output_type": "error",
     "traceback": [
      "\u001b[1;31m---------------------------------------------------------------------------\u001b[0m",
      "\u001b[1;31mValueError\u001b[0m                                Traceback (most recent call last)",
      "Cell \u001b[1;32mIn[29], line 2\u001b[0m\n\u001b[0;32m      1\u001b[0m \u001b[38;5;28;01mfrom\u001b[39;00m \u001b[38;5;21;01mtensorflow\u001b[39;00m\u001b[38;5;21;01m.\u001b[39;00m\u001b[38;5;21;01mkeras\u001b[39;00m\u001b[38;5;21;01m.\u001b[39;00m\u001b[38;5;21;01mmodels\u001b[39;00m \u001b[38;5;28;01mimport\u001b[39;00m Model\n\u001b[1;32m----> 2\u001b[0m dense_layer_model \u001b[38;5;241m=\u001b[39m Model(inputs\u001b[38;5;241m=\u001b[39m\u001b[43mmodel\u001b[49m\u001b[38;5;241;43m.\u001b[39;49m\u001b[43minput\u001b[49m, outputs\u001b[38;5;241m=\u001b[39mmodel\u001b[38;5;241m.\u001b[39mget_layer(index\u001b[38;5;241m=\u001b[39m\u001b[38;5;241m2\u001b[39m)\u001b[38;5;241m.\u001b[39moutput)\n\u001b[0;32m      4\u001b[0m \u001b[38;5;66;03m# Generate dummy input data\u001b[39;00m\n\u001b[0;32m      5\u001b[0m input_data \u001b[38;5;241m=\u001b[39m  x_test_full[\u001b[38;5;241m0\u001b[39m]\n",
      "File \u001b[1;32mc:\\Users\\nandi\\AppData\\Local\\Programs\\Python\\Python310\\lib\\site-packages\\keras\\src\\ops\\operation.py:216\u001b[0m, in \u001b[0;36mOperation.input\u001b[1;34m(self)\u001b[0m\n\u001b[0;32m    206\u001b[0m \u001b[38;5;129m@property\u001b[39m\n\u001b[0;32m    207\u001b[0m \u001b[38;5;28;01mdef\u001b[39;00m \u001b[38;5;21minput\u001b[39m(\u001b[38;5;28mself\u001b[39m):\n\u001b[0;32m    208\u001b[0m \u001b[38;5;250m    \u001b[39m\u001b[38;5;124;03m\"\"\"Retrieves the input tensor(s) of a symbolic operation.\u001b[39;00m\n\u001b[0;32m    209\u001b[0m \n\u001b[0;32m    210\u001b[0m \u001b[38;5;124;03m    Only returns the tensor(s) corresponding to the *first time*\u001b[39;00m\n\u001b[1;32m   (...)\u001b[0m\n\u001b[0;32m    214\u001b[0m \u001b[38;5;124;03m        Input tensor or list of input tensors.\u001b[39;00m\n\u001b[0;32m    215\u001b[0m \u001b[38;5;124;03m    \"\"\"\u001b[39;00m\n\u001b[1;32m--> 216\u001b[0m     \u001b[38;5;28;01mreturn\u001b[39;00m \u001b[38;5;28;43mself\u001b[39;49m\u001b[38;5;241;43m.\u001b[39;49m\u001b[43m_get_node_attribute_at_index\u001b[49m\u001b[43m(\u001b[49m\u001b[38;5;241;43m0\u001b[39;49m\u001b[43m,\u001b[49m\u001b[43m \u001b[49m\u001b[38;5;124;43m\"\u001b[39;49m\u001b[38;5;124;43minput_tensors\u001b[39;49m\u001b[38;5;124;43m\"\u001b[39;49m\u001b[43m,\u001b[49m\u001b[43m \u001b[49m\u001b[38;5;124;43m\"\u001b[39;49m\u001b[38;5;124;43minput\u001b[39;49m\u001b[38;5;124;43m\"\u001b[39;49m\u001b[43m)\u001b[49m\n",
      "File \u001b[1;32mc:\\Users\\nandi\\AppData\\Local\\Programs\\Python\\Python310\\lib\\site-packages\\keras\\src\\ops\\operation.py:247\u001b[0m, in \u001b[0;36mOperation._get_node_attribute_at_index\u001b[1;34m(self, node_index, attr, attr_name)\u001b[0m\n\u001b[0;32m    231\u001b[0m \u001b[38;5;250m\u001b[39m\u001b[38;5;124;03m\"\"\"Private utility to retrieves an attribute (e.g. inputs) from a node.\u001b[39;00m\n\u001b[0;32m    232\u001b[0m \n\u001b[0;32m    233\u001b[0m \u001b[38;5;124;03mThis is used to implement the properties:\u001b[39;00m\n\u001b[1;32m   (...)\u001b[0m\n\u001b[0;32m    244\u001b[0m \u001b[38;5;124;03m    The operation's attribute `attr` at the node of index `node_index`.\u001b[39;00m\n\u001b[0;32m    245\u001b[0m \u001b[38;5;124;03m\"\"\"\u001b[39;00m\n\u001b[0;32m    246\u001b[0m \u001b[38;5;28;01mif\u001b[39;00m \u001b[38;5;129;01mnot\u001b[39;00m \u001b[38;5;28mself\u001b[39m\u001b[38;5;241m.\u001b[39m_inbound_nodes:\n\u001b[1;32m--> 247\u001b[0m     \u001b[38;5;28;01mraise\u001b[39;00m \u001b[38;5;167;01mValueError\u001b[39;00m(\n\u001b[0;32m    248\u001b[0m         \u001b[38;5;124mf\u001b[39m\u001b[38;5;124m\"\u001b[39m\u001b[38;5;124mThe layer \u001b[39m\u001b[38;5;132;01m{\u001b[39;00m\u001b[38;5;28mself\u001b[39m\u001b[38;5;241m.\u001b[39mname\u001b[38;5;132;01m}\u001b[39;00m\u001b[38;5;124m has never been called \u001b[39m\u001b[38;5;124m\"\u001b[39m\n\u001b[0;32m    249\u001b[0m         \u001b[38;5;124mf\u001b[39m\u001b[38;5;124m\"\u001b[39m\u001b[38;5;124mand thus has no defined \u001b[39m\u001b[38;5;132;01m{\u001b[39;00mattr_name\u001b[38;5;132;01m}\u001b[39;00m\u001b[38;5;124m.\u001b[39m\u001b[38;5;124m\"\u001b[39m\n\u001b[0;32m    250\u001b[0m     )\n\u001b[0;32m    251\u001b[0m \u001b[38;5;28;01mif\u001b[39;00m \u001b[38;5;129;01mnot\u001b[39;00m \u001b[38;5;28mlen\u001b[39m(\u001b[38;5;28mself\u001b[39m\u001b[38;5;241m.\u001b[39m_inbound_nodes) \u001b[38;5;241m>\u001b[39m node_index:\n\u001b[0;32m    252\u001b[0m     \u001b[38;5;28;01mraise\u001b[39;00m \u001b[38;5;167;01mValueError\u001b[39;00m(\n\u001b[0;32m    253\u001b[0m         \u001b[38;5;124mf\u001b[39m\u001b[38;5;124m\"\u001b[39m\u001b[38;5;124mAsked to get \u001b[39m\u001b[38;5;132;01m{\u001b[39;00mattr_name\u001b[38;5;132;01m}\u001b[39;00m\u001b[38;5;124m at node \u001b[39m\u001b[38;5;124m\"\u001b[39m\n\u001b[0;32m    254\u001b[0m         \u001b[38;5;124mf\u001b[39m\u001b[38;5;124m\"\u001b[39m\u001b[38;5;132;01m{\u001b[39;00mnode_index\u001b[38;5;132;01m}\u001b[39;00m\u001b[38;5;124m, but the operation has only \u001b[39m\u001b[38;5;124m\"\u001b[39m\n\u001b[0;32m    255\u001b[0m         \u001b[38;5;124mf\u001b[39m\u001b[38;5;124m\"\u001b[39m\u001b[38;5;132;01m{\u001b[39;00m\u001b[38;5;28mlen\u001b[39m(\u001b[38;5;28mself\u001b[39m\u001b[38;5;241m.\u001b[39m_inbound_nodes)\u001b[38;5;132;01m}\u001b[39;00m\u001b[38;5;124m inbound nodes.\u001b[39m\u001b[38;5;124m\"\u001b[39m\n\u001b[0;32m    256\u001b[0m     )\n",
      "\u001b[1;31mValueError\u001b[0m: The layer sequential has never been called and thus has no defined input."
     ]
    }
   ],
   "source": [
    "from tensorflow.keras.models import Model\n",
    "dense_layer_model = Model(inputs=model.input, outputs=model.get_layer(index=2).output)\n",
    "\n",
    "# Generate dummy input data\n",
    "input_data =  x_test_full[0]\n",
    "model.build((None, 28, 28, 1))\n",
    "# Get the output of the dense layer\n",
    "dense_output = dense_layer_model.predict(input_data)\n",
    "\n",
    "# Print the shape and values of the dense output\n",
    "print(\"Dense layer output shape:\", dense_output.shape)\n",
    "print(\"Dense layer output values:\", dense_output)\n",
    "\n",
    "# Visualize the output of the dense layer\n",
    "plt.figure(figsize=(10, 6))\n",
    "plt.bar(range(dense_output.shape[1]), dense_output[0])\n",
    "plt.xlabel('Class')\n",
    "plt.ylabel('Probability')\n",
    "plt.title('Dense Layer Output')\n",
    "plt.xticks(range(dense_output.shape[1]), [f'Class {i}' for i in range(dense_output.shape[1])])\n",
    "plt.show()"
   ]
  }
 ],
 "metadata": {
  "kernelspec": {
   "display_name": "Python 3",
   "language": "python",
   "name": "python3"
  },
  "language_info": {
   "codemirror_mode": {
    "name": "ipython",
    "version": 3
   },
   "file_extension": ".py",
   "mimetype": "text/x-python",
   "name": "python",
   "nbconvert_exporter": "python",
   "pygments_lexer": "ipython3",
   "version": "3.10.7"
  }
 },
 "nbformat": 4,
 "nbformat_minor": 2
}
