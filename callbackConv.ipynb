{
 "cells": [
  {
   "cell_type": "code",
   "execution_count": 135,
   "metadata": {},
   "outputs": [],
   "source": [
    "import logging\n",
    "import tensorflow as tf\n",
    "import numpy as np\n",
    "from tensorflow import keras\n",
    "from tensorflow.keras import layers, models\n",
    "import matplotlib.pyplot as plt\n",
    "import seaborn as sns\n",
    "from tensorflow.keras.callbacks import Callback\n",
    "from keras.utils import to_categorical"
   ]
  },
  {
   "cell_type": "code",
   "execution_count": 136,
   "metadata": {},
   "outputs": [],
   "source": [
    "# Function to compute and save statistics\n",
    "def save_model_statistics(file_path, filters, biases, stage):\n",
    "    with open(file_path, 'a') as f:\n",
    "        f.write(\"-\" * 100 + \"\\n\")\n",
    "        f.write(f\"{stage}:\\n\\n\")\n",
    "        for i in range(2):\n",
    "            mean = np.mean(filters[:, :, 0, i])\n",
    "            variance = np.var(filters[:, :, 0, i])\n",
    "            f.write(f\"Kernel {i + 1} Weights:\\n\")\n",
    "            f.write(f\"Mean: {mean}\\n\")\n",
    "            f.write(f\"Variance: {variance}\\n\")\n",
    "\n",
    "            mean = np.mean(biases[i])\n",
    "            variance = np.var(biases[i])\n",
    "            f.write(f\"Kernel {i + 1} Biases:\\n\")\n",
    "            f.write(f\"Mean: {mean}\\n\")\n",
    "            f.write(f\"Variance: {variance}\\n\")\n",
    "\n",
    "# Function to save weights\n",
    "def save_model_weights(file_path, filters, biases, stage):\n",
    "    with open(file_path, 'a') as f:\n",
    "        f.write(\"-\" * 10 + \"\\n\")\n",
    "        f.write(f\"\\n{stage}:\\n\")\n",
    "        for i in range(2):\n",
    "            x = (filters[:, :, 0, i])\n",
    "            y = (biases[i])\n",
    "            f.write(f\"Kernel {i + 1}\\n\")\n",
    "            f.write(f\"\\n{x}\\n\")\n",
    "            f.write(f\"\\n{y}\\n\")\n",
    "\n",
    "# Function to save kernel comparison images\n",
    "def save_kernel_comparison_images(file_path, filters_before, filters_after):\n",
    "    fig, axes = plt.subplots(2, 1, figsize=(10, 10))\n",
    "    \n",
    "    for i in range(2):\n",
    "        ax = axes[i]\n",
    "        kernel = np.concatenate([filters_before[:, :, 0, i], filters_after[:, :, 0, i]], axis=1)\n",
    "        ax.imshow(kernel, cmap='gray')\n",
    "        #plt.set_title(f'Kernel {i + 1}')\n",
    "        for (x, z), val in np.ndenumerate(kernel):\n",
    "            ax.text(z, x, f'{val:.4f}', ha='center', va='center', color='red', fontsize=8)\n",
    "        ax.axis('off')\n",
    "\n",
    "    plt.tight_layout()\n",
    "    plt.savefig(file_path)\n",
    "    plt.close()\n"
   ]
  },
  {
   "cell_type": "code",
   "execution_count": 137,
   "metadata": {},
   "outputs": [],
   "source": [
    "class WeightsCallback(tf.keras.callbacks.Callback):\n",
    "    def on_epoch_end(self, epoch, logs=None):\n",
    "        weights = self.model.layers[0].get_weights()[0]\n",
    "        bias = self.model.layers[0].get_weights()[1]\n",
    "        print(f\"\\nEpoch {epoch + 1}:\")\n",
    "        print(f\"Weights:\\n{weights}\")\n",
    "        print(f\"Bias:\\n{bias}\")\n",
    "        print(f\"Loss: {logs['loss']}\")\n",
    "        save_model_weights(\"6_weights.txt\", weights, bias, epoch)\n"
   ]
  },
  {
   "cell_type": "code",
   "execution_count": 138,
   "metadata": {},
   "outputs": [],
   "source": [
    "# Load MNIST data\n",
    "mnist = keras.datasets.mnist\n",
    "(x_full, y_full), (x_test_full, y_test_full) = mnist.load_data()\n",
    "\n",
    "x_full = x_full.reshape(-1, 28, 28, 1)\n",
    "x_test_full = x_test_full.reshape(-1, 28, 28, 1)\n",
    "y_full = to_categorical(y_full, num_classes=10)\n",
    "y_test_full=to_categorical(y_test_full, num_classes=10)"
   ]
  },
  {
   "cell_type": "code",
   "execution_count": 139,
   "metadata": {},
   "outputs": [
    {
     "name": "stdout",
     "output_type": "stream",
     "text": [
      "(60000, 28, 28, 1)\n",
      "(28, 28, 1)\n",
      "(60000, 10)\n",
      "[0. 0. 0. 0. 0. 1. 0. 0. 0. 0.]\n"
     ]
    }
   ],
   "source": [
    "print(x_full.shape)\n",
    "print(x_full[0].shape)\n",
    "print(y_full.shape)\n",
    "print(y_full[0])"
   ]
  },
  {
   "cell_type": "code",
   "execution_count": 140,
   "metadata": {},
   "outputs": [],
   "source": [
    "model = models.Sequential()\n",
    "model.add(layers.Conv2D(2, (3, 3), activation='relu', input_shape=(28, 28, 1)))\n",
    "model.add(layers.Flatten())\n",
    "#model.add(layers.Dense(64, activation='relu'))\n",
    "model.add(layers.Dense(10, activation='softmax'))"
   ]
  },
  {
   "cell_type": "code",
   "execution_count": 141,
   "metadata": {},
   "outputs": [
    {
     "name": "stdout",
     "output_type": "stream",
     "text": [
      "Weights:\n",
      "(3, 3, 1, 2)\n",
      "Bias:\n",
      "(2,)\n",
      "Weights:\n",
      "[[[[-0.36858958 -0.14292231]]\n",
      "\n",
      "  [[ 0.12592533 -0.4226858 ]]\n",
      "\n",
      "  [[-0.38551733 -0.3370715 ]]]\n",
      "\n",
      "\n",
      " [[[-0.30056626 -0.29810524]]\n",
      "\n",
      "  [[ 0.35903987  0.09952566]]\n",
      "\n",
      "  [[-0.04231331 -0.35755306]]]\n",
      "\n",
      "\n",
      " [[[-0.04215842 -0.30991542]]\n",
      "\n",
      "  [[-0.10605878  0.26562205]]\n",
      "\n",
      "  [[-0.18122673  0.2530637 ]]]]\n",
      "Bias:\n",
      "[0. 0.]\n"
     ]
    }
   ],
   "source": [
    "weights_init=(model.layers[0].get_weights()[0])\n",
    "bias_init=(model.layers[0].get_weights()[1])\n",
    "print(f\"Weights:\\n{weights_init.shape}\")\n",
    "print(f\"Bias:\\n{bias_init.shape}\")\n",
    "print(f\"Weights:\\n{weights_init}\")\n",
    "print(f\"Bias:\\n{bias_init}\")\n"
   ]
  },
  {
   "cell_type": "code",
   "execution_count": 142,
   "metadata": {},
   "outputs": [
    {
     "data": {
      "image/png": "[encoded data removed]",
      "text/plain": [
       "<Figure size 1000x500 with 2 Axes>"
      ]
     },
     "metadata": {},
     "output_type": "display_data"
    }
   ],
   "source": [
    "fig, axes = plt.subplots(1, 2, figsize=(10, 5))\n",
    "\n",
    "ax = axes[0]\n",
    "ax.imshow(weights_init[:, :, 0, 0], cmap='gray')\n",
    "ax.set_title('Filter 1')\n",
    "ax.axis('off')\n",
    "for (i, j), val in np.ndenumerate(weights_init[:, :, 0, 0]):\n",
    "    ax.text(j, i, f'{val:.2f}', ha='center', va='center', color='red', fontsize=8)\n",
    "\n",
    "ax = axes[1]\n",
    "ax.imshow(weights_init[:, :, 0, 1], cmap='gray')\n",
    "ax.set_title('Filter 2')\n",
    "ax.axis('off')\n",
    "for (i, j), val in np.ndenumerate(weights_init[:, :, 0, 1]):\n",
    "    ax.text(j, i, f'{val:.2f}', ha='center', va='center', color='red', fontsize=8)\n",
    "plt.show()"
   ]
  },
  {
   "cell_type": "code",
   "execution_count": 143,
   "metadata": {},
   "outputs": [
    {
     "name": "stdout",
     "output_type": "stream",
     "text": [
      "Conv Layer 1 Weights:\n",
      "Mean: -0.1046072393655777\n",
      "Variance: 0.052084892988204956\n",
      "Conv Layer 1 Biases:\n",
      "Mean: 0.0\n",
      "Variance: 0.0\n",
      "------------------------------\n",
      "Conv Layer 2 Weights:\n",
      "Mean: -0.13889354467391968\n",
      "Variance: 0.06626051664352417\n",
      "Conv Layer 2 Biases:\n",
      "Mean: 0.0\n",
      "Variance: 0.0\n",
      "------------------------------\n"
     ]
    }
   ],
   "source": [
    "for i in range(2):\n",
    "    mean = np.mean(weights_init[:, :, 0, i])\n",
    "    variance = np.var(weights_init[:, :, 0, i])\n",
    "    print(f\"Conv Layer {i + 1} Weights:\")\n",
    "    print(f\"Mean: {mean}\")\n",
    "    print(f\"Variance: {variance}\")\n",
    "    \n",
    "    mean = np.mean(bias_init[i])\n",
    "    variance = np.var(bias_init[i])\n",
    "    print(f\"Conv Layer {i + 1} Biases:\")\n",
    "    print(f\"Mean: {mean}\")\n",
    "    print(f\"Variance: {variance}\")\n",
    "    print(\"-\" * 30)\n",
    "\n",
    "save_model_statistics('6.txt', weights_init, bias_init, 'Before Training')\n",
    "save_model_weights('6_weights.txt', weights_init, bias_init, 'Before Training')"
   ]
  },
  {
   "cell_type": "code",
   "execution_count": 144,
   "metadata": {},
   "outputs": [
    {
     "name": "stdout",
     "output_type": "stream",
     "text": [
      "Epoch 1/10\n",
      "\u001b[1m1836/1875\u001b[0m \u001b[32m━━━━━━━━━━━━━━━━━━━\u001b[0m\u001b[37m━\u001b[0m \u001b[1m0s\u001b[0m 959us/step - accuracy: 0.6750 - loss: 1.9735\n",
      "Epoch 1:\n",
      "Weights:\n",
      "[[[[-0.41626552 -0.0339209 ]]\n",
      "\n",
      "  [[-0.01123574 -0.20915963]]\n",
      "\n",
      "  [[-0.4451945  -0.08020457]]]\n",
      "\n",
      "\n",
      " [[[-0.3327539  -0.23804627]]\n",
      "\n",
      "  [[ 0.2125066   0.08596986]]\n",
      "\n",
      "  [[-0.09437206 -0.20650136]]]\n",
      "\n",
      "\n",
      " [[[-0.05916286 -0.18011753]]\n",
      "\n",
      "  [[-0.17877239  0.09161878]]\n",
      "\n",
      "  [[-0.19995956  0.12409746]]]]\n",
      "Bias:\n",
      "[-0.12996191  0.23402052]\n",
      "Loss: 0.9155928492546082\n",
      "\u001b[1m1875/1875\u001b[0m \u001b[32m━━━━━━━━━━━━━━━━━━━━\u001b[0m\u001b[37m\u001b[0m \u001b[1m2s\u001b[0m 955us/step - accuracy: 0.6774 - loss: 1.9511\n",
      "Epoch 2/10\n",
      "\u001b[1m1852/1875\u001b[0m \u001b[32m━━━━━━━━━━━━━━━━━━━\u001b[0m\u001b[37m━\u001b[0m \u001b[1m0s\u001b[0m 955us/step - accuracy: 0.8806 - loss: 0.3983\n",
      "Epoch 2:\n",
      "Weights:\n",
      "[[[[-0.43323034 -0.0596499 ]]\n",
      "\n",
      "  [[ 0.02879489 -0.09614517]]\n",
      "\n",
      "  [[-0.42454183 -0.0331276 ]]]\n",
      "\n",
      "\n",
      " [[[-0.32921603 -0.0644661 ]]\n",
      "\n",
      "  [[ 0.20695488  0.0682204 ]]\n",
      "\n",
      "  [[-0.05836762 -0.09174013]]]\n",
      "\n",
      "\n",
      " [[[-0.04944309 -0.05634461]]\n",
      "\n",
      "  [[-0.18727916  0.01457585]]\n",
      "\n",
      "  [[-0.14792638  0.0803935 ]]]]\n",
      "Bias:\n",
      "[-0.02288125  0.36073846]\n",
      "Loss: 0.38452067971229553\n",
      "\u001b[1m1875/1875\u001b[0m \u001b[32m━━━━━━━━━━━━━━━━━━━━\u001b[0m\u001b[37m\u001b[0m \u001b[1m2s\u001b[0m 955us/step - accuracy: 0.8807 - loss: 0.3981\n",
      "Epoch 3/10\n",
      "\u001b[1m1828/1875\u001b[0m \u001b[32m━━━━━━━━━━━━━━━━━━━\u001b[0m\u001b[37m━\u001b[0m \u001b[1m0s\u001b[0m 954us/step - accuracy: 0.9023 - loss: 0.3181\n",
      "Epoch 3:\n",
      "Weights:\n",
      "[[[[-3.8726404e-01 -6.9818117e-02]]\n",
      "\n",
      "  [[ 8.2104817e-02 -6.4557545e-02]]\n",
      "\n",
      "  [[-3.9990425e-01 -3.6673926e-02]]]\n",
      "\n",
      "\n",
      " [[[-2.9729953e-01 -3.9744638e-02]]\n",
      "\n",
      "  [[ 2.1881938e-01  5.8784131e-02]]\n",
      "\n",
      "  [[-4.5244575e-02 -5.8056492e-02]]]\n",
      "\n",
      "\n",
      " [[[-2.1485040e-02 -2.9756950e-02]]\n",
      "\n",
      "  [[-1.9423580e-01 -3.1263681e-04]]\n",
      "\n",
      "  [[-9.9831313e-02  6.3033171e-02]]]]\n",
      "Bias:\n",
      "[-0.01082107  0.4731785 ]\n",
      "Loss: 0.32050803303718567\n",
      "\u001b[1m1875/1875\u001b[0m \u001b[32m━━━━━━━━━━━━━━━━━━━━\u001b[0m\u001b[37m\u001b[0m \u001b[1m2s\u001b[0m 952us/step - accuracy: 0.9022 - loss: 0.3182\n",
      "Epoch 4/10\n",
      "\u001b[1m1830/1875\u001b[0m \u001b[32m━━━━━━━━━━━━━━━━━━━\u001b[0m\u001b[37m━\u001b[0m \u001b[1m0s\u001b[0m 933us/step - accuracy: 0.9139 - loss: 0.2843\n",
      "Epoch 4:\n",
      "Weights:\n",
      "[[[[-0.3055195  -0.05742032]]\n",
      "\n",
      "  [[ 0.08462033 -0.0504385 ]]\n",
      "\n",
      "  [[-0.35894585 -0.03369496]]]\n",
      "\n",
      "\n",
      " [[[-0.29733324 -0.02973318]]\n",
      "\n",
      "  [[ 0.18515293  0.0428566 ]]\n",
      "\n",
      "  [[-0.02491428 -0.05039977]]]\n",
      "\n",
      "\n",
      " [[[ 0.04145607 -0.02159373]]\n",
      "\n",
      "  [[-0.21025307 -0.00298482]]\n",
      "\n",
      "  [[-0.10307287  0.05345529]]]]\n",
      "Bias:\n",
      "[-0.00444785  0.54238236]\n",
      "Loss: 0.2889499068260193\n",
      "\u001b[1m1875/1875\u001b[0m \u001b[32m━━━━━━━━━━━━━━━━━━━━\u001b[0m\u001b[37m\u001b[0m \u001b[1m2s\u001b[0m 934us/step - accuracy: 0.9139 - loss: 0.2844\n",
      "Epoch 5/10\n",
      "\u001b[1m1810/1875\u001b[0m \u001b[32m━━━━━━━━━━━━━━━━━━━\u001b[0m\u001b[37m━\u001b[0m \u001b[1m0s\u001b[0m 884us/step - accuracy: 0.9315 - loss: 0.2249\n",
      "Epoch 5:\n",
      "Weights:\n",
      "[[[[-0.1950774  -0.06275786]]\n",
      "\n",
      "  [[ 0.04801401 -0.05243917]]\n",
      "\n",
      "  [[-0.30437997 -0.02868428]]]\n",
      "\n",
      "\n",
      " [[[-0.1495972  -0.03068691]]\n",
      "\n",
      "  [[ 0.0893813   0.04606237]]\n",
      "\n",
      "  [[ 0.00254502 -0.0445218 ]]]\n",
      "\n",
      "\n",
      " [[[ 0.06123197 -0.02700143]]\n",
      "\n",
      "  [[-0.10987284 -0.00172362]]\n",
      "\n",
      "  [[-0.03702238  0.0469908 ]]]]\n",
      "Bias:\n",
      "[-0.00143466  0.5531742 ]\n",
      "Loss: 0.22052615880966187\n",
      "\u001b[1m1875/1875\u001b[0m \u001b[32m━━━━━━━━━━━━━━━━━━━━\u001b[0m\u001b[37m\u001b[0m \u001b[1m2s\u001b[0m 882us/step - accuracy: 0.9315 - loss: 0.2248\n",
      "Epoch 6/10\n",
      "\u001b[1m1871/1875\u001b[0m \u001b[32m━━━━━━━━━━━━━━━━━━━\u001b[0m\u001b[37m━\u001b[0m \u001b[1m0s\u001b[0m 888us/step - accuracy: 0.9487 - loss: 0.1647\n",
      "Epoch 6:\n",
      "Weights:\n",
      "[[[[-0.13547437 -0.04708175]]\n",
      "\n",
      "  [[ 0.0411397  -0.04965671]]\n",
      "\n",
      "  [[-0.23694703 -0.02544147]]]\n",
      "\n",
      "\n",
      " [[[-0.08973099 -0.03784891]]\n",
      "\n",
      "  [[ 0.0353822   0.04929509]]\n",
      "\n",
      "  [[-0.00808857 -0.03985298]]]\n",
      "\n",
      "\n",
      " [[[ 0.06088858 -0.02792162]]\n",
      "\n",
      "  [[-0.07115827 -0.00504549]]\n",
      "\n",
      "  [[-0.02687682  0.03911029]]]]\n",
      "Bias:\n",
      "[-0.00250725  0.54841   ]\n",
      "Loss: 0.17540638148784637\n",
      "\u001b[1m1875/1875\u001b[0m \u001b[32m━━━━━━━━━━━━━━━━━━━━\u001b[0m\u001b[37m\u001b[0m \u001b[1m2s\u001b[0m 886us/step - accuracy: 0.9487 - loss: 0.1647\n",
      "Epoch 7/10\n",
      "\u001b[1m1825/1875\u001b[0m \u001b[32m━━━━━━━━━━━━━━━━━━━\u001b[0m\u001b[37m━\u001b[0m \u001b[1m0s\u001b[0m 967us/step - accuracy: 0.9513 - loss: 0.1535\n",
      "Epoch 7:\n",
      "Weights:\n",
      "[[[[-0.10271682 -0.04410384]]\n",
      "\n",
      "  [[ 0.02652233 -0.05182184]]\n",
      "\n",
      "  [[-0.19533375 -0.02313854]]]\n",
      "\n",
      "\n",
      " [[[-0.04366253 -0.029865  ]]\n",
      "\n",
      "  [[ 0.03187069  0.05247546]]\n",
      "\n",
      "  [[-0.03048533 -0.04032496]]]\n",
      "\n",
      "\n",
      " [[[ 0.05744437 -0.02700114]]\n",
      "\n",
      "  [[-0.04519442 -0.00516402]]\n",
      "\n",
      "  [[-0.02835959  0.04347259]]]]\n",
      "Bias:\n",
      "[-0.00395354  0.5567539 ]\n",
      "Loss: 0.15368546545505524\n",
      "\u001b[1m1875/1875\u001b[0m \u001b[32m━━━━━━━━━━━━━━━━━━━━\u001b[0m\u001b[37m\u001b[0m \u001b[1m2s\u001b[0m 963us/step - accuracy: 0.9513 - loss: 0.1536\n",
      "Epoch 8/10\n",
      "\u001b[1m1866/1875\u001b[0m \u001b[32m━━━━━━━━━━━━━━━━━━━\u001b[0m\u001b[37m━\u001b[0m \u001b[1m0s\u001b[0m 885us/step - accuracy: 0.9589 - loss: 0.1301\n",
      "Epoch 8:\n",
      "Weights:\n",
      "[[[[-0.08567324 -0.05099069]]\n",
      "\n",
      "  [[ 0.01978335 -0.06687251]]\n",
      "\n",
      "  [[-0.16770579 -0.03711633]]]\n",
      "\n",
      "\n",
      " [[[-0.04200801 -0.03961018]]\n",
      "\n",
      "  [[ 0.01820953  0.05101751]]\n",
      "\n",
      "  [[-0.02329769 -0.0363008 ]]]\n",
      "\n",
      "\n",
      " [[[ 0.05095819 -0.02506312]]\n",
      "\n",
      "  [[-0.0398456  -0.00276488]]\n",
      "\n",
      "  [[-0.02594461  0.03628131]]]]\n",
      "Bias:\n",
      "[-0.0096711   0.55524606]\n",
      "Loss: 0.1418289840221405\n",
      "\u001b[1m1875/1875\u001b[0m \u001b[32m━━━━━━━━━━━━━━━━━━━━\u001b[0m\u001b[37m\u001b[0m \u001b[1m2s\u001b[0m 886us/step - accuracy: 0.9589 - loss: 0.1301\n",
      "Epoch 9/10\n",
      "\u001b[1m1872/1875\u001b[0m \u001b[32m━━━━━━━━━━━━━━━━━━━\u001b[0m\u001b[37m━\u001b[0m \u001b[1m0s\u001b[0m 910us/step - accuracy: 0.9601 - loss: 0.1268\n",
      "Epoch 9:\n",
      "Weights:\n",
      "[[[[-0.08450019 -0.03491314]]\n",
      "\n",
      "  [[ 0.01311318 -0.06795736]]\n",
      "\n",
      "  [[-0.13902456 -0.03258942]]]\n",
      "\n",
      "\n",
      " [[[-0.04035264 -0.04553537]]\n",
      "\n",
      "  [[ 0.02734444  0.05816811]]\n",
      "\n",
      "  [[-0.0359938  -0.03285713]]]\n",
      "\n",
      "\n",
      " [[[ 0.05017379 -0.02835848]]\n",
      "\n",
      "  [[-0.03282176 -0.00234023]]\n",
      "\n",
      "  [[-0.03062653  0.03923137]]]]\n",
      "Bias:\n",
      "[-0.01586526  0.5350758 ]\n",
      "Loss: 0.1300724446773529\n",
      "\u001b[1m1875/1875\u001b[0m \u001b[32m━━━━━━━━━━━━━━━━━━━━\u001b[0m\u001b[37m\u001b[0m \u001b[1m2s\u001b[0m 911us/step - accuracy: 0.9601 - loss: 0.1268\n",
      "Epoch 10/10\n",
      "\u001b[1m1827/1875\u001b[0m \u001b[32m━━━━━━━━━━━━━━━━━━━\u001b[0m\u001b[37m━\u001b[0m \u001b[1m0s\u001b[0m 970us/step - accuracy: 0.9629 - loss: 0.1135\n",
      "Epoch 10:\n",
      "Weights:\n",
      "[[[[-0.09565131 -0.05644754]]\n",
      "\n",
      "  [[ 0.00526409 -0.06561507]]\n",
      "\n",
      "  [[-0.15057871 -0.03706778]]]\n",
      "\n",
      "\n",
      " [[[-0.03210143 -0.04503354]]\n",
      "\n",
      "  [[ 0.01741816  0.0578945 ]]\n",
      "\n",
      "  [[-0.03655    -0.03483896]]]\n",
      "\n",
      "\n",
      " [[[ 0.05165758 -0.02748503]]\n",
      "\n",
      "  [[-0.02825598 -0.00440403]]\n",
      "\n",
      "  [[-0.01918657  0.03494626]]]]\n",
      "Bias:\n",
      "[-0.00076523  0.5320542 ]\n",
      "Loss: 0.12471165508031845\n",
      "\u001b[1m1875/1875\u001b[0m \u001b[32m━━━━━━━━━━━━━━━━━━━━\u001b[0m\u001b[37m\u001b[0m \u001b[1m2s\u001b[0m 967us/step - accuracy: 0.9628 - loss: 0.1137\n"
     ]
    },
    {
     "data": {
      "text/plain": [
       "<keras.src.callbacks.history.History at 0x258c0b0e7a0>"
      ]
     },
     "execution_count": 144,
     "metadata": {},
     "output_type": "execute_result"
    }
   ],
   "source": [
    "model.compile(optimizer='adam',\n",
    "              loss='categorical_crossentropy',\n",
    "              metrics=['accuracy'])\n",
    "\n",
    "model.fit(x_full, y_full, epochs=10, callbacks=[WeightsCallback()])"
   ]
  },
  {
   "cell_type": "code",
   "execution_count": 145,
   "metadata": {},
   "outputs": [
    {
     "name": "stdout",
     "output_type": "stream",
     "text": [
      "Weights:\n",
      "[[[[-0.09565131 -0.05644754]]\n",
      "\n",
      "  [[ 0.00526409 -0.06561507]]\n",
      "\n",
      "  [[-0.15057871 -0.03706778]]]\n",
      "\n",
      "\n",
      " [[[-0.03210143 -0.04503354]]\n",
      "\n",
      "  [[ 0.01741816  0.0578945 ]]\n",
      "\n",
      "  [[-0.03655    -0.03483896]]]\n",
      "\n",
      "\n",
      " [[[ 0.05165758 -0.02748503]]\n",
      "\n",
      "  [[-0.02825598 -0.00440403]]\n",
      "\n",
      "  [[-0.01918657  0.03494626]]]]\n",
      "Bias:\n",
      "[-0.00076523  0.5320542 ]\n"
     ]
    }
   ],
   "source": [
    "weights_final=(model.layers[0].get_weights()[0])\n",
    "bias_final=(model.layers[0].get_weights()[1])\n",
    "print(f\"Weights:\\n{weights_final}\")\n",
    "print(f\"Bias:\\n{bias_final}\")"
   ]
  },
  {
   "cell_type": "code",
   "execution_count": 146,
   "metadata": {},
   "outputs": [
    {
     "data": {
      "image/png": "[encoded data removed]",
      "text/plain": [
       "<Figure size 1000x500 with 2 Axes>"
      ]
     },
     "metadata": {},
     "output_type": "display_data"
    }
   ],
   "source": [
    "fig, axes = plt.subplots(1, 2, figsize=(10, 5))\n",
    "ax = axes[0]\n",
    "ax.imshow(weights_final[:, :, 0, 0], cmap='gray')\n",
    "ax.set_title('Filter 1')\n",
    "ax.axis('off')\n",
    "for (i, j), val in np.ndenumerate(weights_final[:, :, 0, 0]):\n",
    "    ax.text(j, i, f'{val:.2f}', ha='center', va='center', color='red', fontsize=8)\n",
    "ax = axes[1]\n",
    "ax.imshow(weights_final[:, :, 0, 1], cmap='gray')\n",
    "ax.set_title('Filter 2')\n",
    "ax.axis('off')\n",
    "for (i, j), val in np.ndenumerate(weights_final[:, :, 0, 1]):\n",
    "    ax.text(j, i, f'{val:.2f}', ha='center', va='center', color='red', fontsize=8)\n",
    "plt.show()"
   ]
  },
  {
   "cell_type": "code",
   "execution_count": 147,
   "metadata": {},
   "outputs": [
    {
     "name": "stdout",
     "output_type": "stream",
     "text": [
      "Conv Layer 1 Weights:\n",
      "Mean: -0.03199823945760727\n",
      "Variance: 0.0032378521282225847\n",
      "Conv Layer 1 Biases:\n",
      "Mean: -0.0007652330095879734\n",
      "Variance: 0.0\n",
      "------------------------------\n",
      "Conv Layer 2 Weights:\n",
      "Mean: -0.019783463329076767\n",
      "Variance: 0.0015480911824852228\n",
      "Conv Layer 2 Biases:\n",
      "Mean: 0.5320541858673096\n",
      "Variance: 0.0\n",
      "------------------------------\n"
     ]
    }
   ],
   "source": [
    "for i in range(2):\n",
    "    mean = np.mean(weights_final[:, :, 0, i])\n",
    "    variance = np.var(weights_final[:, :, 0, i])\n",
    "    print(f\"Conv Layer {i + 1} Weights:\")\n",
    "    print(f\"Mean: {mean}\")\n",
    "    print(f\"Variance: {variance}\")\n",
    "    \n",
    "    mean = np.mean(bias_final[i])\n",
    "    variance = np.var(bias_final[i])\n",
    "    print(f\"Conv Layer {i + 1} Biases:\")\n",
    "    print(f\"Mean: {mean}\")\n",
    "    print(f\"Variance: {variance}\")\n",
    "    print(\"-\" * 30)\n",
    "\n",
    "save_model_statistics('6.txt', weights_final, bias_final, 'After Training')\n",
    "save_model_weights('6_weights.txt', weights_final, bias_final, 'After Training')\n",
    "save_kernel_comparison_images('6.png', weights_init, weights_final)"
   ]
  },
  {
   "cell_type": "code",
   "execution_count": 148,
   "metadata": {},
   "outputs": [
    {
     "name": "stdout",
     "output_type": "stream",
     "text": [
      "\u001b[1m313/313\u001b[0m \u001b[32m━━━━━━━━━━━━━━━━━━━━\u001b[0m\u001b[37m\u001b[0m \u001b[1m0s\u001b[0m 733us/step - accuracy: 0.9384 - loss: 0.2293\n",
      "Test accuracy: 0.9474999904632568\n"
     ]
    }
   ],
   "source": [
    "test_loss, test_acc = model.evaluate(x_test_full, y_test_full)\n",
    "print(f'Test accuracy: {test_acc}')\n"
   ]
  },
  {
   "cell_type": "code",
   "execution_count": 149,
   "metadata": {},
   "outputs": [
    {
     "name": "stdout",
     "output_type": "stream",
     "text": [
      "\u001b[1m313/313\u001b[0m \u001b[32m━━━━━━━━━━━━━━━━━━━━\u001b[0m\u001b[37m\u001b[0m \u001b[1m0s\u001b[0m 937us/step\n"
     ]
    },
    {
     "data": {
      "text/plain": [
       "[<matplotlib.lines.Line2D at 0x258c3641120>]"
      ]
     },
     "execution_count": 149,
     "metadata": {},
     "output_type": "execute_result"
    },
    {
     "data": {
      "image/png": "[encoded data removed]",
      "text/plain": [
       "<Figure size 640x480 with 1 Axes>"
      ]
     },
     "metadata": {},
     "output_type": "display_data"
    }
   ],
   "source": [
    "predictions = model.predict(x_test_full)\n",
    "plt.plot((predictions[0])) \n"
   ]
  },
  {
   "cell_type": "code",
   "execution_count": 150,
   "metadata": {},
   "outputs": [
    {
     "data": {
      "image/png": "[encoded data removed]",
      "text/plain": [
       "<Figure size 1000x1000 with 25 Axes>"
      ]
     },
     "metadata": {},
     "output_type": "display_data"
    }
   ],
   "source": [
    "plt.figure(figsize=(10, 10))\n",
    "for i in range(25):\n",
    "    plt.subplot(5, 5, i + 1)\n",
    "    plt.xticks([])\n",
    "    plt.yticks([])\n",
    "    plt.grid(False)\n",
    "    plt.imshow(x_test_full[i].reshape(28, 28), cmap=plt.cm.binary)\n",
    "    plt.xlabel(f\"Pred: {np.argmax(predictions[i])}, Actual: {np.argmax(y_test_full[i])}\")\n",
    "plt.show()\n"
   ]
  },
  {
   "cell_type": "code",
   "execution_count": 151,
   "metadata": {},
   "outputs": [
    {
     "name": "stdout",
     "output_type": "stream",
     "text": [
      "[[-0.05644754 -0.06561507 -0.03706778]\n",
      " [-0.04503354  0.0578945  -0.03483896]\n",
      " [-0.02748503 -0.00440403  0.03494626]]\n",
      "(28, 28)\n"
     ]
    }
   ],
   "source": [
    "\n",
    "from scipy.signal import convolve2d\n",
    "\n",
    "image = x_test_full[1]\n",
    "image = image[:, :, 0]\n",
    "\n",
    "kernel = weights_final[:,:,0,1]\n",
    "\n",
    "print(kernel)\n",
    "print(image.shape)"
   ]
  },
  {
   "cell_type": "code",
   "execution_count": 152,
   "metadata": {},
   "outputs": [
    {
     "data": {
      "image/png": "[encoded data removed]",
      "text/plain": [
       "<Figure size 1500x500 with 3 Axes>"
      ]
     },
     "metadata": {},
     "output_type": "display_data"
    }
   ],
   "source": [
    "\n",
    "\n",
    "# Perform the convolution operation with no padding and stride of 1\n",
    "convolved_output = convolve2d(image, kernel, mode='valid')\n",
    "\n",
    "# Plotting\n",
    "fig, axs = plt.subplots(1, 3, figsize=(15, 5))\n",
    "\n",
    "# Original image\n",
    "axs[0].imshow(image, cmap='gray')\n",
    "axs[0].set_title('Original Image')\n",
    "axs[0].axis('off')\n",
    "\n",
    "# Kernel\n",
    "axs[1].imshow(kernel, cmap='gray')\n",
    "axs[1].set_title('Kernel')\n",
    "axs[1].axis('off')\n",
    "\n",
    "# Convolution output\n",
    "axs[2].imshow(convolved_output, cmap='gray')\n",
    "axs[2].set_title('Convolution Output')\n",
    "axs[2].axis('off')\n",
    "\n",
    "plt.show()\n"
   ]
  },
  {
   "cell_type": "code",
   "execution_count": 153,
   "metadata": {},
   "outputs": [
    {
     "data": {
      "image/png": "[encoded data removed]",
      "text/plain": [
       "<Figure size 1500x500 with 3 Axes>"
      ]
     },
     "metadata": {},
     "output_type": "display_data"
    }
   ],
   "source": [
    "kernel = weights_final[:,:,0,0]\n",
    "\n",
    "\n",
    "# Perform the convolution operation with no padding and stride of 1\n",
    "convolved_output = convolve2d(image, kernel, mode='valid')\n",
    "\n",
    "# Plotting\n",
    "fig, axs = plt.subplots(1, 3, figsize=(15, 5))\n",
    "\n",
    "# Original image\n",
    "axs[0].imshow(image, cmap='gray')\n",
    "axs[0].set_title('Original Image')\n",
    "axs[0].axis('off')\n",
    "\n",
    "# Kernel\n",
    "axs[1].imshow(kernel, cmap='gray')\n",
    "axs[1].set_title('Kernel')\n",
    "axs[1].axis('off')\n",
    "\n",
    "# Convolution output\n",
    "axs[2].imshow(convolved_output, cmap='gray')\n",
    "axs[2].set_title('Convolution Output')\n",
    "axs[2].axis('off')\n",
    "\n",
    "plt.show()\n"
   ]
  }
 ],
 "metadata": {
  "kernelspec": {
   "display_name": "Python 3",
   "language": "python",
   "name": "python3"
  },
  "language_info": {
   "codemirror_mode": {
    "name": "ipython",
    "version": 3
   },
   "file_extension": ".py",
   "mimetype": "text/x-python",
   "name": "python",
   "nbconvert_exporter": "python",
   "pygments_lexer": "ipython3",
   "version": "3.10.7"
  }
 },
 "nbformat": 4,
 "nbformat_minor": 2
}
