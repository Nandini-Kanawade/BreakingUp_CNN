{
 "cells": [
  {
   "cell_type": "code",
   "execution_count": 1,
   "metadata": {},
   "outputs": [],
   "source": [
    "import logging\n",
    "import tensorflow as tf\n",
    "import numpy as np\n",
    "from tensorflow import keras\n",
    "from tensorflow.keras import layers, models\n",
    "import matplotlib.pyplot as plt\n",
    "import seaborn as sns"
   ]
  },
  {
   "cell_type": "code",
   "execution_count": 2,
   "metadata": {},
   "outputs": [],
   "source": [
    "logger = logging.getLogger()\n",
    "logger.setLevel(logging.DEBUG)\n",
    "file_handler = logging.FileHandler('kernels.log', mode='w')\n",
    "file_handler.setLevel(logging.INFO)\n",
    "file_handler.setFormatter(logging.Formatter('%(asctime)s - %(levelname)s - Time: %(message)s', datefmt='%H:%M:%S'))\n",
    "console_handler = logging.StreamHandler()\n",
    "console_handler.setLevel(logging.DEBUG)\n",
    "console_handler.setFormatter(logging.Formatter('%(asctime)s - %(levelname)s - %(message)s', datefmt='%H:%M:%S'))\n",
    "logger.addHandler(file_handler)\n",
    "logger.addHandler(console_handler)\n"
   ]
  },
  {
   "cell_type": "code",
   "execution_count": 12,
   "metadata": {},
   "outputs": [
    {
     "name": "stderr",
     "output_type": "stream",
     "text": [
      "11:43:19 - INFO - *************************************START*************************************\n"
     ]
    }
   ],
   "source": [
    "logger.info(\"*************************************START*************************************\")"
   ]
  },
  {
   "cell_type": "code",
   "execution_count": 13,
   "metadata": {},
   "outputs": [
    {
     "name": "stderr",
     "output_type": "stream",
     "text": [
      "11:43:21 - INFO - (10, 28, 28)\n",
      "11:43:21 - INFO - (10, 28, 28, 1)\n",
      "11:43:21 - INFO - (10,)\n"
     ]
    }
   ],
   "source": [
    "mnist = keras.datasets.mnist\n",
    "(x_train_full, y_train_full), (X_test, y_test) = mnist.load_data()\n",
    "\n",
    "# Selecting 5 samples each from digit '0' and '1'\n",
    "x = np.concatenate([x_train_full[y_train_full == 0][:5], x_train_full[y_train_full == 1][:5]])\n",
    "y = np.concatenate([y_train_full[y_train_full == 0][:5], y_train_full[y_train_full == 1][:5]])\n",
    "x_test=np.concatenate([X_test[y_test == 0][:5], X_test[y_test == 1][:5]])\n",
    "y_test=np.concatenate([y_test[y_test == 0][:5], y_test[y_test == 1][:5]])\n",
    "logger.info(x.shape)\n",
    "\n",
    "# Reshape x to add a channel dimension (for Conv2D layers)\n",
    "'''\n",
    " if x originally has a shape of (10, 784), and you want to reshape it into images of shape 28x28, \n",
    " the -1 lets NumPy calculate that the number of images is 10. The resulting shape will be (10, 28, 28, 1).\n",
    "'''\n",
    "x = x.reshape(-1, 28, 28, 1)\n",
    "x_test=x_test.reshape(-1, 28, 28, 1)\n",
    "\n",
    "logger.info(x.shape)\n",
    "logger.info(y.shape)"
   ]
  },
  {
   "cell_type": "code",
   "execution_count": 14,
   "metadata": {},
   "outputs": [],
   "source": [
    "# Build the CNN model\n",
    "model = models.Sequential([\n",
    "    \n",
    "    layers.Conv2D(2, (3, 3), activation='relu', input_shape=(28, 28, 1)),\n",
    "    \n",
    "    layers.MaxPooling2D((2, 2)),\n",
    "    \n",
    "    layers.Flatten(),\n",
    "    \n",
    "    layers.Dense(169, activation='relu'),\n",
    "\n",
    "    layers.Dense(13, activation='relu'),\n",
    "    \n",
    "    layers.Dense(1, activation='sigmoid')\n",
    "])"
   ]
  },
  {
   "cell_type": "code",
   "execution_count": 15,
   "metadata": {},
   "outputs": [
    {
     "data": {
      "text/html": [
       "<pre style=\"white-space:pre;overflow-x:auto;line-height:normal;font-family:Menlo,'DejaVu Sans Mono',consolas,'Courier New',monospace\"><span style=\"font-weight: bold\">Model: \"sequential_1\"</span>\n",
       "</pre>\n"
      ],
      "text/plain": [
       "\u001b[1mModel: \"sequential_1\"\u001b[0m\n"
      ]
     },
     "metadata": {},
     "output_type": "display_data"
    },
    {
     "data": {
      "text/html": [
       "<pre style=\"white-space:pre;overflow-x:auto;line-height:normal;font-family:Menlo,'DejaVu Sans Mono',consolas,'Courier New',monospace\">┏━━━━━━━━━━━━━━━━━━━━━━━━━━━━━━━━━┳━━━━━━━━━━━━━━━━━━━━━━━━┳━━━━━━━━━━━━━━━┓\n",
       "┃<span style=\"font-weight: bold\"> Layer (type)                    </span>┃<span style=\"font-weight: bold\"> Output Shape           </span>┃<span style=\"font-weight: bold\">       Param # </span>┃\n",
       "┡━━━━━━━━━━━━━━━━━━━━━━━━━━━━━━━━━╇━━━━━━━━━━━━━━━━━━━━━━━━╇━━━━━━━━━━━━━━━┩\n",
       "│ conv2d_1 (<span style=\"color: #0087ff; text-decoration-color: #0087ff\">Conv2D</span>)               │ (<span style=\"color: #00d7ff; text-decoration-color: #00d7ff\">None</span>, <span style=\"color: #00af00; text-decoration-color: #00af00\">26</span>, <span style=\"color: #00af00; text-decoration-color: #00af00\">26</span>, <span style=\"color: #00af00; text-decoration-color: #00af00\">2</span>)      │            <span style=\"color: #00af00; text-decoration-color: #00af00\">20</span> │\n",
       "├─────────────────────────────────┼────────────────────────┼───────────────┤\n",
       "│ max_pooling2d_1 (<span style=\"color: #0087ff; text-decoration-color: #0087ff\">MaxPooling2D</span>)  │ (<span style=\"color: #00d7ff; text-decoration-color: #00d7ff\">None</span>, <span style=\"color: #00af00; text-decoration-color: #00af00\">13</span>, <span style=\"color: #00af00; text-decoration-color: #00af00\">13</span>, <span style=\"color: #00af00; text-decoration-color: #00af00\">2</span>)      │             <span style=\"color: #00af00; text-decoration-color: #00af00\">0</span> │\n",
       "├─────────────────────────────────┼────────────────────────┼───────────────┤\n",
       "│ flatten_1 (<span style=\"color: #0087ff; text-decoration-color: #0087ff\">Flatten</span>)             │ (<span style=\"color: #00d7ff; text-decoration-color: #00d7ff\">None</span>, <span style=\"color: #00af00; text-decoration-color: #00af00\">338</span>)            │             <span style=\"color: #00af00; text-decoration-color: #00af00\">0</span> │\n",
       "├─────────────────────────────────┼────────────────────────┼───────────────┤\n",
       "│ dense_3 (<span style=\"color: #0087ff; text-decoration-color: #0087ff\">Dense</span>)                 │ (<span style=\"color: #00d7ff; text-decoration-color: #00d7ff\">None</span>, <span style=\"color: #00af00; text-decoration-color: #00af00\">169</span>)            │        <span style=\"color: #00af00; text-decoration-color: #00af00\">57,291</span> │\n",
       "├─────────────────────────────────┼────────────────────────┼───────────────┤\n",
       "│ dense_4 (<span style=\"color: #0087ff; text-decoration-color: #0087ff\">Dense</span>)                 │ (<span style=\"color: #00d7ff; text-decoration-color: #00d7ff\">None</span>, <span style=\"color: #00af00; text-decoration-color: #00af00\">13</span>)             │         <span style=\"color: #00af00; text-decoration-color: #00af00\">2,210</span> │\n",
       "├─────────────────────────────────┼────────────────────────┼───────────────┤\n",
       "│ dense_5 (<span style=\"color: #0087ff; text-decoration-color: #0087ff\">Dense</span>)                 │ (<span style=\"color: #00d7ff; text-decoration-color: #00d7ff\">None</span>, <span style=\"color: #00af00; text-decoration-color: #00af00\">1</span>)              │            <span style=\"color: #00af00; text-decoration-color: #00af00\">14</span> │\n",
       "└─────────────────────────────────┴────────────────────────┴───────────────┘\n",
       "</pre>\n"
      ],
      "text/plain": [
       "┏━━━━━━━━━━━━━━━━━━━━━━━━━━━━━━━━━┳━━━━━━━━━━━━━━━━━━━━━━━━┳━━━━━━━━━━━━━━━┓\n",
       "┃\u001b[1m \u001b[0m\u001b[1mLayer (type)                   \u001b[0m\u001b[1m \u001b[0m┃\u001b[1m \u001b[0m\u001b[1mOutput Shape          \u001b[0m\u001b[1m \u001b[0m┃\u001b[1m \u001b[0m\u001b[1m      Param #\u001b[0m\u001b[1m \u001b[0m┃\n",
       "┡━━━━━━━━━━━━━━━━━━━━━━━━━━━━━━━━━╇━━━━━━━━━━━━━━━━━━━━━━━━╇━━━━━━━━━━━━━━━┩\n",
       "│ conv2d_1 (\u001b[38;5;33mConv2D\u001b[0m)               │ (\u001b[38;5;45mNone\u001b[0m, \u001b[38;5;34m26\u001b[0m, \u001b[38;5;34m26\u001b[0m, \u001b[38;5;34m2\u001b[0m)      │            \u001b[38;5;34m20\u001b[0m │\n",
       "├─────────────────────────────────┼────────────────────────┼───────────────┤\n",
       "│ max_pooling2d_1 (\u001b[38;5;33mMaxPooling2D\u001b[0m)  │ (\u001b[38;5;45mNone\u001b[0m, \u001b[38;5;34m13\u001b[0m, \u001b[38;5;34m13\u001b[0m, \u001b[38;5;34m2\u001b[0m)      │             \u001b[38;5;34m0\u001b[0m │\n",
       "├─────────────────────────────────┼────────────────────────┼───────────────┤\n",
       "│ flatten_1 (\u001b[38;5;33mFlatten\u001b[0m)             │ (\u001b[38;5;45mNone\u001b[0m, \u001b[38;5;34m338\u001b[0m)            │             \u001b[38;5;34m0\u001b[0m │\n",
       "├─────────────────────────────────┼────────────────────────┼───────────────┤\n",
       "│ dense_3 (\u001b[38;5;33mDense\u001b[0m)                 │ (\u001b[38;5;45mNone\u001b[0m, \u001b[38;5;34m169\u001b[0m)            │        \u001b[38;5;34m57,291\u001b[0m │\n",
       "├─────────────────────────────────┼────────────────────────┼───────────────┤\n",
       "│ dense_4 (\u001b[38;5;33mDense\u001b[0m)                 │ (\u001b[38;5;45mNone\u001b[0m, \u001b[38;5;34m13\u001b[0m)             │         \u001b[38;5;34m2,210\u001b[0m │\n",
       "├─────────────────────────────────┼────────────────────────┼───────────────┤\n",
       "│ dense_5 (\u001b[38;5;33mDense\u001b[0m)                 │ (\u001b[38;5;45mNone\u001b[0m, \u001b[38;5;34m1\u001b[0m)              │            \u001b[38;5;34m14\u001b[0m │\n",
       "└─────────────────────────────────┴────────────────────────┴───────────────┘\n"
      ]
     },
     "metadata": {},
     "output_type": "display_data"
    },
    {
     "data": {
      "text/html": [
       "<pre style=\"white-space:pre;overflow-x:auto;line-height:normal;font-family:Menlo,'DejaVu Sans Mono',consolas,'Courier New',monospace\"><span style=\"font-weight: bold\"> Total params: </span><span style=\"color: #00af00; text-decoration-color: #00af00\">59,535</span> (232.56 KB)\n",
       "</pre>\n"
      ],
      "text/plain": [
       "\u001b[1m Total params: \u001b[0m\u001b[38;5;34m59,535\u001b[0m (232.56 KB)\n"
      ]
     },
     "metadata": {},
     "output_type": "display_data"
    },
    {
     "data": {
      "text/html": [
       "<pre style=\"white-space:pre;overflow-x:auto;line-height:normal;font-family:Menlo,'DejaVu Sans Mono',consolas,'Courier New',monospace\"><span style=\"font-weight: bold\"> Trainable params: </span><span style=\"color: #00af00; text-decoration-color: #00af00\">59,535</span> (232.56 KB)\n",
       "</pre>\n"
      ],
      "text/plain": [
       "\u001b[1m Trainable params: \u001b[0m\u001b[38;5;34m59,535\u001b[0m (232.56 KB)\n"
      ]
     },
     "metadata": {},
     "output_type": "display_data"
    },
    {
     "data": {
      "text/html": [
       "<pre style=\"white-space:pre;overflow-x:auto;line-height:normal;font-family:Menlo,'DejaVu Sans Mono',consolas,'Courier New',monospace\"><span style=\"font-weight: bold\"> Non-trainable params: </span><span style=\"color: #00af00; text-decoration-color: #00af00\">0</span> (0.00 B)\n",
       "</pre>\n"
      ],
      "text/plain": [
       "\u001b[1m Non-trainable params: \u001b[0m\u001b[38;5;34m0\u001b[0m (0.00 B)\n"
      ]
     },
     "metadata": {},
     "output_type": "display_data"
    }
   ],
   "source": [
    "model.summary()"
   ]
  },
  {
   "cell_type": "code",
   "execution_count": 16,
   "metadata": {},
   "outputs": [
    {
     "name": "stderr",
     "output_type": "stream",
     "text": [
      "11:43:30 - INFO - conv2d_1 filters shape: (3, 3, 1, 2)\n",
      "11:43:30 - INFO - conv2d_1 biases_Conv shape: (2,)\n",
      "11:43:30 - INFO - max_pooling2d_1 has no weights to display\n",
      "11:43:30 - INFO - flatten_1 has no weights to display\n",
      "11:43:30 - INFO - dense_3 weights shape: (338, 169)\n",
      "11:43:30 - INFO - dense_3 biases_dense shape: (169,)\n",
      "11:43:30 - INFO - dense_4 weights shape: (169, 13)\n",
      "11:43:30 - INFO - dense_4 biases_dense shape: (13,)\n",
      "11:43:30 - INFO - dense_5 weights shape: (13, 1)\n",
      "11:43:30 - INFO - dense_5 biases_dense shape: (1,)\n"
     ]
    },
    {
     "name": "stdout",
     "output_type": "stream",
     "text": [
      "[[[[ 0.2663335  -0.15546286]]\n",
      "\n",
      "  [[ 0.42922327 -0.33048534]]\n",
      "\n",
      "  [[ 0.20684865 -0.46864206]]]\n",
      "\n",
      "\n",
      " [[[-0.41985533  0.22317532]]\n",
      "\n",
      "  [[-0.27390718 -0.04461744]]\n",
      "\n",
      "  [[ 0.05069545  0.39788446]]]\n",
      "\n",
      "\n",
      " [[[-0.01027349  0.23104283]]\n",
      "\n",
      "  [[-0.03039315 -0.260772  ]]\n",
      "\n",
      "  [[-0.21146804  0.2964596 ]]]]\n",
      "[0. 0.]\n"
     ]
    },
    {
     "data": {
      "image/png": "[encoded data removed]",
      "text/plain": [
       "<Figure size 1000x500 with 2 Axes>"
      ]
     },
     "metadata": {},
     "output_type": "display_data"
    },
    {
     "name": "stderr",
     "output_type": "stream",
     "text": [
      "11:43:30 - INFO - Conv Layer 1 Weights:\n",
      "11:43:30 - INFO - Mean: 0.0008004076080396771\n",
      "11:43:30 - INFO - Variance: 0.06639648973941803\n",
      "11:43:30 - INFO - Conv Layer 1 Biases:\n",
      "11:43:30 - INFO - Mean: 0.0\n",
      "11:43:30 - INFO - Variance: 0.0\n",
      "11:43:30 - INFO - ------------------------------\n",
      "11:43:30 - INFO - Conv Layer 2 Weights:\n",
      "11:43:30 - INFO - Mean: -0.012379718944430351\n",
      "11:43:30 - INFO - Variance: 0.08566848188638687\n",
      "11:43:30 - INFO - Conv Layer 2 Biases:\n",
      "11:43:30 - INFO - Mean: 0.0\n",
      "11:43:30 - INFO - Variance: 0.0\n",
      "11:43:30 - INFO - ------------------------------\n"
     ]
    }
   ],
   "source": [
    "weights=[]\n",
    "baises_dense=[]\n",
    "\n",
    "for layer in model.layers:\n",
    "    if 'conv' in layer.name:\n",
    "        filters, biases_Conv = layer.get_weights()\n",
    "        logger.info(f\"{layer.name} filters shape: {filters.shape}\")\n",
    "        logger.info(f\"{layer.name} biases_Conv shape: {biases_Conv.shape}\")\n",
    "    elif 'dense' in layer.name:\n",
    "        x, y = layer.get_weights()\n",
    "        weights.append(x)\n",
    "        baises_dense.append(y)\n",
    "        logger.info(f\"{layer.name} weights shape: {x.shape}\")\n",
    "        logger.info(f\"{layer.name} biases_dense shape: {y.shape}\")\n",
    "    else:\n",
    "        logger.info(f\"{layer.name} has no weights to display\")\n",
    "\n",
    "print(filters)\n",
    "print(biases_Conv)\n",
    "\n",
    "\n",
    "fig, axes = plt.subplots(1, 2, figsize=(10, 5))\n",
    "\n",
    "ax = axes[0]\n",
    "ax.imshow(filters[:, :, 0, 0], cmap='gray')\n",
    "ax.set_title('Filter 1')\n",
    "ax.axis('off')\n",
    "for (i, j), val in np.ndenumerate(filters[:, :, 0, 0]):\n",
    "    ax.text(j, i, f'{val:.2f}', ha='center', va='center', color='red', fontsize=8)\n",
    "\n",
    "\n",
    "ax = axes[1]\n",
    "ax.imshow(filters[:, :, 0, 1], cmap='gray')\n",
    "ax.set_title('Filter 2')\n",
    "ax.axis('off')\n",
    "for (i, j), val in np.ndenumerate(filters[:, :, 0, 1]):\n",
    "    ax.text(j, i, f'{val:.2f}', ha='center', va='center', color='red', fontsize=8)\n",
    "\n",
    "plt.show()\n",
    "\n",
    "for i in range(2):\n",
    "    mean = np.mean(filters[:, :, 0, i])\n",
    "    variance = np.var(filters[:, :, 0, i])\n",
    "    logger.info(f\"Conv Layer {i + 1} Weights:\")\n",
    "    logger.info(f\"Mean: {mean}\")\n",
    "    logger.info(f\"Variance: {variance}\")\n",
    "    \n",
    "    mean = np.mean(biases_Conv[i])\n",
    "    variance = np.var(biases_Conv[i])\n",
    "    logger.info(f\"Conv Layer {i + 1} Biases:\")\n",
    "    logger.info(f\"Mean: {mean}\")\n",
    "    logger.info(f\"Variance: {variance}\")\n",
    "    logger.info(\"-\" * 30)"
   ]
  },
  {
   "cell_type": "code",
   "execution_count": 17,
   "metadata": {},
   "outputs": [
    {
     "name": "stdout",
     "output_type": "stream",
     "text": [
      "Epoch 1/5\n",
      "\u001b[1m1875/1875\u001b[0m \u001b[32m━━━━━━━━━━━━━━━━━━━━\u001b[0m\u001b[37m\u001b[0m \u001b[1m6s\u001b[0m 3ms/step - accuracy: 0.1112 - loss: -2753558272.0000\n",
      "Epoch 2/5\n",
      "\u001b[1m1875/1875\u001b[0m \u001b[32m━━━━━━━━━━━━━━━━━━━━\u001b[0m\u001b[37m\u001b[0m \u001b[1m3s\u001b[0m 1ms/step - accuracy: 0.1149 - loss: -150361407488.0000\n",
      "Epoch 3/5\n",
      "\u001b[1m1875/1875\u001b[0m \u001b[32m━━━━━━━━━━━━━━━━━━━━\u001b[0m\u001b[37m\u001b[0m \u001b[1m7s\u001b[0m 4ms/step - accuracy: 0.1131 - loss: -964963270656.0000\n",
      "Epoch 4/5\n",
      "\u001b[1m1875/1875\u001b[0m \u001b[32m━━━━━━━━━━━━━━━━━━━━\u001b[0m\u001b[37m\u001b[0m \u001b[1m3s\u001b[0m 2ms/step - accuracy: 0.1149 - loss: -3011436347392.0000\n",
      "Epoch 5/5\n",
      "\u001b[1m1875/1875\u001b[0m \u001b[32m━━━━━━━━━━━━━━━━━━━━\u001b[0m\u001b[37m\u001b[0m \u001b[1m8s\u001b[0m 4ms/step - accuracy: 0.1126 - loss: -6915191996416.0000\n"
     ]
    },
    {
     "data": {
      "text/plain": [
       "<keras.src.callbacks.history.History at 0x18084c8d5d0>"
      ]
     },
     "execution_count": 17,
     "metadata": {},
     "output_type": "execute_result"
    }
   ],
   "source": [
    "# Compile the model\n",
    "model.compile(optimizer='adam',\n",
    "              loss='binary_crossentropy',\n",
    "              metrics=['accuracy'])\n",
    "\n",
    "# Train the model\n",
    "model.fit(x_train_full, y_train_full, epochs=5)\n"
   ]
  },
  {
   "cell_type": "code",
   "execution_count": 18,
   "metadata": {},
   "outputs": [
    {
     "name": "stderr",
     "output_type": "stream",
     "text": [
      "11:45:03 - INFO - conv2d_1 filters shape: (3, 3, 1, 2)\n",
      "11:45:03 - INFO - conv2d_1 biases_Conv shape: (2,)\n",
      "11:45:03 - INFO - max_pooling2d_1 has no weights to display\n",
      "11:45:03 - INFO - flatten_1 has no weights to display\n",
      "11:45:03 - INFO - dense_3 weights shape: (338, 169)\n",
      "11:45:03 - INFO - dense_3 biases_dense shape: (169,)\n",
      "11:45:03 - INFO - dense_4 weights shape: (169, 13)\n",
      "11:45:03 - INFO - dense_4 biases_dense shape: (13,)\n",
      "11:45:03 - INFO - dense_5 weights shape: (13, 1)\n",
      "11:45:03 - INFO - dense_5 biases_dense shape: (1,)\n"
     ]
    },
    {
     "name": "stdout",
     "output_type": "stream",
     "text": [
      "[[[[14.803805 14.407116]]\n",
      "\n",
      "  [[14.972055 14.248151]]\n",
      "\n",
      "  [[14.749053 14.106298]]]\n",
      "\n",
      "\n",
      " [[[14.143234 14.778554]]\n",
      "\n",
      "  [[14.289992 14.522056]]\n",
      "\n",
      "  [[14.60641  14.951565]]]\n",
      "\n",
      "\n",
      " [[[14.553423 14.776416]]\n",
      "\n",
      "  [[14.535198 14.294573]]\n",
      "\n",
      "  [[14.348794 14.83479 ]]]]\n",
      "[14.577728 14.583212]\n"
     ]
    },
    {
     "data": {
      "image/png": "[encoded data removed]",
      "text/plain": [
       "<Figure size 1000x500 with 2 Axes>"
      ]
     },
     "metadata": {},
     "output_type": "display_data"
    },
    {
     "name": "stderr",
     "output_type": "stream",
     "text": [
      "11:45:04 - INFO - Conv Layer 1 Weights:\n",
      "11:45:04 - INFO - Mean: 14.555774688720703\n",
      "11:45:04 - INFO - Variance: 0.062092125415802\n",
      "11:45:04 - INFO - Conv Layer 1 Biases:\n",
      "11:45:04 - INFO - Mean: 14.577728271484375\n",
      "11:45:04 - INFO - Variance: 0.0\n",
      "11:45:04 - INFO - ------------------------------\n",
      "11:45:04 - INFO - Conv Layer 2 Weights:\n",
      "11:45:04 - INFO - Mean: 14.546613693237305\n",
      "11:45:04 - INFO - Variance: 0.08002015203237534\n",
      "11:45:04 - INFO - Conv Layer 2 Biases:\n",
      "11:45:04 - INFO - Mean: 14.583211898803711\n",
      "11:45:04 - INFO - Variance: 0.0\n",
      "11:45:04 - INFO - ------------------------------\n"
     ]
    }
   ],
   "source": [
    "weights=[]\n",
    "baises_dense=[]\n",
    "\n",
    "for layer in model.layers:\n",
    "    if 'conv' in layer.name:\n",
    "        filters, biases_Conv = layer.get_weights()\n",
    "        logger.info(f\"{layer.name} filters shape: {filters.shape}\")\n",
    "        logger.info(f\"{layer.name} biases_Conv shape: {biases_Conv.shape}\")\n",
    "    elif 'dense' in layer.name:\n",
    "        x, y = layer.get_weights()\n",
    "        weights.append(x)\n",
    "        baises_dense.append(y)\n",
    "        logger.info(f\"{layer.name} weights shape: {x.shape}\")\n",
    "        logger.info(f\"{layer.name} biases_dense shape: {y.shape}\")\n",
    "    else:\n",
    "        logger.info(f\"{layer.name} has no weights to display\")\n",
    "\n",
    "print(filters)\n",
    "print(biases_Conv)\n",
    "\n",
    "\n",
    "fig, axes = plt.subplots(1, 2, figsize=(10, 5))\n",
    "\n",
    "ax = axes[0]\n",
    "ax.imshow(filters[:, :, 0, 0], cmap='gray')\n",
    "ax.set_title('Filter 1')\n",
    "ax.axis('off')\n",
    "for (i, j), val in np.ndenumerate(filters[:, :, 0, 0]):\n",
    "    ax.text(j, i, f'{val:.2f}', ha='center', va='center', color='red', fontsize=8)\n",
    "\n",
    "\n",
    "ax = axes[1]\n",
    "ax.imshow(filters[:, :, 0, 1], cmap='gray')\n",
    "ax.set_title('Filter 2')\n",
    "ax.axis('off')\n",
    "for (i, j), val in np.ndenumerate(filters[:, :, 0, 1]):\n",
    "    ax.text(j, i, f'{val:.2f}', ha='center', va='center', color='red', fontsize=8)\n",
    "\n",
    "plt.show()\n",
    "\n",
    "for i in range(2):\n",
    "    mean = np.mean(filters[:, :, 0, i])\n",
    "    variance = np.var(filters[:, :, 0, i])\n",
    "    logger.info(f\"Conv Layer {i + 1} Weights:\")\n",
    "    logger.info(f\"Mean: {mean}\")\n",
    "    logger.info(f\"Variance: {variance}\")\n",
    "    \n",
    "    mean = np.mean(biases_Conv[i])\n",
    "    variance = np.var(biases_Conv[i])\n",
    "    logger.info(f\"Conv Layer {i + 1} Biases:\")\n",
    "    logger.info(f\"Mean: {mean}\")\n",
    "    logger.info(f\"Variance: {variance}\")\n",
    "    logger.info(\"-\" * 30)"
   ]
  }
 ],
 "metadata": {
  "kernelspec": {
   "display_name": "Python 3",
   "language": "python",
   "name": "python3"
  },
  "language_info": {
   "codemirror_mode": {
    "name": "ipython",
    "version": 3
   },
   "file_extension": ".py",
   "mimetype": "text/x-python",
   "name": "python",
   "nbconvert_exporter": "python",
   "pygments_lexer": "ipython3",
   "version": "3.10.7"
  }
 },
 "nbformat": 4,
 "nbformat_minor": 2
}
