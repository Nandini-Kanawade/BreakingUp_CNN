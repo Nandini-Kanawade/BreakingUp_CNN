{
 "cells": [
  {
   "cell_type": "code",
   "execution_count": 67,
   "metadata": {},
   "outputs": [],
   "source": [
    "import logging\n",
    "import tensorflow as tf\n",
    "import numpy as np\n",
    "from tensorflow import keras\n",
    "from tensorflow.keras import layers, models\n",
    "import matplotlib.pyplot as plt\n",
    "import seaborn as sns\n",
    "from tensorflow.keras.callbacks import Callback\n",
    "from keras.utils import to_categorical"
   ]
  },
  {
   "cell_type": "code",
   "execution_count": 68,
   "metadata": {},
   "outputs": [],
   "source": [
    "# Function to compute and save statistics\n",
    "def save_model_statistics(file_path, filters, biases, stage):\n",
    "    with open(file_path, 'a') as f:\n",
    "        f.write(\"-\" * 100 + \"\\n\")\n",
    "        f.write(f\"{stage}:\\n\\n\")\n",
    "        for i in range(2):\n",
    "            mean = np.mean(filters[:, :, 0, i])\n",
    "            variance = np.var(filters[:, :, 0, i])\n",
    "            f.write(f\"Kernel {i + 1} Weights:\\n\")\n",
    "            f.write(f\"Mean: {mean}\\n\")\n",
    "            f.write(f\"Variance: {variance}\\n\")\n",
    "\n",
    "            mean = np.mean(biases[i])\n",
    "            variance = np.var(biases[i])\n",
    "            f.write(f\"Kernel {i + 1} Biases:\\n\")\n",
    "            f.write(f\"Mean: {mean}\\n\")\n",
    "            f.write(f\"Variance: {variance}\\n\")\n",
    "\n",
    "# Function to save weights\n",
    "def save_model_weights(file_path, filters, biases, stage):\n",
    "    with open(file_path, 'a') as f:\n",
    "        f.write(\"-\" * 10 + \"\\n\")\n",
    "        f.write(f\"\\n{stage}:\\n\")\n",
    "        for i in range(2):\n",
    "            x = (filters[:, :, 0, i])\n",
    "            y = (biases[i])\n",
    "            f.write(f\"Kernel {i + 1}\\n\")\n",
    "            f.write(f\"\\n{x}\\n\")\n",
    "            f.write(f\"\\n{y}\\n\")\n",
    "\n",
    "# Function to save kernel comparison images\n",
    "def save_kernel_comparison_images(file_path, filters_before, filters_after):\n",
    "    fig, axes = plt.subplots(2, 1, figsize=(10, 10))\n",
    "    \n",
    "    for i in range(2):\n",
    "        ax = axes[i]\n",
    "        kernel = np.concatenate([filters_before[:, :, 0, i], filters_after[:, :, 0, i]], axis=1)\n",
    "        ax.imshow(kernel, cmap='gray')\n",
    "        #plt.set_title(f'Kernel {i + 1}')\n",
    "        for (x, z), val in np.ndenumerate(kernel):\n",
    "            ax.text(z, x, f'{val:.4f}', ha='center', va='center', color='red', fontsize=8)\n",
    "        ax.axis('off')\n",
    "\n",
    "    plt.tight_layout()\n",
    "    plt.savefig(file_path)\n",
    "    plt.close()\n"
   ]
  },
  {
   "cell_type": "code",
   "execution_count": 69,
   "metadata": {},
   "outputs": [],
   "source": [
    "class WeightsCallback(tf.keras.callbacks.Callback):\n",
    "    def on_epoch_end(self, epoch, logs=None):\n",
    "        weights = self.model.layers[0].get_weights()[0]\n",
    "        bias = self.model.layers[0].get_weights()[1]\n",
    "        print(f\"\\nEpoch {epoch + 1}:\")\n",
    "        print(f\"Weights:\\n{weights}\")\n",
    "        print(f\"Bias:\\n{bias}\")\n",
    "        print(f\"Loss: {logs['loss']}\")\n",
    "        save_model_weights(\"6_weights.txt\", weights, bias, epoch)\n"
   ]
  },
  {
   "cell_type": "code",
   "execution_count": 70,
   "metadata": {},
   "outputs": [],
   "source": [
    "# Load MNIST data\n",
    "mnist = keras.datasets.mnist\n",
    "(x_full, y_full), (x_test_full, y_test_full) = mnist.load_data()\n",
    "\n",
    "x_train = np.concatenate([x_full[y_full == 0][:], x_full[y_full == 1][:]])\n",
    "y_train = np.concatenate([y_full[y_full == 0][:], y_full[y_full == 1][:]])\n",
    "indices = np.arange(x_train.shape[0])\n",
    "np.random.shuffle(indices)\n",
    "x_train = x_train[indices]\n",
    "y_train = y_train[indices]\n",
    "\n",
    "x_test = np.concatenate([x_test_full[y_test_full == 0][:], x_test_full[y_test_full == 1][:]])\n",
    "y_test = np.concatenate([y_test_full[y_test_full == 0][:], y_test_full[y_test_full == 1][:]])\n",
    "indices_test = np.arange(x_test.shape[0])\n",
    "np.random.shuffle(indices_test)\n",
    "x_test = x_test[indices_test]\n",
    "y_test = y_test[indices_test]\n",
    "\n",
    "x_full=x_train\n",
    "y_full=y_train\n",
    "x_test_full=x_test\n",
    "y_test_full=y_test\n",
    "\n",
    "# # Convert the labels from 1 and 2 to 0 and 1\n",
    "# y_full = np.where(y_full == 2, 1, 0)\n",
    "# y_test_full = np.where(y_test_full == 2, 1, 0)\n",
    "\n",
    "# # Now apply one-hot encoding\n",
    "# y_full = to_categorical(y_full, num_classes=2)\n",
    "# y_test_full = to_categorical(y_test_full, num_classes=2)\n",
    "\n",
    "x_full = x_full.reshape(-1, 28, 28, 1)\n",
    "x_test_full = x_test_full.reshape(-1, 28, 28, 1)\n",
    "y_full = to_categorical(y_full, num_classes=2)\n",
    "y_test_full=to_categorical(y_test_full, num_classes=2)"
   ]
  },
  {
   "cell_type": "code",
   "execution_count": 71,
   "metadata": {},
   "outputs": [
    {
     "name": "stdout",
     "output_type": "stream",
     "text": [
      "(12665, 28, 28, 1)\n",
      "(28, 28, 1)\n",
      "(12665, 2)\n",
      "[1. 0.]\n"
     ]
    }
   ],
   "source": [
    "print(x_full.shape)\n",
    "print(x_full[0].shape)\n",
    "print(y_full.shape)\n",
    "print(y_full[0])"
   ]
  },
  {
   "cell_type": "code",
   "execution_count": 72,
   "metadata": {},
   "outputs": [],
   "source": [
    "model = models.Sequential()\n",
    "model.add(layers.Conv2D(2, (3, 3), activation='relu', input_shape=(28, 28, 1)))\n",
    "model.add(layers.Flatten())\n",
    "#model.add(layers.Dense(64, activation='relu'))\n",
    "model.add(layers.Dense(2, activation='softmax'))"
   ]
  },
  {
   "cell_type": "code",
   "execution_count": 73,
   "metadata": {},
   "outputs": [
    {
     "name": "stdout",
     "output_type": "stream",
     "text": [
      "Weights:\n",
      "(3, 3, 1, 2)\n",
      "Bias:\n",
      "(2,)\n",
      "Weights:\n",
      "[[[[ 0.1679242   0.34337816]]\n",
      "\n",
      "  [[-0.25253952 -0.35257065]]\n",
      "\n",
      "  [[ 0.30639532 -0.46564862]]]\n",
      "\n",
      "\n",
      " [[[ 0.26594618  0.10433987]]\n",
      "\n",
      "  [[-0.21731848  0.23974511]]\n",
      "\n",
      "  [[-0.4339344   0.11935011]]]\n",
      "\n",
      "\n",
      " [[[ 0.08983651 -0.11865708]]\n",
      "\n",
      "  [[-0.02191311 -0.2492151 ]]\n",
      "\n",
      "  [[ 0.18742421  0.3828142 ]]]]\n",
      "Bias:\n",
      "[0. 0.]\n"
     ]
    }
   ],
   "source": [
    "weights_init=(model.layers[0].get_weights()[0])\n",
    "bias_init=(model.layers[0].get_weights()[1])\n",
    "print(f\"Weights:\\n{weights_init.shape}\")\n",
    "print(f\"Bias:\\n{bias_init.shape}\")\n",
    "print(f\"Weights:\\n{weights_init}\")\n",
    "print(f\"Bias:\\n{bias_init}\")\n"
   ]
  },
  {
   "cell_type": "code",
   "execution_count": 74,
   "metadata": {},
   "outputs": [
    {
     "data": {
      "image/png": "[encoded data removed]",
      "text/plain": [
       "<Figure size 1000x500 with 2 Axes>"
      ]
     },
     "metadata": {},
     "output_type": "display_data"
    }
   ],
   "source": [
    "fig, axes = plt.subplots(1, 2, figsize=(10, 5))\n",
    "\n",
    "ax = axes[0]\n",
    "ax.imshow(weights_init[:, :, 0, 0], cmap='gray')\n",
    "ax.set_title('Filter 1')\n",
    "ax.axis('off')\n",
    "for (i, j), val in np.ndenumerate(weights_init[:, :, 0, 0]):\n",
    "    ax.text(j, i, f'{val:.2f}', ha='center', va='center', color='red', fontsize=8)\n",
    "\n",
    "ax = axes[1]\n",
    "ax.imshow(weights_init[:, :, 0, 1], cmap='gray')\n",
    "ax.set_title('Filter 2')\n",
    "ax.axis('off')\n",
    "for (i, j), val in np.ndenumerate(weights_init[:, :, 0, 1]):\n",
    "    ax.text(j, i, f'{val:.2f}', ha='center', va='center', color='red', fontsize=8)\n",
    "plt.show()"
   ]
  },
  {
   "cell_type": "code",
   "execution_count": 75,
   "metadata": {},
   "outputs": [
    {
     "name": "stdout",
     "output_type": "stream",
     "text": [
      "Conv Layer 1 Weights:\n",
      "Mean: 0.01020232867449522\n",
      "Variance: 0.05942760035395622\n",
      "Conv Layer 1 Biases:\n",
      "Mean: 0.0\n",
      "Variance: 0.0\n",
      "------------------------------\n",
      "Conv Layer 2 Weights:\n",
      "Mean: 0.00039288733387365937\n",
      "Variance: 0.08493169397115707\n",
      "Conv Layer 2 Biases:\n",
      "Mean: 0.0\n",
      "Variance: 0.0\n",
      "------------------------------\n"
     ]
    }
   ],
   "source": [
    "for i in range(2):\n",
    "    mean = np.mean(weights_init[:, :, 0, i])\n",
    "    variance = np.var(weights_init[:, :, 0, i])\n",
    "    print(f\"Conv Layer {i + 1} Weights:\")\n",
    "    print(f\"Mean: {mean}\")\n",
    "    print(f\"Variance: {variance}\")\n",
    "    \n",
    "    mean = np.mean(bias_init[i])\n",
    "    variance = np.var(bias_init[i])\n",
    "    print(f\"Conv Layer {i + 1} Biases:\")\n",
    "    print(f\"Mean: {mean}\")\n",
    "    print(f\"Variance: {variance}\")\n",
    "    print(\"-\" * 30)\n",
    "\n",
    "save_model_statistics('0_1_weights_stats.txt', weights_init, bias_init, 'Before Training')\n",
    "save_model_weights('0_1_weights.txt', weights_init, bias_init, 'Before Training')"
   ]
  },
  {
   "cell_type": "code",
   "execution_count": 76,
   "metadata": {},
   "outputs": [
    {
     "name": "stdout",
     "output_type": "stream",
     "text": [
      "Epoch 1/10\n",
      "\u001b[1m370/396\u001b[0m \u001b[32m━━━━━━━━━━━━━━━━━━\u001b[0m\u001b[37m━━\u001b[0m \u001b[1m0s\u001b[0m 880us/step - accuracy: 0.9602 - loss: 1.2146\n",
      "Epoch 1:\n",
      "Weights:\n",
      "[[[[ 0.16585408  0.32710105]]\n",
      "\n",
      "  [[-0.23013213 -0.3685322 ]]\n",
      "\n",
      "  [[ 0.31852004 -0.47537833]]]\n",
      "\n",
      "\n",
      " [[[ 0.27186376  0.08518227]]\n",
      "\n",
      "  [[-0.1825138   0.21214738]]\n",
      "\n",
      "  [[-0.41192856  0.08461423]]]\n",
      "\n",
      "\n",
      " [[[ 0.10827532 -0.13302955]]\n",
      "\n",
      "  [[ 0.00574539 -0.2783487 ]]\n",
      "\n",
      "  [[ 0.18852334  0.34161958]]]]\n",
      "Bias:\n",
      "[-0.01714807 -0.02489698]\n",
      "Loss: 0.30047184228897095\n",
      "\u001b[1m396/396\u001b[0m \u001b[32m━━━━━━━━━━━━━━━━━━━━\u001b[0m\u001b[37m\u001b[0m \u001b[1m1s\u001b[0m 860us/step - accuracy: 0.9622 - loss: 1.1531\n",
      "Epoch 2/10\n",
      "\u001b[1m366/396\u001b[0m \u001b[32m━━━━━━━━━━━━━━━━━━\u001b[0m\u001b[37m━━\u001b[0m \u001b[1m0s\u001b[0m 888us/step - accuracy: 0.9984 - loss: 0.0246\n",
      "Epoch 2:\n",
      "Weights:\n",
      "[[[[ 0.16788344  0.3226091 ]]\n",
      "\n",
      "  [[-0.22418076 -0.36941442]]\n",
      "\n",
      "  [[ 0.3144317  -0.4791125 ]]]\n",
      "\n",
      "\n",
      " [[[ 0.27142835  0.08410381]]\n",
      "\n",
      "  [[-0.17285429  0.2074689 ]]\n",
      "\n",
      "  [[-0.41103926  0.07748403]]]\n",
      "\n",
      "\n",
      " [[[ 0.11611576 -0.13090007]]\n",
      "\n",
      "  [[ 0.01239404 -0.2836827 ]]\n",
      "\n",
      "  [[ 0.18177591  0.33475098]]]]\n",
      "Bias:\n",
      "[-0.02573257 -0.03304296]\n",
      "Loss: 0.02509167045354843\n",
      "\u001b[1m396/396\u001b[0m \u001b[32m━━━━━━━━━━━━━━━━━━━━\u001b[0m\u001b[37m\u001b[0m \u001b[1m0s\u001b[0m 885us/step - accuracy: 0.9984 - loss: 0.0247\n",
      "Epoch 3/10\n",
      "\u001b[1m382/396\u001b[0m \u001b[32m━━━━━━━━━━━━━━━━━━━\u001b[0m\u001b[37m━\u001b[0m \u001b[1m0s\u001b[0m 997us/step - accuracy: 0.9996 - loss: 0.0086\n",
      "Epoch 3:\n",
      "Weights:\n",
      "[[[[ 0.16268638  0.32269052]]\n",
      "\n",
      "  [[-0.2247711  -0.36828712]]\n",
      "\n",
      "  [[ 0.31518504 -0.48389038]]]\n",
      "\n",
      "\n",
      " [[[ 0.26658455  0.08493417]]\n",
      "\n",
      "  [[-0.1716858   0.20361166]]\n",
      "\n",
      "  [[-0.41470808  0.07062966]]]\n",
      "\n",
      "\n",
      " [[[ 0.11496137 -0.13084333]]\n",
      "\n",
      "  [[ 0.00944887 -0.28981566]]\n",
      "\n",
      "  [[ 0.1683973   0.32759088]]]]\n",
      "Bias:\n",
      "[-0.03248814 -0.03942008]\n",
      "Loss: 0.010138622485101223\n",
      "\u001b[1m396/396\u001b[0m \u001b[32m━━━━━━━━━━━━━━━━━━━━\u001b[0m\u001b[37m\u001b[0m \u001b[1m0s\u001b[0m 987us/step - accuracy: 0.9996 - loss: 0.0087\n",
      "Epoch 4/10\n",
      "\u001b[1m363/396\u001b[0m \u001b[32m━━━━━━━━━━━━━━━━━━\u001b[0m\u001b[37m━━\u001b[0m \u001b[1m0s\u001b[0m 863us/step - accuracy: 0.9993 - loss: 0.0084\n",
      "Epoch 4:\n",
      "Weights:\n",
      "[[[[ 0.1606029   0.32333094]]\n",
      "\n",
      "  [[-0.23127834 -0.36977625]]\n",
      "\n",
      "  [[ 0.29944745 -0.48517787]]]\n",
      "\n",
      "\n",
      " [[[ 0.26281995  0.08984584]]\n",
      "\n",
      "  [[-0.17271595  0.20432428]]\n",
      "\n",
      "  [[-0.42262676  0.06975567]]]\n",
      "\n",
      "\n",
      " [[[ 0.11284953 -0.12292201]]\n",
      "\n",
      "  [[ 0.00408146 -0.28934616]]\n",
      "\n",
      "  [[ 0.15516679  0.32619962]]]]\n",
      "Bias:\n",
      "[-0.04678688 -0.04212067]\n",
      "Loss: 0.005809186026453972\n",
      "\u001b[1m396/396\u001b[0m \u001b[32m━━━━━━━━━━━━━━━━━━━━\u001b[0m\u001b[37m\u001b[0m \u001b[1m0s\u001b[0m 886us/step - accuracy: 0.9993 - loss: 0.0082\n",
      "Epoch 5/10\n",
      "\u001b[1m357/396\u001b[0m \u001b[32m━━━━━━━━━━━━━━━━━━\u001b[0m\u001b[37m━━\u001b[0m \u001b[1m0s\u001b[0m 1ms/step - accuracy: 0.9999 - loss: 0.0019\n",
      "Epoch 5:\n",
      "Weights:\n",
      "[[[[ 0.15585071  0.32674915]]\n",
      "\n",
      "  [[-0.23259652 -0.3693411 ]]\n",
      "\n",
      "  [[ 0.3015782  -0.48955268]]]\n",
      "\n",
      "\n",
      " [[[ 0.2563585   0.09060962]]\n",
      "\n",
      "  [[-0.17182525  0.20340508]]\n",
      "\n",
      "  [[-0.42061985  0.07043488]]]\n",
      "\n",
      "\n",
      " [[[ 0.1109861  -0.12406957]]\n",
      "\n",
      "  [[ 0.0050907  -0.28932276]]\n",
      "\n",
      "  [[ 0.1517495   0.32634747]]]]\n",
      "Bias:\n",
      "[-0.05270005 -0.04347909]\n",
      "Loss: 0.0024200109764933586\n",
      "\u001b[1m396/396\u001b[0m \u001b[32m━━━━━━━━━━━━━━━━━━━━\u001b[0m\u001b[37m\u001b[0m \u001b[1m0s\u001b[0m 1ms/step - accuracy: 0.9999 - loss: 0.0020\n",
      "Epoch 6/10\n",
      "\u001b[1m390/396\u001b[0m \u001b[32m━━━━━━━━━━━━━━━━━━━\u001b[0m\u001b[37m━\u001b[0m \u001b[1m0s\u001b[0m 834us/step - accuracy: 1.0000 - loss: 0.0016  \n",
      "Epoch 6:\n",
      "Weights:\n",
      "[[[[ 0.17368342  0.31962737]]\n",
      "\n",
      "  [[-0.21900223 -0.373457  ]]\n",
      "\n",
      "  [[ 0.3067832  -0.495985  ]]]\n",
      "\n",
      "\n",
      " [[[ 0.27261242  0.08320693]]\n",
      "\n",
      "  [[-0.15632589  0.19924913]]\n",
      "\n",
      "  [[-0.4103996   0.06229316]]]\n",
      "\n",
      "\n",
      " [[[ 0.12484337 -0.1293669 ]]\n",
      "\n",
      "  [[ 0.02067677 -0.29774907]]\n",
      "\n",
      "  [[ 0.14949325  0.3150043 ]]]]\n",
      "Bias:\n",
      "[-0.05044769 -0.0553542 ]\n",
      "Loss: 0.00397830456495285\n",
      "\u001b[1m396/396\u001b[0m \u001b[32m━━━━━━━━━━━━━━━━━━━━\u001b[0m\u001b[37m\u001b[0m \u001b[1m0s\u001b[0m 846us/step - accuracy: 1.0000 - loss: 0.0016\n",
      "Epoch 7/10\n",
      "\u001b[1m371/396\u001b[0m \u001b[32m━━━━━━━━━━━━━━━━━━\u001b[0m\u001b[37m━━\u001b[0m \u001b[1m0s\u001b[0m 877us/step - accuracy: 0.9996 - loss: 0.0038\n",
      "Epoch 7:\n",
      "Weights:\n",
      "[[[[ 0.16421987  0.31263414]]\n",
      "\n",
      "  [[-0.22580536 -0.38077596]]\n",
      "\n",
      "  [[ 0.30311105 -0.49943736]]]\n",
      "\n",
      "\n",
      " [[[ 0.2681277   0.07739319]]\n",
      "\n",
      "  [[-0.15995623  0.19510248]]\n",
      "\n",
      "  [[-0.41363105  0.0680918 ]]]\n",
      "\n",
      "\n",
      " [[[ 0.12229922 -0.13377023]]\n",
      "\n",
      "  [[ 0.016511   -0.29518524]]\n",
      "\n",
      "  [[ 0.1430526   0.32083145]]]]\n",
      "Bias:\n",
      "[-0.0599903  -0.05471164]\n",
      "Loss: 0.002605810994282365\n",
      "\u001b[1m396/396\u001b[0m \u001b[32m━━━━━━━━━━━━━━━━━━━━\u001b[0m\u001b[37m\u001b[0m \u001b[1m0s\u001b[0m 886us/step - accuracy: 0.9996 - loss: 0.0037\n",
      "Epoch 8/10\n",
      "\u001b[1m391/396\u001b[0m \u001b[32m━━━━━━━━━━━━━━━━━━━\u001b[0m\u001b[37m━\u001b[0m \u001b[1m0s\u001b[0m 846us/step - accuracy: 0.9996 - loss: 0.0114\n",
      "Epoch 8:\n",
      "Weights:\n",
      "[[[[ 0.15929222  0.3044887 ]]\n",
      "\n",
      "  [[-0.23499474 -0.3856374 ]]\n",
      "\n",
      "  [[ 0.28855088 -0.499564  ]]]\n",
      "\n",
      "\n",
      " [[[ 0.2577908   0.06824077]]\n",
      "\n",
      "  [[-0.16585885  0.18418722]]\n",
      "\n",
      "  [[-0.42650855  0.05905415]]]\n",
      "\n",
      "\n",
      " [[[ 0.11316008 -0.13659057]]\n",
      "\n",
      "  [[ 0.01261478 -0.30594218]]\n",
      "\n",
      "  [[ 0.11961018  0.30857638]]]]\n",
      "Bias:\n",
      "[-0.09724382 -0.07419807]\n",
      "Loss: 0.009641391225159168\n",
      "\u001b[1m396/396\u001b[0m \u001b[32m━━━━━━━━━━━━━━━━━━━━\u001b[0m\u001b[37m\u001b[0m \u001b[1m0s\u001b[0m 860us/step - accuracy: 0.9996 - loss: 0.0114\n",
      "Epoch 9/10\n",
      "\u001b[1m368/396\u001b[0m \u001b[32m━━━━━━━━━━━━━━━━━━\u001b[0m\u001b[37m━━\u001b[0m \u001b[1m0s\u001b[0m 912us/step - accuracy: 0.9999 - loss: 8.7099e-04\n",
      "Epoch 9:\n",
      "Weights:\n",
      "[[[[ 0.15447536  0.30137664]]\n",
      "\n",
      "  [[-0.23460804 -0.38681668]]\n",
      "\n",
      "  [[ 0.2888223  -0.5004697 ]]]\n",
      "\n",
      "\n",
      " [[[ 0.26058495  0.07061576]]\n",
      "\n",
      "  [[-0.15724748  0.18834107]]\n",
      "\n",
      "  [[-0.42044196  0.06556084]]]\n",
      "\n",
      "\n",
      " [[[ 0.12604147 -0.13224816]]\n",
      "\n",
      "  [[ 0.0270473  -0.2992123 ]]\n",
      "\n",
      "  [[ 0.12249939  0.31743476]]]]\n",
      "Bias:\n",
      "[-0.10694398 -0.07262243]\n",
      "Loss: 0.001138546853326261\n",
      "\u001b[1m396/396\u001b[0m \u001b[32m━━━━━━━━━━━━━━━━━━━━\u001b[0m\u001b[37m\u001b[0m \u001b[1m0s\u001b[0m 910us/step - accuracy: 0.9999 - loss: 8.9312e-04\n",
      "Epoch 10/10\n",
      "\u001b[1m382/396\u001b[0m \u001b[32m━━━━━━━━━━━━━━━━━━━\u001b[0m\u001b[37m━\u001b[0m \u001b[1m0s\u001b[0m 870us/step - accuracy: 0.9999 - loss: 0.0018\n",
      "Epoch 10:\n",
      "Weights:\n",
      "[[[[ 0.15261973  0.29753017]]\n",
      "\n",
      "  [[-0.23539965 -0.38746893]]\n",
      "\n",
      "  [[ 0.27989691 -0.5043122 ]]]\n",
      "\n",
      "\n",
      " [[[ 0.25747624  0.06602521]]\n",
      "\n",
      "  [[-0.16062497  0.18401669]]\n",
      "\n",
      "  [[-0.42986664  0.06583315]]]\n",
      "\n",
      "\n",
      " [[[ 0.12778035 -0.13530494]]\n",
      "\n",
      "  [[ 0.02321903 -0.29939213]]\n",
      "\n",
      "  [[ 0.11284758  0.3136993 ]]]]\n",
      "Bias:\n",
      "[-0.10835532 -0.08114368]\n",
      "Loss: 0.002260740613564849\n",
      "\u001b[1m396/396\u001b[0m \u001b[32m━━━━━━━━━━━━━━━━━━━━\u001b[0m\u001b[37m\u001b[0m \u001b[1m0s\u001b[0m 878us/step - accuracy: 0.9999 - loss: 0.0018\n"
     ]
    },
    {
     "data": {
      "text/plain": [
       "<keras.src.callbacks.history.History at 0x1d181219b70>"
      ]
     },
     "execution_count": 76,
     "metadata": {},
     "output_type": "execute_result"
    }
   ],
   "source": [
    "model.compile(optimizer='adam',\n",
    "              loss='binary_crossentropy',\n",
    "              metrics=['accuracy'])\n",
    "\n",
    "model.fit(x_full, y_full, epochs=10, callbacks=[WeightsCallback()])"
   ]
  },
  {
   "cell_type": "code",
   "execution_count": 77,
   "metadata": {},
   "outputs": [
    {
     "name": "stdout",
     "output_type": "stream",
     "text": [
      "Weights:\n",
      "[[[[ 0.15261973  0.29753017]]\n",
      "\n",
      "  [[-0.23539965 -0.38746893]]\n",
      "\n",
      "  [[ 0.27989691 -0.5043122 ]]]\n",
      "\n",
      "\n",
      " [[[ 0.25747624  0.06602521]]\n",
      "\n",
      "  [[-0.16062497  0.18401669]]\n",
      "\n",
      "  [[-0.42986664  0.06583315]]]\n",
      "\n",
      "\n",
      " [[[ 0.12778035 -0.13530494]]\n",
      "\n",
      "  [[ 0.02321903 -0.29939213]]\n",
      "\n",
      "  [[ 0.11284758  0.3136993 ]]]]\n",
      "Bias:\n",
      "[-0.10835532 -0.08114368]\n"
     ]
    }
   ],
   "source": [
    "weights_final=(model.layers[0].get_weights()[0])\n",
    "bias_final=(model.layers[0].get_weights()[1])\n",
    "print(f\"Weights:\\n{weights_final}\")\n",
    "print(f\"Bias:\\n{bias_final}\")"
   ]
  },
  {
   "cell_type": "code",
   "execution_count": 78,
   "metadata": {},
   "outputs": [
    {
     "data": {
      "image/png": "[encoded data removed]",
      "text/plain": [
       "<Figure size 1000x500 with 2 Axes>"
      ]
     },
     "metadata": {},
     "output_type": "display_data"
    }
   ],
   "source": [
    "fig, axes = plt.subplots(1, 2, figsize=(10, 5))\n",
    "ax = axes[0]\n",
    "ax.imshow(weights_final[:, :, 0, 0], cmap='gray')\n",
    "ax.set_title('Filter 1')\n",
    "ax.axis('off')\n",
    "for (i, j), val in np.ndenumerate(weights_final[:, :, 0, 0]):\n",
    "    ax.text(j, i, f'{val:.2f}', ha='center', va='center', color='red', fontsize=8)\n",
    "ax = axes[1]\n",
    "ax.imshow(weights_final[:, :, 0, 1], cmap='gray')\n",
    "ax.set_title('Filter 2')\n",
    "ax.axis('off')\n",
    "for (i, j), val in np.ndenumerate(weights_final[:, :, 0, 1]):\n",
    "    ax.text(j, i, f'{val:.2f}', ha='center', va='center', color='red', fontsize=8)\n",
    "plt.show()"
   ]
  },
  {
   "cell_type": "code",
   "execution_count": 79,
   "metadata": {},
   "outputs": [
    {
     "name": "stdout",
     "output_type": "stream",
     "text": [
      "Conv Layer 1 Weights:\n",
      "Mean: 0.014216514304280281\n",
      "Variance: 0.05130114406347275\n",
      "Conv Layer 1 Biases:\n",
      "Mean: -0.1083553209900856\n",
      "Variance: 0.0\n",
      "------------------------------\n",
      "Conv Layer 2 Weights:\n",
      "Mean: -0.04437485709786415\n",
      "Variance: 0.08046343177556992\n",
      "Conv Layer 2 Biases:\n",
      "Mean: -0.08114368468523026\n",
      "Variance: 0.0\n",
      "------------------------------\n"
     ]
    }
   ],
   "source": [
    "for i in range(2):\n",
    "    mean = np.mean(weights_final[:, :, 0, i])\n",
    "    variance = np.var(weights_final[:, :, 0, i])\n",
    "    print(f\"Conv Layer {i + 1} Weights:\")\n",
    "    print(f\"Mean: {mean}\")\n",
    "    print(f\"Variance: {variance}\")\n",
    "    \n",
    "    mean = np.mean(bias_final[i])\n",
    "    variance = np.var(bias_final[i])\n",
    "    print(f\"Conv Layer {i + 1} Biases:\")\n",
    "    print(f\"Mean: {mean}\")\n",
    "    print(f\"Variance: {variance}\")\n",
    "    print(\"-\" * 30)\n",
    "\n",
    "save_model_statistics('0_1_weights_stats.txt', weights_final, bias_final, 'After Training')\n",
    "save_model_weights('0_1_weights.txt', weights_final, bias_final, 'After Training')\n",
    "save_kernel_comparison_images('0_1_image.png', weights_init, weights_final)"
   ]
  },
  {
   "cell_type": "code",
   "execution_count": 80,
   "metadata": {},
   "outputs": [
    {
     "name": "stdout",
     "output_type": "stream",
     "text": [
      "\u001b[1m67/67\u001b[0m \u001b[32m━━━━━━━━━━━━━━━━━━━━\u001b[0m\u001b[37m\u001b[0m \u001b[1m0s\u001b[0m 980us/step - accuracy: 0.9987 - loss: 0.0185 \n",
      "Test accuracy: 0.9990543723106384\n"
     ]
    }
   ],
   "source": [
    "test_loss, test_acc = model.evaluate(x_test_full, y_test_full)\n",
    "print(f'Test accuracy: {test_acc}')\n"
   ]
  },
  {
   "cell_type": "code",
   "execution_count": 81,
   "metadata": {},
   "outputs": [
    {
     "name": "stdout",
     "output_type": "stream",
     "text": [
      "\u001b[1m67/67\u001b[0m \u001b[32m━━━━━━━━━━━━━━━━━━━━\u001b[0m\u001b[37m\u001b[0m \u001b[1m0s\u001b[0m 1ms/step\n"
     ]
    },
    {
     "data": {
      "text/plain": [
       "[<matplotlib.lines.Line2D at 0x1d1858f36d0>]"
      ]
     },
     "execution_count": 81,
     "metadata": {},
     "output_type": "execute_result"
    },
    {
     "data": {
      "image/png": "[encoded data removed]",
      "text/plain": [
       "<Figure size 640x480 with 1 Axes>"
      ]
     },
     "metadata": {},
     "output_type": "display_data"
    }
   ],
   "source": [
    "predictions = model.predict(x_test_full)\n",
    "plt.plot((predictions[0])) \n"
   ]
  },
  {
   "cell_type": "code",
   "execution_count": 82,
   "metadata": {},
   "outputs": [
    {
     "data": {
      "image/png": "[encoded data removed]",
      "text/plain": [
       "<Figure size 1000x1000 with 25 Axes>"
      ]
     },
     "metadata": {},
     "output_type": "display_data"
    }
   ],
   "source": [
    "plt.figure(figsize=(10, 10))\n",
    "for i in range(25):\n",
    "    plt.subplot(5, 5, i + 1)\n",
    "    plt.xticks([])\n",
    "    plt.yticks([])\n",
    "    plt.grid(False)\n",
    "    plt.imshow(x_test_full[i].reshape(28, 28), cmap=plt.cm.binary)\n",
    "    plt.xlabel(f\"Pred: {np.argmax(predictions[i])}, Actual: {np.argmax(y_test_full[i])}\")\n",
    "plt.show()\n"
   ]
  },
  {
   "cell_type": "code",
   "execution_count": 83,
   "metadata": {},
   "outputs": [
    {
     "name": "stdout",
     "output_type": "stream",
     "text": [
      "[[ 0.29753017 -0.38746893 -0.5043122 ]\n",
      " [ 0.06602521  0.18401669  0.06583315]\n",
      " [-0.13530494 -0.29939213  0.3136993 ]]\n",
      "(28, 28)\n"
     ]
    }
   ],
   "source": [
    "\n",
    "from scipy.signal import convolve2d\n",
    "\n",
    "image = x_test_full[1]\n",
    "image = image[:, :, 0]\n",
    "\n",
    "kernel = weights_final[:,:,0,1]\n",
    "\n",
    "print(kernel)\n",
    "print(image.shape)"
   ]
  },
  {
   "cell_type": "code",
   "execution_count": 84,
   "metadata": {},
   "outputs": [
    {
     "data": {
      "image/png": "[encoded data removed]",
      "text/plain": [
       "<Figure size 1500x500 with 3 Axes>"
      ]
     },
     "metadata": {},
     "output_type": "display_data"
    }
   ],
   "source": [
    "\n",
    "\n",
    "# Perform the convolution operation with no padding and stride of 1\n",
    "convolved_output = convolve2d(image, kernel, mode='valid')\n",
    "\n",
    "# Plotting\n",
    "fig, axs = plt.subplots(1, 3, figsize=(15, 5))\n",
    "\n",
    "# Original image\n",
    "axs[0].imshow(image, cmap='gray')\n",
    "axs[0].set_title('Original Image')\n",
    "axs[0].axis('off')\n",
    "\n",
    "# Kernel\n",
    "axs[1].imshow(kernel, cmap='gray')\n",
    "axs[1].set_title('Kernel')\n",
    "axs[1].axis('off')\n",
    "\n",
    "# Convolution output\n",
    "axs[2].imshow(convolved_output, cmap='gray')\n",
    "axs[2].set_title('Convolution Output')\n",
    "axs[2].axis('off')\n",
    "\n",
    "plt.show()\n"
   ]
  },
  {
   "cell_type": "code",
   "execution_count": 85,
   "metadata": {},
   "outputs": [
    {
     "data": {
      "image/png": "[encoded data removed]",
      "text/plain": [
       "<Figure size 1500x500 with 3 Axes>"
      ]
     },
     "metadata": {},
     "output_type": "display_data"
    }
   ],
   "source": [
    "kernel = weights_final[:,:,0,0]\n",
    "\n",
    "\n",
    "# Perform the convolution operation with no padding and stride of 1\n",
    "convolved_output = convolve2d(image, kernel, mode='valid')\n",
    "\n",
    "# Plotting\n",
    "fig, axs = plt.subplots(1, 3, figsize=(15, 5))\n",
    "\n",
    "# Original image\n",
    "axs[0].imshow(image, cmap='gray')\n",
    "axs[0].set_title('Original Image')\n",
    "axs[0].axis('off')\n",
    "\n",
    "# Kernel\n",
    "axs[1].imshow(kernel, cmap='gray')\n",
    "axs[1].set_title('Kernel')\n",
    "axs[1].axis('off')\n",
    "\n",
    "# Convolution output\n",
    "axs[2].imshow(convolved_output, cmap='gray')\n",
    "axs[2].set_title('Convolution Output')\n",
    "axs[2].axis('off')\n",
    "\n",
    "plt.show()\n"
   ]
  }
 ],
 "metadata": {
  "kernelspec": {
   "display_name": "Python 3",
   "language": "python",
   "name": "python3"
  },
  "language_info": {
   "codemirror_mode": {
    "name": "ipython",
    "version": 3
   },
   "file_extension": ".py",
   "mimetype": "text/x-python",
   "name": "python",
   "nbconvert_exporter": "python",
   "pygments_lexer": "ipython3",
   "version": "3.10.7"
  }
 },
 "nbformat": 4,
 "nbformat_minor": 2
}
