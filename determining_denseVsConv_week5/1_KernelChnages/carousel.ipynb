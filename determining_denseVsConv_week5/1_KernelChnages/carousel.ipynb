{
 "cells": [
  {
   "cell_type": "code",
   "execution_count": 4,
   "metadata": {},
   "outputs": [],
   "source": [
    "import cv2\n",
    "import numpy as np\n",
    "from time import sleep\n",
    "\n",
    "imagelist = [\"init.png\", \"One_v1.png\", \"One_v2.png\"]\n",
    "\n",
    "for image in imagelist:\n",
    "    img = cv2.imread(image)\n",
    "    \n",
    "    if img is None:\n",
    "        print(f\"Error: Unable to load image {image}\")\n",
    "    else:\n",
    "        # Create space at the top of the image by adding a blank area\n",
    "        height, width, _ = img.shape\n",
    "        top_space = 50  # Space for the label\n",
    "        img_with_space = np.zeros((height + top_space, width, 3), dtype=np.uint8)\n",
    "        img_with_space[top_space:, :] = img  # Insert image below the space\n",
    "        \n",
    "        # Add text in the blank space at the top\n",
    "        font = cv2.FONT_HERSHEY_SIMPLEX\n",
    "        cv2.putText(img_with_space, image, (10, 30), font, 1, (255,255,255), 2, cv2.LINE_AA)  # Black text\n",
    "        \n",
    "        cv2.imshow(\"SCREEN\", img_with_space)\n",
    "        cv2.waitKey(5000)  # Wait for 1 second to display the image\n",
    "        sleep(1)  # Additional sleep between images\n",
    "\n",
    "cv2.destroyAllWindows()  # Close the image window\n"
   ]
  }
 ],
 "metadata": {
  "kernelspec": {
   "display_name": "Python 3",
   "language": "python",
   "name": "python3"
  },
  "language_info": {
   "codemirror_mode": {
    "name": "ipython",
    "version": 3
   },
   "file_extension": ".py",
   "mimetype": "text/x-python",
   "name": "python",
   "nbconvert_exporter": "python",
   "pygments_lexer": "ipython3",
   "version": "3.10.7"
  }
 },
 "nbformat": 4,
 "nbformat_minor": 2
}
