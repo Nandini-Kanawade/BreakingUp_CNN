{
 "cells": [
  {
   "cell_type": "code",
   "execution_count": 1,
   "metadata": {},
   "outputs": [],
   "source": [
    "#imports\n",
    "\n",
    "import os\n",
    "import numpy as np\n",
    "import seaborn as sns\n",
    "import tensorflow as tf\n",
    "from tensorflow import keras\n",
    "import matplotlib.pyplot as plt\n",
    "from sklearn.utils import shuffle\n",
    "from tensorflow.keras import layers, models, callbacks\n",
    "from tensorflow.keras.callbacks import Callback\n"
   ]
  },
  {
   "cell_type": "code",
   "execution_count": 2,
   "metadata": {},
   "outputs": [],
   "source": [
    "#Loading the dataset\n",
    "mnist = keras.datasets.mnist\n",
    "(x_full, y_full), (x_test_full, y_test_full) = mnist.load_data()"
   ]
  },
  {
   "cell_type": "code",
   "execution_count": 3,
   "metadata": {},
   "outputs": [
    {
     "name": "stdout",
     "output_type": "stream",
     "text": [
      "shape_training_0 =>\n",
      "\t (5400, 28, 28)\n",
      "\t (5400,)\n",
      "lenght_training_other =>\n",
      "\t 9 9\n",
      "shape_training_other =>\n",
      "\t (5400, 28, 28)\n",
      "\t (5400,)\n",
      "shape_training_complete =>\n",
      "\t (10800, 28, 28)\n",
      "\t (10800,)\n"
     ]
    }
   ],
   "source": [
    "# Training Data\n",
    "'''\n",
    "TRAINING DATA\n",
    "5400 - ones/zeros\n",
    "5400 - other \n",
    "    [600 * 9 of 1/0 to 9]\n",
    "'''\n",
    "\n",
    "x_train_0 = x_full[y_full == 0][:5400]\n",
    "y_train_0 = np.ones((5400,))\n",
    "print(\"shape_training_0 =>\")\n",
    "print(\"\\t\",x_train_0.shape)\n",
    "print(\"\\t\",y_train_0.shape)\n",
    "\n",
    "x_train_others = []\n",
    "y_train_others = []\n",
    "for digit in range(1,10):\n",
    "    x_digit = x_full[y_full == digit][:600]\n",
    "    y_digit = np.zeros((600,))  \n",
    "    x_train_others.append(x_digit)\n",
    "    y_train_others.append(y_digit)\n",
    "print(\"lenght_training_other =>\")\n",
    "print(\"\\t\",len(x_train_others),len(y_train_others))\n",
    "\n",
    "x_train_others = np.concatenate(x_train_others, axis=0)\n",
    "y_train_others = np.concatenate(y_train_others, axis=0)\n",
    "print(\"shape_training_other =>\")\n",
    "print(\"\\t\",x_train_others.shape)\n",
    "print(\"\\t\",y_train_others.shape)\n",
    "\n",
    "x_train = np.concatenate([x_train_0, x_train_others], axis=0)\n",
    "y_train = np.concatenate([y_train_0, y_train_others], axis=0)\n",
    "x_train, y_train = shuffle(x_train, y_train, random_state=42)\n",
    "print(\"shape_training_complete =>\")\n",
    "print(\"\\t\",x_train.shape)\n",
    "print(\"\\t\",y_train.shape)\n"
   ]
  },
  {
   "cell_type": "code",
   "execution_count": 4,
   "metadata": {},
   "outputs": [
    {
     "name": "stdout",
     "output_type": "stream",
     "text": [
      "shape_testing_0 =>\n",
      "\t (810, 28, 28)\n",
      "\t (810,)\n",
      "lenght_testing_other =>\n",
      "\t 9 9\n",
      "shape_testing_other =>\n",
      "\t (810, 28, 28)\n",
      "\t (810,)\n",
      "shape_testing_complete =>\n",
      "\t (1620, 28, 28)\n",
      "\t (1620,)\n"
     ]
    }
   ],
   "source": [
    "# Testing Data\n",
    "'''\n",
    "TESTING DATA\n",
    "810 - ones/zeros\n",
    "810 - other \n",
    "    [90 * 9 of 1/0 to 9]\n",
    "'''\n",
    "\n",
    "x_test_0 = x_test_full[y_test_full == 0][:810]\n",
    "y_test_0 = np.ones((810,))\n",
    "print(\"shape_testing_0 =>\")\n",
    "print(\"\\t\",x_test_0.shape)\n",
    "print(\"\\t\",y_test_0.shape)\n",
    "\n",
    "x_test_others = []\n",
    "y_test_others = []\n",
    "for digit in range(1,10):\n",
    "    x_digit = x_test_full[y_test_full == digit][:90]\n",
    "    y_digit = np.zeros((90,))  \n",
    "    x_test_others.append(x_digit)\n",
    "    y_test_others.append(y_digit)\n",
    "print(\"lenght_testing_other =>\")\n",
    "print(\"\\t\",len(x_test_others),len(y_test_others))\n",
    "\n",
    "x_test_others = np.concatenate(x_test_others, axis=0)\n",
    "y_test_others = np.concatenate(y_test_others, axis=0)\n",
    "print(\"shape_testing_other =>\")\n",
    "print(\"\\t\",x_test_others.shape)\n",
    "print(\"\\t\",y_test_others.shape)\n",
    "\n",
    "\n",
    "x_test = np.concatenate([x_test_0, x_test_others], axis=0)\n",
    "y_test = np.concatenate([y_test_0, y_test_others], axis=0)\n",
    "x_test, y_test = shuffle(x_test, y_test, random_state=42)\n",
    "print(\"shape_testing_complete =>\")\n",
    "print(\"\\t\",x_test.shape)\n",
    "print(\"\\t\",y_test.shape)\n"
   ]
  },
  {
   "cell_type": "code",
   "execution_count": 5,
   "metadata": {},
   "outputs": [
    {
     "name": "stderr",
     "output_type": "stream",
     "text": [
      "c:\\Users\\nandi\\AppData\\Local\\Programs\\Python\\Python310\\lib\\site-packages\\keras\\src\\layers\\convolutional\\base_conv.py:99: UserWarning: Do not pass an `input_shape`/`input_dim` argument to a layer. When using Sequential models, prefer using an `Input(shape)` object as the first layer in the model instead.\n",
      "  super().__init__(\n"
     ]
    },
    {
     "data": {
      "text/html": [
       "<pre style=\"white-space:pre;overflow-x:auto;line-height:normal;font-family:Menlo,'DejaVu Sans Mono',consolas,'Courier New',monospace\"><span style=\"font-weight: bold\">Model: \"sequential\"</span>\n",
       "</pre>\n"
      ],
      "text/plain": [
       "\u001b[1mModel: \"sequential\"\u001b[0m\n"
      ]
     },
     "metadata": {},
     "output_type": "display_data"
    },
    {
     "data": {
      "text/html": [
       "<pre style=\"white-space:pre;overflow-x:auto;line-height:normal;font-family:Menlo,'DejaVu Sans Mono',consolas,'Courier New',monospace\">┏━━━━━━━━━━━━━━━━━━━━━━━━━━━━━━━━━┳━━━━━━━━━━━━━━━━━━━━━━━━┳━━━━━━━━━━━━━━━┓\n",
       "┃<span style=\"font-weight: bold\"> Layer (type)                    </span>┃<span style=\"font-weight: bold\"> Output Shape           </span>┃<span style=\"font-weight: bold\">       Param # </span>┃\n",
       "┡━━━━━━━━━━━━━━━━━━━━━━━━━━━━━━━━━╇━━━━━━━━━━━━━━━━━━━━━━━━╇━━━━━━━━━━━━━━━┩\n",
       "│ conv2d (<span style=\"color: #0087ff; text-decoration-color: #0087ff\">Conv2D</span>)                 │ (<span style=\"color: #00d7ff; text-decoration-color: #00d7ff\">None</span>, <span style=\"color: #00af00; text-decoration-color: #00af00\">26</span>, <span style=\"color: #00af00; text-decoration-color: #00af00\">26</span>, <span style=\"color: #00af00; text-decoration-color: #00af00\">8</span>)      │            <span style=\"color: #00af00; text-decoration-color: #00af00\">80</span> │\n",
       "├─────────────────────────────────┼────────────────────────┼───────────────┤\n",
       "│ max_pooling2d (<span style=\"color: #0087ff; text-decoration-color: #0087ff\">MaxPooling2D</span>)    │ (<span style=\"color: #00d7ff; text-decoration-color: #00d7ff\">None</span>, <span style=\"color: #00af00; text-decoration-color: #00af00\">13</span>, <span style=\"color: #00af00; text-decoration-color: #00af00\">13</span>, <span style=\"color: #00af00; text-decoration-color: #00af00\">8</span>)      │             <span style=\"color: #00af00; text-decoration-color: #00af00\">0</span> │\n",
       "├─────────────────────────────────┼────────────────────────┼───────────────┤\n",
       "│ flatten (<span style=\"color: #0087ff; text-decoration-color: #0087ff\">Flatten</span>)               │ (<span style=\"color: #00d7ff; text-decoration-color: #00d7ff\">None</span>, <span style=\"color: #00af00; text-decoration-color: #00af00\">1352</span>)           │             <span style=\"color: #00af00; text-decoration-color: #00af00\">0</span> │\n",
       "├─────────────────────────────────┼────────────────────────┼───────────────┤\n",
       "│ dense (<span style=\"color: #0087ff; text-decoration-color: #0087ff\">Dense</span>)                   │ (<span style=\"color: #00d7ff; text-decoration-color: #00d7ff\">None</span>, <span style=\"color: #00af00; text-decoration-color: #00af00\">676</span>)            │       <span style=\"color: #00af00; text-decoration-color: #00af00\">914,628</span> │\n",
       "├─────────────────────────────────┼────────────────────────┼───────────────┤\n",
       "│ dense_1 (<span style=\"color: #0087ff; text-decoration-color: #0087ff\">Dense</span>)                 │ (<span style=\"color: #00d7ff; text-decoration-color: #00d7ff\">None</span>, <span style=\"color: #00af00; text-decoration-color: #00af00\">338</span>)            │       <span style=\"color: #00af00; text-decoration-color: #00af00\">228,826</span> │\n",
       "├─────────────────────────────────┼────────────────────────┼───────────────┤\n",
       "│ dense_2 (<span style=\"color: #0087ff; text-decoration-color: #0087ff\">Dense</span>)                 │ (<span style=\"color: #00d7ff; text-decoration-color: #00d7ff\">None</span>, <span style=\"color: #00af00; text-decoration-color: #00af00\">169</span>)            │        <span style=\"color: #00af00; text-decoration-color: #00af00\">57,291</span> │\n",
       "├─────────────────────────────────┼────────────────────────┼───────────────┤\n",
       "│ dense_3 (<span style=\"color: #0087ff; text-decoration-color: #0087ff\">Dense</span>)                 │ (<span style=\"color: #00d7ff; text-decoration-color: #00d7ff\">None</span>, <span style=\"color: #00af00; text-decoration-color: #00af00\">85</span>)             │        <span style=\"color: #00af00; text-decoration-color: #00af00\">14,450</span> │\n",
       "├─────────────────────────────────┼────────────────────────┼───────────────┤\n",
       "│ dense_4 (<span style=\"color: #0087ff; text-decoration-color: #0087ff\">Dense</span>)                 │ (<span style=\"color: #00d7ff; text-decoration-color: #00d7ff\">None</span>, <span style=\"color: #00af00; text-decoration-color: #00af00\">42</span>)             │         <span style=\"color: #00af00; text-decoration-color: #00af00\">3,612</span> │\n",
       "├─────────────────────────────────┼────────────────────────┼───────────────┤\n",
       "│ dense_5 (<span style=\"color: #0087ff; text-decoration-color: #0087ff\">Dense</span>)                 │ (<span style=\"color: #00d7ff; text-decoration-color: #00d7ff\">None</span>, <span style=\"color: #00af00; text-decoration-color: #00af00\">21</span>)             │           <span style=\"color: #00af00; text-decoration-color: #00af00\">903</span> │\n",
       "├─────────────────────────────────┼────────────────────────┼───────────────┤\n",
       "│ dense_6 (<span style=\"color: #0087ff; text-decoration-color: #0087ff\">Dense</span>)                 │ (<span style=\"color: #00d7ff; text-decoration-color: #00d7ff\">None</span>, <span style=\"color: #00af00; text-decoration-color: #00af00\">11</span>)             │           <span style=\"color: #00af00; text-decoration-color: #00af00\">242</span> │\n",
       "├─────────────────────────────────┼────────────────────────┼───────────────┤\n",
       "│ dense_7 (<span style=\"color: #0087ff; text-decoration-color: #0087ff\">Dense</span>)                 │ (<span style=\"color: #00d7ff; text-decoration-color: #00d7ff\">None</span>, <span style=\"color: #00af00; text-decoration-color: #00af00\">5</span>)              │            <span style=\"color: #00af00; text-decoration-color: #00af00\">60</span> │\n",
       "├─────────────────────────────────┼────────────────────────┼───────────────┤\n",
       "│ dense_8 (<span style=\"color: #0087ff; text-decoration-color: #0087ff\">Dense</span>)                 │ (<span style=\"color: #00d7ff; text-decoration-color: #00d7ff\">None</span>, <span style=\"color: #00af00; text-decoration-color: #00af00\">3</span>)              │            <span style=\"color: #00af00; text-decoration-color: #00af00\">18</span> │\n",
       "├─────────────────────────────────┼────────────────────────┼───────────────┤\n",
       "│ dense_9 (<span style=\"color: #0087ff; text-decoration-color: #0087ff\">Dense</span>)                 │ (<span style=\"color: #00d7ff; text-decoration-color: #00d7ff\">None</span>, <span style=\"color: #00af00; text-decoration-color: #00af00\">2</span>)              │             <span style=\"color: #00af00; text-decoration-color: #00af00\">8</span> │\n",
       "├─────────────────────────────────┼────────────────────────┼───────────────┤\n",
       "│ dense_10 (<span style=\"color: #0087ff; text-decoration-color: #0087ff\">Dense</span>)                │ (<span style=\"color: #00d7ff; text-decoration-color: #00d7ff\">None</span>, <span style=\"color: #00af00; text-decoration-color: #00af00\">1</span>)              │             <span style=\"color: #00af00; text-decoration-color: #00af00\">3</span> │\n",
       "└─────────────────────────────────┴────────────────────────┴───────────────┘\n",
       "</pre>\n"
      ],
      "text/plain": [
       "┏━━━━━━━━━━━━━━━━━━━━━━━━━━━━━━━━━┳━━━━━━━━━━━━━━━━━━━━━━━━┳━━━━━━━━━━━━━━━┓\n",
       "┃\u001b[1m \u001b[0m\u001b[1mLayer (type)                   \u001b[0m\u001b[1m \u001b[0m┃\u001b[1m \u001b[0m\u001b[1mOutput Shape          \u001b[0m\u001b[1m \u001b[0m┃\u001b[1m \u001b[0m\u001b[1m      Param #\u001b[0m\u001b[1m \u001b[0m┃\n",
       "┡━━━━━━━━━━━━━━━━━━━━━━━━━━━━━━━━━╇━━━━━━━━━━━━━━━━━━━━━━━━╇━━━━━━━━━━━━━━━┩\n",
       "│ conv2d (\u001b[38;5;33mConv2D\u001b[0m)                 │ (\u001b[38;5;45mNone\u001b[0m, \u001b[38;5;34m26\u001b[0m, \u001b[38;5;34m26\u001b[0m, \u001b[38;5;34m8\u001b[0m)      │            \u001b[38;5;34m80\u001b[0m │\n",
       "├─────────────────────────────────┼────────────────────────┼───────────────┤\n",
       "│ max_pooling2d (\u001b[38;5;33mMaxPooling2D\u001b[0m)    │ (\u001b[38;5;45mNone\u001b[0m, \u001b[38;5;34m13\u001b[0m, \u001b[38;5;34m13\u001b[0m, \u001b[38;5;34m8\u001b[0m)      │             \u001b[38;5;34m0\u001b[0m │\n",
       "├─────────────────────────────────┼────────────────────────┼───────────────┤\n",
       "│ flatten (\u001b[38;5;33mFlatten\u001b[0m)               │ (\u001b[38;5;45mNone\u001b[0m, \u001b[38;5;34m1352\u001b[0m)           │             \u001b[38;5;34m0\u001b[0m │\n",
       "├─────────────────────────────────┼────────────────────────┼───────────────┤\n",
       "│ dense (\u001b[38;5;33mDense\u001b[0m)                   │ (\u001b[38;5;45mNone\u001b[0m, \u001b[38;5;34m676\u001b[0m)            │       \u001b[38;5;34m914,628\u001b[0m │\n",
       "├─────────────────────────────────┼────────────────────────┼───────────────┤\n",
       "│ dense_1 (\u001b[38;5;33mDense\u001b[0m)                 │ (\u001b[38;5;45mNone\u001b[0m, \u001b[38;5;34m338\u001b[0m)            │       \u001b[38;5;34m228,826\u001b[0m │\n",
       "├─────────────────────────────────┼────────────────────────┼───────────────┤\n",
       "│ dense_2 (\u001b[38;5;33mDense\u001b[0m)                 │ (\u001b[38;5;45mNone\u001b[0m, \u001b[38;5;34m169\u001b[0m)            │        \u001b[38;5;34m57,291\u001b[0m │\n",
       "├─────────────────────────────────┼────────────────────────┼───────────────┤\n",
       "│ dense_3 (\u001b[38;5;33mDense\u001b[0m)                 │ (\u001b[38;5;45mNone\u001b[0m, \u001b[38;5;34m85\u001b[0m)             │        \u001b[38;5;34m14,450\u001b[0m │\n",
       "├─────────────────────────────────┼────────────────────────┼───────────────┤\n",
       "│ dense_4 (\u001b[38;5;33mDense\u001b[0m)                 │ (\u001b[38;5;45mNone\u001b[0m, \u001b[38;5;34m42\u001b[0m)             │         \u001b[38;5;34m3,612\u001b[0m │\n",
       "├─────────────────────────────────┼────────────────────────┼───────────────┤\n",
       "│ dense_5 (\u001b[38;5;33mDense\u001b[0m)                 │ (\u001b[38;5;45mNone\u001b[0m, \u001b[38;5;34m21\u001b[0m)             │           \u001b[38;5;34m903\u001b[0m │\n",
       "├─────────────────────────────────┼────────────────────────┼───────────────┤\n",
       "│ dense_6 (\u001b[38;5;33mDense\u001b[0m)                 │ (\u001b[38;5;45mNone\u001b[0m, \u001b[38;5;34m11\u001b[0m)             │           \u001b[38;5;34m242\u001b[0m │\n",
       "├─────────────────────────────────┼────────────────────────┼───────────────┤\n",
       "│ dense_7 (\u001b[38;5;33mDense\u001b[0m)                 │ (\u001b[38;5;45mNone\u001b[0m, \u001b[38;5;34m5\u001b[0m)              │            \u001b[38;5;34m60\u001b[0m │\n",
       "├─────────────────────────────────┼────────────────────────┼───────────────┤\n",
       "│ dense_8 (\u001b[38;5;33mDense\u001b[0m)                 │ (\u001b[38;5;45mNone\u001b[0m, \u001b[38;5;34m3\u001b[0m)              │            \u001b[38;5;34m18\u001b[0m │\n",
       "├─────────────────────────────────┼────────────────────────┼───────────────┤\n",
       "│ dense_9 (\u001b[38;5;33mDense\u001b[0m)                 │ (\u001b[38;5;45mNone\u001b[0m, \u001b[38;5;34m2\u001b[0m)              │             \u001b[38;5;34m8\u001b[0m │\n",
       "├─────────────────────────────────┼────────────────────────┼───────────────┤\n",
       "│ dense_10 (\u001b[38;5;33mDense\u001b[0m)                │ (\u001b[38;5;45mNone\u001b[0m, \u001b[38;5;34m1\u001b[0m)              │             \u001b[38;5;34m3\u001b[0m │\n",
       "└─────────────────────────────────┴────────────────────────┴───────────────┘\n"
      ]
     },
     "metadata": {},
     "output_type": "display_data"
    },
    {
     "data": {
      "text/html": [
       "<pre style=\"white-space:pre;overflow-x:auto;line-height:normal;font-family:Menlo,'DejaVu Sans Mono',consolas,'Courier New',monospace\"><span style=\"font-weight: bold\"> Total params: </span><span style=\"color: #00af00; text-decoration-color: #00af00\">1,220,121</span> (4.65 MB)\n",
       "</pre>\n"
      ],
      "text/plain": [
       "\u001b[1m Total params: \u001b[0m\u001b[38;5;34m1,220,121\u001b[0m (4.65 MB)\n"
      ]
     },
     "metadata": {},
     "output_type": "display_data"
    },
    {
     "data": {
      "text/html": [
       "<pre style=\"white-space:pre;overflow-x:auto;line-height:normal;font-family:Menlo,'DejaVu Sans Mono',consolas,'Courier New',monospace\"><span style=\"font-weight: bold\"> Trainable params: </span><span style=\"color: #00af00; text-decoration-color: #00af00\">1,220,121</span> (4.65 MB)\n",
       "</pre>\n"
      ],
      "text/plain": [
       "\u001b[1m Trainable params: \u001b[0m\u001b[38;5;34m1,220,121\u001b[0m (4.65 MB)\n"
      ]
     },
     "metadata": {},
     "output_type": "display_data"
    },
    {
     "data": {
      "text/html": [
       "<pre style=\"white-space:pre;overflow-x:auto;line-height:normal;font-family:Menlo,'DejaVu Sans Mono',consolas,'Courier New',monospace\"><span style=\"font-weight: bold\"> Non-trainable params: </span><span style=\"color: #00af00; text-decoration-color: #00af00\">0</span> (0.00 B)\n",
       "</pre>\n"
      ],
      "text/plain": [
       "\u001b[1m Non-trainable params: \u001b[0m\u001b[38;5;34m0\u001b[0m (0.00 B)\n"
      ]
     },
     "metadata": {},
     "output_type": "display_data"
    }
   ],
   "source": [
    "# Define the model\n",
    "model = models.Sequential()\n",
    "\n",
    "model.add(layers.Conv2D(8, (3, 3), padding='valid', input_shape=(28, 28, 1)))\n",
    "model.add(layers.MaxPooling2D((2, 2)))\n",
    "model.add(layers.Flatten())\n",
    "#model.add(layers.Dense(2704, activation='relu'))\n",
    "#model.add(layers.Dense(1352, activation='relu'))\n",
    "model.add(layers.Dense(676, activation='relu'))\n",
    "model.add(layers.Dense(338, activation='relu'))\n",
    "model.add(layers.Dense(169, activation='relu'))\n",
    "model.add(layers.Dense(85, activation='relu'))\n",
    "model.add(layers.Dense(42, activation='relu'))\n",
    "model.add(layers.Dense(21, activation='relu'))\n",
    "model.add(layers.Dense(11, activation='relu'))\n",
    "model.add(layers.Dense(5, activation='relu'))\n",
    "model.add(layers.Dense(3, activation='relu'))\n",
    "model.add(layers.Dense(2, activation='relu'))\n",
    "model.add(layers.Dense(1, activation='sigmoid'))  \n",
    "\n",
    "model.compile(\n",
    "    optimizer='adam',               \n",
    "    loss='binary_crossentropy',    \n",
    "    metrics=['accuracy']           \n",
    ")\n",
    "\n",
    "model.summary()"
   ]
  },
  {
   "cell_type": "code",
   "execution_count": 6,
   "metadata": {},
   "outputs": [
    {
     "name": "stdout",
     "output_type": "stream",
     "text": [
      "[[-0.42418408]\n",
      " [ 0.27864838]]\n"
     ]
    }
   ],
   "source": [
    "'''\n",
    "26 weights\n",
    "27 bias 0\n",
    "'''\n",
    "x=model.get_weights()[22]\n",
    "print((x))"
   ]
  },
  {
   "cell_type": "code",
   "execution_count": 7,
   "metadata": {},
   "outputs": [
    {
     "name": "stdout",
     "output_type": "stream",
     "text": [
      "Loaded weights for layer 0 from ../../generateModelWeights_week4/InitWeightsParallelSparse\\layer_number_0.npz\n",
      "No weights found for layer 1.\n",
      "No weights found for layer 2.\n",
      "Loaded weights for layer 3 from ../../generateModelWeights_week4/InitWeightsParallelSparse\\layer_number_3.npz\n",
      "Loaded weights for layer 4 from ../../generateModelWeights_week4/InitWeightsParallelSparse\\layer_number_4.npz\n",
      "Loaded weights for layer 5 from ../../generateModelWeights_week4/InitWeightsParallelSparse\\layer_number_5.npz\n",
      "Loaded weights for layer 6 from ../../generateModelWeights_week4/InitWeightsParallelSparse\\layer_number_6.npz\n",
      "Loaded weights for layer 7 from ../../generateModelWeights_week4/InitWeightsParallelSparse\\layer_number_7.npz\n",
      "Loaded weights for layer 8 from ../../generateModelWeights_week4/InitWeightsParallelSparse\\layer_number_8.npz\n",
      "Loaded weights for layer 9 from ../../generateModelWeights_week4/InitWeightsParallelSparse\\layer_number_9.npz\n",
      "Loaded weights for layer 10 from ../../generateModelWeights_week4/InitWeightsParallelSparse\\layer_number_10.npz\n",
      "Loaded weights for layer 11 from ../../generateModelWeights_week4/InitWeightsParallelSparse\\layer_number_11.npz\n",
      "Loaded weights for layer 12 from ../../generateModelWeights_week4/InitWeightsParallelSparse\\layer_number_12.npz\n",
      "Loaded weights for layer 13 from ../../generateModelWeights_week4/InitWeightsParallelSparse\\layer_number_13.npz\n"
     ]
    }
   ],
   "source": [
    "def load_model_weights(model, weight_dir=\"../../generateModelWeights_week4/InitWeightsParallelSparse\"):\n",
    "    \n",
    "    for layer_num, layer in enumerate(model.layers):\n",
    "        file_path = os.path.join(weight_dir, f\"layer_number_{layer_num}.npz\")\n",
    "        if os.path.exists(file_path):\n",
    "            loaded = np.load(file_path)\n",
    "            weights = [loaded[key] for key in loaded]\n",
    "            if layer.weights: \n",
    "                layer.set_weights(weights)\n",
    "                print(f\"Loaded weights for layer {layer_num} from {file_path}\")\n",
    "            else:\n",
    "                print(f\"Layer {layer_num} has no weights.\")\n",
    "        else:\n",
    "            print(f\"No weights found for layer {layer_num}.\")\n",
    "\n",
    "load_model_weights(model)"
   ]
  },
  {
   "cell_type": "code",
   "execution_count": 8,
   "metadata": {},
   "outputs": [
    {
     "name": "stdout",
     "output_type": "stream",
     "text": [
      "[[0.05240607]\n",
      " [0.22535348]]\n"
     ]
    }
   ],
   "source": [
    "'''\n",
    "Should match\n",
    "[[0.05240607]\n",
    " [0.22535348]]\n",
    "\n",
    "'''\n",
    "x=model.get_weights()[22]\n",
    "print((x))"
   ]
  },
  {
   "cell_type": "code",
   "execution_count": 9,
   "metadata": {},
   "outputs": [],
   "source": [
    "class SaveWeightsCallback(callbacks.Callback):\n",
    "    def __init__(self, save_dir):\n",
    "        super(SaveWeightsCallback, self).__init__()\n",
    "        self.save_dir = save_dir\n",
    "\n",
    "    def on_epoch_end(self, epoch, logs=None):\n",
    "        epoch_dir = os.path.join(self.save_dir, f\"AfterEpoch{epoch + 1}\")\n",
    "        if not os.path.exists(epoch_dir):\n",
    "            os.makedirs(epoch_dir)\n",
    "        \n",
    "        for layer_num, layer in enumerate(self.model.layers):\n",
    "            if layer.weights:  # Only save weights for layers that have weights\n",
    "                file_path = os.path.join(epoch_dir, f\"Layer_{layer_num}.npz\")\n",
    "                weights = layer.get_weights()\n",
    "                np.savez(file_path, *weights)\n",
    "                print(f\"Saved weights for layer {layer_num} to {file_path}\")\n"
   ]
  },
  {
   "cell_type": "code",
   "execution_count": 10,
   "metadata": {},
   "outputs": [],
   "source": [
    "save_dir = \"./ZeroModelWeightsTraining\"\n",
    "save_weights_callback = SaveWeightsCallback(save_dir)"
   ]
  },
  {
   "cell_type": "code",
   "execution_count": 11,
   "metadata": {},
   "outputs": [
    {
     "name": "stdout",
     "output_type": "stream",
     "text": [
      "Epoch 1/5\n",
      "\u001b[1m337/338\u001b[0m \u001b[32m━━━━━━━━━━━━━━━━━━━\u001b[0m\u001b[37m━\u001b[0m \u001b[1m0s\u001b[0m 6ms/step - accuracy: 0.8593 - loss: 0.4453Saved weights for layer 0 to ./ZeroModelWeightsTraining\\AfterEpoch1\\Layer_0.npz\n",
      "Saved weights for layer 3 to ./ZeroModelWeightsTraining\\AfterEpoch1\\Layer_3.npz\n",
      "Saved weights for layer 4 to ./ZeroModelWeightsTraining\\AfterEpoch1\\Layer_4.npz\n",
      "Saved weights for layer 5 to ./ZeroModelWeightsTraining\\AfterEpoch1\\Layer_5.npz\n",
      "Saved weights for layer 6 to ./ZeroModelWeightsTraining\\AfterEpoch1\\Layer_6.npz\n",
      "Saved weights for layer 7 to ./ZeroModelWeightsTraining\\AfterEpoch1\\Layer_7.npz\n",
      "Saved weights for layer 8 to ./ZeroModelWeightsTraining\\AfterEpoch1\\Layer_8.npz\n",
      "Saved weights for layer 9 to ./ZeroModelWeightsTraining\\AfterEpoch1\\Layer_9.npz\n",
      "Saved weights for layer 10 to ./ZeroModelWeightsTraining\\AfterEpoch1\\Layer_10.npz\n",
      "Saved weights for layer 11 to ./ZeroModelWeightsTraining\\AfterEpoch1\\Layer_11.npz\n",
      "Saved weights for layer 12 to ./ZeroModelWeightsTraining\\AfterEpoch1\\Layer_12.npz\n",
      "Saved weights for layer 13 to ./ZeroModelWeightsTraining\\AfterEpoch1\\Layer_13.npz\n",
      "\u001b[1m338/338\u001b[0m \u001b[32m━━━━━━━━━━━━━━━━━━━━\u001b[0m\u001b[37m\u001b[0m \u001b[1m4s\u001b[0m 6ms/step - accuracy: 0.8598 - loss: 0.4449\n",
      "Epoch 2/5\n",
      "\u001b[1m337/338\u001b[0m \u001b[32m━━━━━━━━━━━━━━━━━━━\u001b[0m\u001b[37m━\u001b[0m \u001b[1m0s\u001b[0m 6ms/step - accuracy: 0.9835 - loss: 0.2829Saved weights for layer 0 to ./ZeroModelWeightsTraining\\AfterEpoch2\\Layer_0.npz\n",
      "Saved weights for layer 3 to ./ZeroModelWeightsTraining\\AfterEpoch2\\Layer_3.npz\n",
      "Saved weights for layer 4 to ./ZeroModelWeightsTraining\\AfterEpoch2\\Layer_4.npz\n",
      "Saved weights for layer 5 to ./ZeroModelWeightsTraining\\AfterEpoch2\\Layer_5.npz\n",
      "Saved weights for layer 6 to ./ZeroModelWeightsTraining\\AfterEpoch2\\Layer_6.npz\n",
      "Saved weights for layer 7 to ./ZeroModelWeightsTraining\\AfterEpoch2\\Layer_7.npz\n",
      "Saved weights for layer 8 to ./ZeroModelWeightsTraining\\AfterEpoch2\\Layer_8.npz\n",
      "Saved weights for layer 9 to ./ZeroModelWeightsTraining\\AfterEpoch2\\Layer_9.npz\n",
      "Saved weights for layer 10 to ./ZeroModelWeightsTraining\\AfterEpoch2\\Layer_10.npz\n",
      "Saved weights for layer 11 to ./ZeroModelWeightsTraining\\AfterEpoch2\\Layer_11.npz\n",
      "Saved weights for layer 12 to ./ZeroModelWeightsTraining\\AfterEpoch2\\Layer_12.npz\n",
      "Saved weights for layer 13 to ./ZeroModelWeightsTraining\\AfterEpoch2\\Layer_13.npz\n",
      "\u001b[1m338/338\u001b[0m \u001b[32m━━━━━━━━━━━━━━━━━━━━\u001b[0m\u001b[37m\u001b[0m \u001b[1m2s\u001b[0m 6ms/step - accuracy: 0.9835 - loss: 0.2828\n",
      "Epoch 3/5\n",
      "\u001b[1m331/338\u001b[0m \u001b[32m━━━━━━━━━━━━━━━━━━━\u001b[0m\u001b[37m━\u001b[0m \u001b[1m0s\u001b[0m 6ms/step - accuracy: 0.9911 - loss: 0.2225Saved weights for layer 0 to ./ZeroModelWeightsTraining\\AfterEpoch3\\Layer_0.npz\n",
      "Saved weights for layer 3 to ./ZeroModelWeightsTraining\\AfterEpoch3\\Layer_3.npz\n",
      "Saved weights for layer 4 to ./ZeroModelWeightsTraining\\AfterEpoch3\\Layer_4.npz\n",
      "Saved weights for layer 5 to ./ZeroModelWeightsTraining\\AfterEpoch3\\Layer_5.npz\n",
      "Saved weights for layer 6 to ./ZeroModelWeightsTraining\\AfterEpoch3\\Layer_6.npz\n",
      "Saved weights for layer 7 to ./ZeroModelWeightsTraining\\AfterEpoch3\\Layer_7.npz\n",
      "Saved weights for layer 8 to ./ZeroModelWeightsTraining\\AfterEpoch3\\Layer_8.npz\n",
      "Saved weights for layer 9 to ./ZeroModelWeightsTraining\\AfterEpoch3\\Layer_9.npz\n",
      "Saved weights for layer 10 to ./ZeroModelWeightsTraining\\AfterEpoch3\\Layer_10.npz\n",
      "Saved weights for layer 11 to ./ZeroModelWeightsTraining\\AfterEpoch3\\Layer_11.npz\n",
      "Saved weights for layer 12 to ./ZeroModelWeightsTraining\\AfterEpoch3\\Layer_12.npz\n",
      "Saved weights for layer 13 to ./ZeroModelWeightsTraining\\AfterEpoch3\\Layer_13.npz\n",
      "\u001b[1m338/338\u001b[0m \u001b[32m━━━━━━━━━━━━━━━━━━━━\u001b[0m\u001b[37m\u001b[0m \u001b[1m2s\u001b[0m 6ms/step - accuracy: 0.9911 - loss: 0.2221\n",
      "Epoch 4/5\n",
      "\u001b[1m334/338\u001b[0m \u001b[32m━━━━━━━━━━━━━━━━━━━\u001b[0m\u001b[37m━\u001b[0m \u001b[1m0s\u001b[0m 6ms/step - accuracy: 0.9923 - loss: 0.1745Saved weights for layer 0 to ./ZeroModelWeightsTraining\\AfterEpoch4\\Layer_0.npz\n",
      "Saved weights for layer 3 to ./ZeroModelWeightsTraining\\AfterEpoch4\\Layer_3.npz\n",
      "Saved weights for layer 4 to ./ZeroModelWeightsTraining\\AfterEpoch4\\Layer_4.npz\n",
      "Saved weights for layer 5 to ./ZeroModelWeightsTraining\\AfterEpoch4\\Layer_5.npz\n",
      "Saved weights for layer 6 to ./ZeroModelWeightsTraining\\AfterEpoch4\\Layer_6.npz\n",
      "Saved weights for layer 7 to ./ZeroModelWeightsTraining\\AfterEpoch4\\Layer_7.npz\n",
      "Saved weights for layer 8 to ./ZeroModelWeightsTraining\\AfterEpoch4\\Layer_8.npz\n",
      "Saved weights for layer 9 to ./ZeroModelWeightsTraining\\AfterEpoch4\\Layer_9.npz\n",
      "Saved weights for layer 10 to ./ZeroModelWeightsTraining\\AfterEpoch4\\Layer_10.npz\n",
      "Saved weights for layer 11 to ./ZeroModelWeightsTraining\\AfterEpoch4\\Layer_11.npz\n",
      "Saved weights for layer 12 to ./ZeroModelWeightsTraining\\AfterEpoch4\\Layer_12.npz\n",
      "Saved weights for layer 13 to ./ZeroModelWeightsTraining\\AfterEpoch4\\Layer_13.npz\n",
      "\u001b[1m338/338\u001b[0m \u001b[32m━━━━━━━━━━━━━━━━━━━━\u001b[0m\u001b[37m\u001b[0m \u001b[1m2s\u001b[0m 6ms/step - accuracy: 0.9923 - loss: 0.1745\n",
      "Epoch 5/5\n",
      "\u001b[1m334/338\u001b[0m \u001b[32m━━━━━━━━━━━━━━━━━━━\u001b[0m\u001b[37m━\u001b[0m \u001b[1m0s\u001b[0m 7ms/step - accuracy: 0.9924 - loss: 0.1443Saved weights for layer 0 to ./ZeroModelWeightsTraining\\AfterEpoch5\\Layer_0.npz\n",
      "Saved weights for layer 3 to ./ZeroModelWeightsTraining\\AfterEpoch5\\Layer_3.npz\n",
      "Saved weights for layer 4 to ./ZeroModelWeightsTraining\\AfterEpoch5\\Layer_4.npz\n",
      "Saved weights for layer 5 to ./ZeroModelWeightsTraining\\AfterEpoch5\\Layer_5.npz\n",
      "Saved weights for layer 6 to ./ZeroModelWeightsTraining\\AfterEpoch5\\Layer_6.npz\n",
      "Saved weights for layer 7 to ./ZeroModelWeightsTraining\\AfterEpoch5\\Layer_7.npz\n",
      "Saved weights for layer 8 to ./ZeroModelWeightsTraining\\AfterEpoch5\\Layer_8.npz\n",
      "Saved weights for layer 9 to ./ZeroModelWeightsTraining\\AfterEpoch5\\Layer_9.npz\n",
      "Saved weights for layer 10 to ./ZeroModelWeightsTraining\\AfterEpoch5\\Layer_10.npz\n",
      "Saved weights for layer 11 to ./ZeroModelWeightsTraining\\AfterEpoch5\\Layer_11.npz\n",
      "Saved weights for layer 12 to ./ZeroModelWeightsTraining\\AfterEpoch5\\Layer_12.npz\n",
      "Saved weights for layer 13 to ./ZeroModelWeightsTraining\\AfterEpoch5\\Layer_13.npz\n",
      "\u001b[1m338/338\u001b[0m \u001b[32m━━━━━━━━━━━━━━━━━━━━\u001b[0m\u001b[37m\u001b[0m \u001b[1m2s\u001b[0m 7ms/step - accuracy: 0.9924 - loss: 0.1442\n"
     ]
    }
   ],
   "source": [
    "history = model.fit(\n",
    "    x_train, y_train,\n",
    "    epochs=5,  \n",
    "    callbacks=[save_weights_callback]\n",
    ")"
   ]
  },
  {
   "cell_type": "code",
   "execution_count": 12,
   "metadata": {},
   "outputs": [
    {
     "name": "stdout",
     "output_type": "stream",
     "text": [
      "Epoch 1: Accuracy = 0.9354\n",
      "Epoch 2: Accuracy = 0.9841\n",
      "Epoch 3: Accuracy = 0.9918\n",
      "Epoch 4: Accuracy = 0.9921\n",
      "Epoch 5: Accuracy = 0.9928\n"
     ]
    }
   ],
   "source": [
    "for epoch, accuracy in enumerate(history.history['accuracy'], 1):\n",
    "    print(f\"Epoch {epoch}: Accuracy = {accuracy:.4f}\")\n"
   ]
  },
  {
   "cell_type": "code",
   "execution_count": 13,
   "metadata": {},
   "outputs": [
    {
     "name": "stdout",
     "output_type": "stream",
     "text": [
      "\u001b[1m51/51\u001b[0m \u001b[32m━━━━━━━━━━━━━━━━━━━━\u001b[0m\u001b[37m\u001b[0m \u001b[1m0s\u001b[0m 3ms/step - accuracy: 0.9876 - loss: 0.1299\n",
      "Test accuracy: 0.990123450756073\n"
     ]
    }
   ],
   "source": [
    "test_loss, test_acc = model.evaluate(x_test, y_test)\n",
    "print(f'Test accuracy: {test_acc}')"
   ]
  },
  {
   "cell_type": "code",
   "execution_count": 14,
   "metadata": {},
   "outputs": [
    {
     "data": {
      "image/png": "[encoded data removed]",
      "text/plain": [
       "<Figure size 800x1600 with 8 Axes>"
      ]
     },
     "metadata": {},
     "output_type": "display_data"
    }
   ],
   "source": [
    "kernels = model.layers[0].get_weights()[0]\n",
    "min_val = np.min(kernels)\n",
    "max_val = np.max(kernels)\n",
    "selected_kernels = list(range(8))\n",
    "\n",
    "fig, axes = plt.subplots(4,2, figsize=(8, 16))\n",
    "for i, kernel_idx in enumerate(selected_kernels):\n",
    "    row, col = divmod(i, 2)\n",
    "    kernel = kernels[:, :, 0, kernel_idx]  # 3x3 for each kernel\n",
    "    sns.heatmap(kernel, vmin=min_val, vmax=max_val, annot=True, cmap=\"coolwarm\", cbar=False, ax=axes[row, col])\n",
    "    axes[row, col].set_title(f'Kernel {kernel_idx+1}')\n",
    "    axes[row, col].axis('off')\n",
    "plt.tight_layout()\n",
    "plt.show()\n"
   ]
  }
 ],
 "metadata": {
  "kernelspec": {
   "display_name": "Python 3",
   "language": "python",
   "name": "python3"
  },
  "language_info": {
   "codemirror_mode": {
    "name": "ipython",
    "version": 3
   },
   "file_extension": ".py",
   "mimetype": "text/x-python",
   "name": "python",
   "nbconvert_exporter": "python",
   "pygments_lexer": "ipython3",
   "version": "3.10.7"
  }
 },
 "nbformat": 4,
 "nbformat_minor": 2
}
