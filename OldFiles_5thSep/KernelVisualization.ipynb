{
 "cells": [
  {
   "cell_type": "code",
   "execution_count": 1,
   "metadata": {},
   "outputs": [],
   "source": [
    "import logging\n",
    "import tensorflow as tf\n",
    "import numpy as np\n",
    "from tensorflow import keras\n",
    "from tensorflow.keras import layers, models\n",
    "import matplotlib.pyplot as plt\n",
    "import seaborn as sns\n",
    "from sklearn.metrics import classification_report"
   ]
  },
  {
   "cell_type": "code",
   "execution_count": 2,
   "metadata": {},
   "outputs": [],
   "source": [
    "# Function to compute and save statistics\n",
    "def save_model_statistics(file_path, filters, biases, stage):\n",
    "    with open(file_path, 'a') as f:\n",
    "        f.write(f\"\\n{stage}:\\n\")\n",
    "        for i in range(2):\n",
    "            mean = np.mean(filters[:, :, 0, i])\n",
    "            variance = np.var(filters[:, :, 0, i])\n",
    "            f.write(f\"Conv Layer {i + 1} Weights:\\n\")\n",
    "            f.write(f\"Mean: {mean}\\n\")\n",
    "            f.write(f\"Variance: {variance}\\n\")\n",
    "\n",
    "            mean = np.mean(biases[i])\n",
    "            variance = np.var(biases[i])\n",
    "            f.write(f\"Conv Layer {i + 1} Biases:\\n\")\n",
    "            f.write(f\"Mean: {mean}\\n\")\n",
    "            f.write(f\"Variance: {variance}\\n\")\n",
    "            f.write(\"-\" * 30 + \"\\n\")\n",
    "            f.write(\"-\" * 30 + \"\\n\")\n"
   ]
  },
  {
   "cell_type": "code",
   "execution_count": 116,
   "metadata": {},
   "outputs": [],
   "source": [
    "# Function to save kernel comparison images\n",
    "def save_kernel_comparison_images(file_path, filters_before, filters_after):\n",
    "    fig, axes = plt.subplots(2, 2, figsize=(10, 10))\n",
    "    \n",
    "    for i in range(2):\n",
    "        ax = axes[i, 0]\n",
    "        ax.imshow(filters_before[:, :, 0, i], cmap='gray')\n",
    "        ax.set_title(f'Filter {i + 1} Before Training')\n",
    "        for (q, w), val in np.ndenumerate(filters_before[:, :, 0, 1]):\n",
    "            ax.text(w, q, f'{val:.4f}', ha='center', va='center', color='red', fontsize=8)\n",
    "        ax.axis('off')\n",
    "\n",
    "        ax = axes[i, 1]\n",
    "        ax.imshow(filters_after[:, :, 0, i], cmap='gray')\n",
    "        ax.set_title(f'Filter {i + 1} After Training')\n",
    "        for (x, z), val in np.ndenumerate(filters_after[:, :, 0, 1]):\n",
    "            ax.text(z, x, f'{val:.4f}', ha='center', va='center', color='red', fontsize=8)\n",
    "        ax.axis('off')\n",
    "\n",
    "    plt.tight_layout()\n",
    "    plt.savefig(file_path)\n",
    "    plt.close()\n"
   ]
  },
  {
   "cell_type": "code",
   "execution_count": 117,
   "metadata": {},
   "outputs": [
    {
     "name": "stdout",
     "output_type": "stream",
     "text": [
      "(60000, 28, 28)\n",
      "(60000,)\n"
     ]
    }
   ],
   "source": [
    "# Load MNIST data\n",
    "mnist = keras.datasets.mnist\n",
    "(x_full, y_full), (x_test_full, y_test_full) = mnist.load_data()\n",
    "\n",
    "\n",
    "x_train = np.concatenate([x_full[y_full == 0][:], x_full[y_full == 1][:]])\n",
    "y_train = np.concatenate([y_full[y_full == 0][:], y_full[y_full == 1][:]])\n",
    "indices = np.arange(x_train.shape[0])\n",
    "np.random.shuffle(indices)\n",
    "x_train = x_train[indices]\n",
    "y_train = y_train[indices]\n",
    "\n",
    "x_test = np.concatenate([x_test_full[y_test_full == 0][:], x_test_full[y_test_full == 1][:]])\n",
    "y_test = np.concatenate([y_test_full[y_test_full == 0][:], y_test_full[y_test_full == 1][:]])\n",
    "indices_test = np.arange(x_test.shape[0])\n",
    "np.random.shuffle(indices_test)\n",
    "x_test = x_test[indices_test]\n",
    "y_test = y_test[indices_test]\n",
    "\n",
    "print(x_full.shape)\n",
    "print(y_full.shape)\n",
    "\n",
    "# Reshape x to add a channel dimension\n",
    "x_full = x_full.reshape(-1, 28, 28, 1)\n",
    "x_test_full = x_test_full.reshape(-1, 28, 28, 1)"
   ]
  },
  {
   "cell_type": "code",
   "execution_count": 118,
   "metadata": {},
   "outputs": [
    {
     "name": "stderr",
     "output_type": "stream",
     "text": [
      "c:\\Users\\nandi\\AppData\\Local\\Programs\\Python\\Python310\\lib\\site-packages\\keras\\src\\layers\\convolutional\\base_conv.py:99: UserWarning: Do not pass an `input_shape`/`input_dim` argument to a layer. When using Sequential models, prefer using an `Input(shape)` object as the first layer in the model instead.\n",
      "  super().__init__(\n"
     ]
    }
   ],
   "source": [
    "# Build the CNN model\n",
    "model = models.Sequential([\n",
    "    layers.Conv2D(2, (3, 3), activation='relu', input_shape=(28, 28, 1)),\n",
    "    layers.MaxPooling2D((2, 2)),\n",
    "    layers.Flatten(),\n",
    "    layers.Dense(169, activation='relu'),\n",
    "    layers.Dense(13, activation='relu'),\n",
    "    layers.Dense(10, activation='softmax')\n",
    "])\n"
   ]
  },
  {
   "cell_type": "code",
   "execution_count": 119,
   "metadata": {},
   "outputs": [
    {
     "data": {
      "text/html": [
       "<pre style=\"white-space:pre;overflow-x:auto;line-height:normal;font-family:Menlo,'DejaVu Sans Mono',consolas,'Courier New',monospace\"><span style=\"font-weight: bold\">Model: \"sequential_7\"</span>\n",
       "</pre>\n"
      ],
      "text/plain": [
       "\u001b[1mModel: \"sequential_7\"\u001b[0m\n"
      ]
     },
     "metadata": {},
     "output_type": "display_data"
    },
    {
     "data": {
      "text/html": [
       "<pre style=\"white-space:pre;overflow-x:auto;line-height:normal;font-family:Menlo,'DejaVu Sans Mono',consolas,'Courier New',monospace\">┏━━━━━━━━━━━━━━━━━━━━━━━━━━━━━━━━━┳━━━━━━━━━━━━━━━━━━━━━━━━┳━━━━━━━━━━━━━━━┓\n",
       "┃<span style=\"font-weight: bold\"> Layer (type)                    </span>┃<span style=\"font-weight: bold\"> Output Shape           </span>┃<span style=\"font-weight: bold\">       Param # </span>┃\n",
       "┡━━━━━━━━━━━━━━━━━━━━━━━━━━━━━━━━━╇━━━━━━━━━━━━━━━━━━━━━━━━╇━━━━━━━━━━━━━━━┩\n",
       "│ conv2d_7 (<span style=\"color: #0087ff; text-decoration-color: #0087ff\">Conv2D</span>)               │ (<span style=\"color: #00d7ff; text-decoration-color: #00d7ff\">None</span>, <span style=\"color: #00af00; text-decoration-color: #00af00\">26</span>, <span style=\"color: #00af00; text-decoration-color: #00af00\">26</span>, <span style=\"color: #00af00; text-decoration-color: #00af00\">2</span>)      │            <span style=\"color: #00af00; text-decoration-color: #00af00\">20</span> │\n",
       "├─────────────────────────────────┼────────────────────────┼───────────────┤\n",
       "│ max_pooling2d_7 (<span style=\"color: #0087ff; text-decoration-color: #0087ff\">MaxPooling2D</span>)  │ (<span style=\"color: #00d7ff; text-decoration-color: #00d7ff\">None</span>, <span style=\"color: #00af00; text-decoration-color: #00af00\">13</span>, <span style=\"color: #00af00; text-decoration-color: #00af00\">13</span>, <span style=\"color: #00af00; text-decoration-color: #00af00\">2</span>)      │             <span style=\"color: #00af00; text-decoration-color: #00af00\">0</span> │\n",
       "├─────────────────────────────────┼────────────────────────┼───────────────┤\n",
       "│ flatten_7 (<span style=\"color: #0087ff; text-decoration-color: #0087ff\">Flatten</span>)             │ (<span style=\"color: #00d7ff; text-decoration-color: #00d7ff\">None</span>, <span style=\"color: #00af00; text-decoration-color: #00af00\">338</span>)            │             <span style=\"color: #00af00; text-decoration-color: #00af00\">0</span> │\n",
       "├─────────────────────────────────┼────────────────────────┼───────────────┤\n",
       "│ dense_21 (<span style=\"color: #0087ff; text-decoration-color: #0087ff\">Dense</span>)                │ (<span style=\"color: #00d7ff; text-decoration-color: #00d7ff\">None</span>, <span style=\"color: #00af00; text-decoration-color: #00af00\">169</span>)            │        <span style=\"color: #00af00; text-decoration-color: #00af00\">57,291</span> │\n",
       "├─────────────────────────────────┼────────────────────────┼───────────────┤\n",
       "│ dense_22 (<span style=\"color: #0087ff; text-decoration-color: #0087ff\">Dense</span>)                │ (<span style=\"color: #00d7ff; text-decoration-color: #00d7ff\">None</span>, <span style=\"color: #00af00; text-decoration-color: #00af00\">13</span>)             │         <span style=\"color: #00af00; text-decoration-color: #00af00\">2,210</span> │\n",
       "├─────────────────────────────────┼────────────────────────┼───────────────┤\n",
       "│ dense_23 (<span style=\"color: #0087ff; text-decoration-color: #0087ff\">Dense</span>)                │ (<span style=\"color: #00d7ff; text-decoration-color: #00d7ff\">None</span>, <span style=\"color: #00af00; text-decoration-color: #00af00\">10</span>)             │           <span style=\"color: #00af00; text-decoration-color: #00af00\">140</span> │\n",
       "└─────────────────────────────────┴────────────────────────┴───────────────┘\n",
       "</pre>\n"
      ],
      "text/plain": [
       "┏━━━━━━━━━━━━━━━━━━━━━━━━━━━━━━━━━┳━━━━━━━━━━━━━━━━━━━━━━━━┳━━━━━━━━━━━━━━━┓\n",
       "┃\u001b[1m \u001b[0m\u001b[1mLayer (type)                   \u001b[0m\u001b[1m \u001b[0m┃\u001b[1m \u001b[0m\u001b[1mOutput Shape          \u001b[0m\u001b[1m \u001b[0m┃\u001b[1m \u001b[0m\u001b[1m      Param #\u001b[0m\u001b[1m \u001b[0m┃\n",
       "┡━━━━━━━━━━━━━━━━━━━━━━━━━━━━━━━━━╇━━━━━━━━━━━━━━━━━━━━━━━━╇━━━━━━━━━━━━━━━┩\n",
       "│ conv2d_7 (\u001b[38;5;33mConv2D\u001b[0m)               │ (\u001b[38;5;45mNone\u001b[0m, \u001b[38;5;34m26\u001b[0m, \u001b[38;5;34m26\u001b[0m, \u001b[38;5;34m2\u001b[0m)      │            \u001b[38;5;34m20\u001b[0m │\n",
       "├─────────────────────────────────┼────────────────────────┼───────────────┤\n",
       "│ max_pooling2d_7 (\u001b[38;5;33mMaxPooling2D\u001b[0m)  │ (\u001b[38;5;45mNone\u001b[0m, \u001b[38;5;34m13\u001b[0m, \u001b[38;5;34m13\u001b[0m, \u001b[38;5;34m2\u001b[0m)      │             \u001b[38;5;34m0\u001b[0m │\n",
       "├─────────────────────────────────┼────────────────────────┼───────────────┤\n",
       "│ flatten_7 (\u001b[38;5;33mFlatten\u001b[0m)             │ (\u001b[38;5;45mNone\u001b[0m, \u001b[38;5;34m338\u001b[0m)            │             \u001b[38;5;34m0\u001b[0m │\n",
       "├─────────────────────────────────┼────────────────────────┼───────────────┤\n",
       "│ dense_21 (\u001b[38;5;33mDense\u001b[0m)                │ (\u001b[38;5;45mNone\u001b[0m, \u001b[38;5;34m169\u001b[0m)            │        \u001b[38;5;34m57,291\u001b[0m │\n",
       "├─────────────────────────────────┼────────────────────────┼───────────────┤\n",
       "│ dense_22 (\u001b[38;5;33mDense\u001b[0m)                │ (\u001b[38;5;45mNone\u001b[0m, \u001b[38;5;34m13\u001b[0m)             │         \u001b[38;5;34m2,210\u001b[0m │\n",
       "├─────────────────────────────────┼────────────────────────┼───────────────┤\n",
       "│ dense_23 (\u001b[38;5;33mDense\u001b[0m)                │ (\u001b[38;5;45mNone\u001b[0m, \u001b[38;5;34m10\u001b[0m)             │           \u001b[38;5;34m140\u001b[0m │\n",
       "└─────────────────────────────────┴────────────────────────┴───────────────┘\n"
      ]
     },
     "metadata": {},
     "output_type": "display_data"
    },
    {
     "data": {
      "text/html": [
       "<pre style=\"white-space:pre;overflow-x:auto;line-height:normal;font-family:Menlo,'DejaVu Sans Mono',consolas,'Courier New',monospace\"><span style=\"font-weight: bold\"> Total params: </span><span style=\"color: #00af00; text-decoration-color: #00af00\">59,661</span> (233.05 KB)\n",
       "</pre>\n"
      ],
      "text/plain": [
       "\u001b[1m Total params: \u001b[0m\u001b[38;5;34m59,661\u001b[0m (233.05 KB)\n"
      ]
     },
     "metadata": {},
     "output_type": "display_data"
    },
    {
     "data": {
      "text/html": [
       "<pre style=\"white-space:pre;overflow-x:auto;line-height:normal;font-family:Menlo,'DejaVu Sans Mono',consolas,'Courier New',monospace\"><span style=\"font-weight: bold\"> Trainable params: </span><span style=\"color: #00af00; text-decoration-color: #00af00\">59,661</span> (233.05 KB)\n",
       "</pre>\n"
      ],
      "text/plain": [
       "\u001b[1m Trainable params: \u001b[0m\u001b[38;5;34m59,661\u001b[0m (233.05 KB)\n"
      ]
     },
     "metadata": {},
     "output_type": "display_data"
    },
    {
     "data": {
      "text/html": [
       "<pre style=\"white-space:pre;overflow-x:auto;line-height:normal;font-family:Menlo,'DejaVu Sans Mono',consolas,'Courier New',monospace\"><span style=\"font-weight: bold\"> Non-trainable params: </span><span style=\"color: #00af00; text-decoration-color: #00af00\">0</span> (0.00 B)\n",
       "</pre>\n"
      ],
      "text/plain": [
       "\u001b[1m Non-trainable params: \u001b[0m\u001b[38;5;34m0\u001b[0m (0.00 B)\n"
      ]
     },
     "metadata": {},
     "output_type": "display_data"
    }
   ],
   "source": [
    "model.summary()"
   ]
  },
  {
   "cell_type": "code",
   "execution_count": 120,
   "metadata": {},
   "outputs": [
    {
     "name": "stdout",
     "output_type": "stream",
     "text": [
      "conv2d_7 filters shape: (3, 3, 1, 2)\n",
      "conv2d_7 bias_Conv shape: (2,)\n",
      "[array([[[[ 1.04983538e-01,  4.37909812e-01]],\n",
      "\n",
      "        [[-2.39225283e-01, -4.20354337e-01]],\n",
      "\n",
      "        [[-1.41170025e-01, -2.54188418e-01]]],\n",
      "\n",
      "\n",
      "       [[[ 1.08122855e-01, -2.81427771e-01]],\n",
      "\n",
      "        [[ 3.06934118e-04,  4.50015515e-01]],\n",
      "\n",
      "        [[ 4.55369383e-01, -2.30884939e-01]]],\n",
      "\n",
      "\n",
      "       [[[-4.84361649e-02,  2.75361538e-02]],\n",
      "\n",
      "        [[ 2.16839939e-01,  3.35630625e-01]],\n",
      "\n",
      "        [[ 3.87146175e-02,  4.40103918e-01]]]], dtype=float32)]\n",
      "[array([0., 0.], dtype=float32)]\n"
     ]
    }
   ],
   "source": [
    "weights=[]\n",
    "bias=[]\n",
    "\n",
    "for layer in model.layers:\n",
    "    if 'conv' in layer.name:\n",
    "        a, b = layer.get_weights()\n",
    "        weights.append(a)\n",
    "        bias.append(b)\n",
    "        print(f\"{layer.name} filters shape: {a.shape}\")\n",
    "        print(f\"{layer.name} bias_Conv shape: {b.shape}\")\n",
    "        \n",
    "print(weights)\n",
    "print(bias)\n",
    "\n"
   ]
  },
  {
   "cell_type": "code",
   "execution_count": 121,
   "metadata": {},
   "outputs": [
    {
     "data": {
      "image/png": "[encoded data removed]",
      "text/plain": [
       "<Figure size 1000x500 with 2 Axes>"
      ]
     },
     "metadata": {},
     "output_type": "display_data"
    }
   ],
   "source": [
    "fig, axes = plt.subplots(1, 2, figsize=(10, 5))\n",
    "ax = axes[0]\n",
    "ax.imshow(weights[0][:, :, 0, 0], cmap='gray')\n",
    "ax.set_title('Filter 1')\n",
    "ax.axis('off')\n",
    "for (i, j), val in np.ndenumerate(weights[0][:, :, 0, 0]):\n",
    "    ax.text(j, i, f'{val:.2f}', ha='center', va='center', color='red', fontsize=8)\n",
    "ax = axes[1]\n",
    "ax.imshow(weights[0][:, :, 0, 1], cmap='gray')\n",
    "ax.set_title('Filter 2')\n",
    "ax.axis('off')\n",
    "for (i, j), val in np.ndenumerate(weights[0][:, :, 0, 1]):\n",
    "    ax.text(j, i, f'{val:.2f}', ha='center', va='center', color='red', fontsize=8)\n",
    "plt.show()"
   ]
  },
  {
   "cell_type": "code",
   "execution_count": 122,
   "metadata": {},
   "outputs": [
    {
     "name": "stdout",
     "output_type": "stream",
     "text": [
      "Conv Layer 1 Weights:\n",
      "Mean: 0.05505619943141937\n",
      "Variance: 0.0367572195827961\n",
      "Conv Layer 1 Biases:\n",
      "Mean: 0.0\n",
      "Variance: 0.0\n",
      "------------------------------\n",
      "Conv Layer 2 Weights:\n",
      "Mean: 0.05603783577680588\n",
      "Variance: 0.11632593721151352\n",
      "Conv Layer 2 Biases:\n",
      "Mean: 0.0\n",
      "Variance: 0.0\n",
      "------------------------------\n"
     ]
    }
   ],
   "source": [
    "for i in range(2):\n",
    "    mean = np.mean(weights[0][:, :, 0, i])\n",
    "    variance = np.var(weights[0][:, :, 0, i])\n",
    "    print(f\"Conv Layer {i + 1} Weights:\")\n",
    "    print(f\"Mean: {mean}\")\n",
    "    print(f\"Variance: {variance}\")\n",
    "    \n",
    "    mean = np.mean(bias[0][i])\n",
    "    variance = np.var(bias[0][i])\n",
    "    print(f\"Conv Layer {i + 1} Biases:\")\n",
    "    print(f\"Mean: {mean}\")\n",
    "    print(f\"Variance: {variance}\")\n",
    "    print(\"-\" * 30)\n",
    "\n",
    "save_model_statistics('full_v4.txt', weights[0], bias[0], 'Before Training')"
   ]
  },
  {
   "cell_type": "code",
   "execution_count": 123,
   "metadata": {},
   "outputs": [
    {
     "name": "stdout",
     "output_type": "stream",
     "text": [
      "Epoch 1/15\n",
      "\u001b[1m396/396\u001b[0m \u001b[32m━━━━━━━━━━━━━━━━━━━━\u001b[0m\u001b[37m\u001b[0m \u001b[1m2s\u001b[0m 2ms/step - accuracy: 0.9722 - loss: 0.4856\n",
      "Epoch 2/15\n",
      "\u001b[1m396/396\u001b[0m \u001b[32m━━━━━━━━━━━━━━━━━━━━\u001b[0m\u001b[37m\u001b[0m \u001b[1m1s\u001b[0m 2ms/step - accuracy: 0.9982 - loss: 0.0307\n",
      "Epoch 3/15\n",
      "\u001b[1m396/396\u001b[0m \u001b[32m━━━━━━━━━━━━━━━━━━━━\u001b[0m\u001b[37m\u001b[0m \u001b[1m1s\u001b[0m 2ms/step - accuracy: 0.9991 - loss: 0.0095\n",
      "Epoch 4/15\n",
      "\u001b[1m396/396\u001b[0m \u001b[32m━━━━━━━━━━━━━━━━━━━━\u001b[0m\u001b[37m\u001b[0m \u001b[1m1s\u001b[0m 2ms/step - accuracy: 0.9978 - loss: 0.0233\n",
      "Epoch 5/15\n",
      "\u001b[1m396/396\u001b[0m \u001b[32m━━━━━━━━━━━━━━━━━━━━\u001b[0m\u001b[37m\u001b[0m \u001b[1m1s\u001b[0m 2ms/step - accuracy: 0.9988 - loss: 0.0228\n",
      "Epoch 6/15\n",
      "\u001b[1m396/396\u001b[0m \u001b[32m━━━━━━━━━━━━━━━━━━━━\u001b[0m\u001b[37m\u001b[0m \u001b[1m1s\u001b[0m 2ms/step - accuracy: 0.9995 - loss: 0.0026\n",
      "Epoch 7/15\n",
      "\u001b[1m396/396\u001b[0m \u001b[32m━━━━━━━━━━━━━━━━━━━━\u001b[0m\u001b[37m\u001b[0m \u001b[1m1s\u001b[0m 2ms/step - accuracy: 0.9989 - loss: 0.0177\n",
      "Epoch 8/15\n",
      "\u001b[1m396/396\u001b[0m \u001b[32m━━━━━━━━━━━━━━━━━━━━\u001b[0m\u001b[37m\u001b[0m \u001b[1m1s\u001b[0m 2ms/step - accuracy: 0.9997 - loss: 0.0023\n",
      "Epoch 9/15\n",
      "\u001b[1m396/396\u001b[0m \u001b[32m━━━━━━━━━━━━━━━━━━━━\u001b[0m\u001b[37m\u001b[0m \u001b[1m1s\u001b[0m 2ms/step - accuracy: 0.9998 - loss: 7.0967e-04\n",
      "Epoch 10/15\n",
      "\u001b[1m396/396\u001b[0m \u001b[32m━━━━━━━━━━━━━━━━━━━━\u001b[0m\u001b[37m\u001b[0m \u001b[1m1s\u001b[0m 2ms/step - accuracy: 0.9974 - loss: 0.0232\n",
      "Epoch 11/15\n",
      "\u001b[1m396/396\u001b[0m \u001b[32m━━━━━━━━━━━━━━━━━━━━\u001b[0m\u001b[37m\u001b[0m \u001b[1m1s\u001b[0m 2ms/step - accuracy: 0.9998 - loss: 8.1785e-04\n",
      "Epoch 12/15\n",
      "\u001b[1m396/396\u001b[0m \u001b[32m━━━━━━━━━━━━━━━━━━━━\u001b[0m\u001b[37m\u001b[0m \u001b[1m1s\u001b[0m 2ms/step - accuracy: 1.0000 - loss: 5.7857e-06\n",
      "Epoch 13/15\n",
      "\u001b[1m396/396\u001b[0m \u001b[32m━━━━━━━━━━━━━━━━━━━━\u001b[0m\u001b[37m\u001b[0m \u001b[1m1s\u001b[0m 2ms/step - accuracy: 1.0000 - loss: 1.8586e-06\n",
      "Epoch 14/15\n",
      "\u001b[1m396/396\u001b[0m \u001b[32m━━━━━━━━━━━━━━━━━━━━\u001b[0m\u001b[37m\u001b[0m \u001b[1m1s\u001b[0m 2ms/step - accuracy: 1.0000 - loss: 1.3285e-06\n",
      "Epoch 15/15\n",
      "\u001b[1m396/396\u001b[0m \u001b[32m━━━━━━━━━━━━━━━━━━━━\u001b[0m\u001b[37m\u001b[0m \u001b[1m1s\u001b[0m 2ms/step - accuracy: 1.0000 - loss: 1.0770e-06\n"
     ]
    },
    {
     "data": {
      "text/plain": [
       "<keras.src.callbacks.history.History at 0x1394b1e50f0>"
      ]
     },
     "execution_count": 123,
     "metadata": {},
     "output_type": "execute_result"
    }
   ],
   "source": [
    "# Compile the model\n",
    "model.compile(optimizer='adam',\n",
    "              loss='categorical_crossentropy',\n",
    "              metrics=['accuracy'])\n",
    "\n",
    "# Train the model\n",
    "from keras.utils import to_categorical\n",
    "y_train = to_categorical(y_train, num_classes=10)\n",
    "y_test_full=to_categorical(y_test_full, num_classes=10)\n",
    "model.fit(x_train, y_train, epochs=15)\n"
   ]
  },
  {
   "cell_type": "code",
   "execution_count": 124,
   "metadata": {},
   "outputs": [
    {
     "name": "stdout",
     "output_type": "stream",
     "text": [
      "conv2d_7 filters shape: (3, 3, 1, 2)\n",
      "conv2d_7 bias_Conv shape: (2,)\n"
     ]
    }
   ],
   "source": [
    "weights_after=[]\n",
    "bias_after=[]\n",
    "\n",
    "with np.printoptions(precision=6, suppress=True):\n",
    "    for layer in model.layers:\n",
    "        if 'conv' in layer.name:\n",
    "            a, b = layer.get_weights()\n",
    "            weights_after.append(a)\n",
    "            bias_after.append(b)\n",
    "            print(f\"{layer.name} filters shape: {a.shape}\")\n",
    "            print(f\"{layer.name} bias_Conv shape: {b.shape}\")\n",
    "        \n",
    "\n"
   ]
  },
  {
   "cell_type": "code",
   "execution_count": 125,
   "metadata": {},
   "outputs": [
    {
     "data": {
      "image/png": "[encoded data removed]",
      "text/plain": [
       "<Figure size 1000x500 with 2 Axes>"
      ]
     },
     "metadata": {},
     "output_type": "display_data"
    }
   ],
   "source": [
    "fig, axes = plt.subplots(1, 2, figsize=(10, 5))\n",
    "ax = axes[0]\n",
    "ax.imshow(weights_after[0][:, :, 0, 0], cmap='gray')\n",
    "ax.set_title('Filter 1')\n",
    "ax.axis('off')\n",
    "for (i, j), val in np.ndenumerate(weights_after[0][:, :, 0, 0]):\n",
    "    ax.text(j, i, f'{val:.2f}', ha='center', va='center', color='red', fontsize=8)\n",
    "ax = axes[1]\n",
    "ax.imshow(weights_after[0][:, :, 0, 1], cmap='gray')\n",
    "ax.set_title('Filter 2')\n",
    "ax.axis('off')\n",
    "for (i, j), val in np.ndenumerate(weights_after[0][:, :, 0, 1]):\n",
    "    ax.text(j, i, f'{val:.2f}', ha='center', va='center', color='red', fontsize=8)\n",
    "plt.show()"
   ]
  },
  {
   "cell_type": "code",
   "execution_count": 126,
   "metadata": {},
   "outputs": [
    {
     "name": "stdout",
     "output_type": "stream",
     "text": [
      "Conv Layer 1 Weights:\n",
      "Mean: 0.04181377589702606\n",
      "Variance: 0.026482263579964638\n",
      "Conv Layer 1 Biases:\n",
      "Mean: -0.16281387209892273\n",
      "Variance: 0.0\n",
      "------------------------------\n",
      "Conv Layer 2 Weights:\n",
      "Mean: -0.002116858959197998\n",
      "Variance: 0.09938463568687439\n",
      "Conv Layer 2 Biases:\n",
      "Mean: -0.21099001169204712\n",
      "Variance: 0.0\n",
      "------------------------------\n"
     ]
    }
   ],
   "source": [
    "for i in range(2):\n",
    "    mean = np.mean(weights_after[0][:, :, 0, i])\n",
    "    variance = np.var(weights_after[0][:, :, 0, i])\n",
    "    print(f\"Conv Layer {i + 1} Weights:\")\n",
    "    print(f\"Mean: {mean}\")\n",
    "    print(f\"Variance: {variance}\")\n",
    "    \n",
    "    mean = np.mean(bias_after[0][i])\n",
    "    variance = np.var(bias_after[0][i])\n",
    "    print(f\"Conv Layer {i + 1} Biases:\")\n",
    "    print(f\"Mean: {mean}\")\n",
    "    print(f\"Variance: {variance}\")\n",
    "    print(\"-\" * 30)\n",
    "\n",
    "\n",
    "save_model_statistics('full_v4.txt', weights_after[0], bias_after[0], 'After Training')"
   ]
  },
  {
   "cell_type": "code",
   "execution_count": 127,
   "metadata": {},
   "outputs": [],
   "source": [
    "\n",
    "# Save kernel comparison images\n",
    "save_kernel_comparison_images('full_v4_kernel.png', weights[0], weights_after[0])\n"
   ]
  },
  {
   "cell_type": "code",
   "execution_count": 128,
   "metadata": {},
   "outputs": [],
   "source": [
    "# from scipy.signal import convolve2d\n",
    "\n",
    "# # Function to apply convolution\n",
    "# def apply_convolution(image, kernel):\n",
    "#     return convolve2d(image.squeeze(), kernel, mode='same', boundary='fill', fillvalue=0)\n",
    "\n",
    "# # Apply the filters to x_short[0]\n",
    "# conv_output_1 = apply_convolution(x_short[0], weights_after[0][:, :, 0, 0])\n",
    "# conv_output_2 = apply_convolution(x_short[0], weights_after[0][:, :, 0, 1])\n",
    "\n",
    "# # Plot the original image and the convolution outputs\n",
    "# fig, axes = plt.subplots(1, 3, figsize=(15, 5))\n",
    "\n",
    "# # Original Image\n",
    "# axes[0].imshow(x_short[0].reshape(28, 28), cmap='gray')\n",
    "# axes[0].set_title('Original Image')\n",
    "# axes[0].axis('on')\n",
    "\n",
    "# # Convolution with Filter 1\n",
    "# axes[1].imshow(conv_output_1, cmap='gray')\n",
    "# axes[1].set_title('Convolution Output - Filter 1')\n",
    "# axes[1].axis('on')\n",
    "\n",
    "# # Convolution with Filter 2\n",
    "# axes[2].imshow(conv_output_2, cmap='gray')\n",
    "# axes[2].set_title('Convolution Output - Filter 2')\n",
    "# axes[2].axis('on')\n",
    "\n",
    "# plt.show()"
   ]
  },
  {
   "cell_type": "code",
   "execution_count": 129,
   "metadata": {},
   "outputs": [
    {
     "name": "stdout",
     "output_type": "stream",
     "text": [
      "\u001b[1m313/313\u001b[0m \u001b[32m━━━━━━━━━━━━━━━━━━━━\u001b[0m\u001b[37m\u001b[0m \u001b[1m0s\u001b[0m 1ms/step - accuracy: 0.2084 - loss: 116.0458\n",
      "Test Loss: 118.4192886352539\n",
      "Test Accuracy: 0.21150000393390656\n",
      "\u001b[1m313/313\u001b[0m \u001b[32m━━━━━━━━━━━━━━━━━━━━\u001b[0m\u001b[37m\u001b[0m \u001b[1m0s\u001b[0m 1ms/step\n"
     ]
    }
   ],
   "source": [
    "test_loss, test_accuracy = model.evaluate(x_test_full, y_test_full)\n",
    "print(f'Test Loss: {test_loss}')\n",
    "print(f'Test Accuracy: {test_accuracy}')\n",
    "\n",
    "predictions = model.predict(x_test_full)\n"
   ]
  },
  {
   "cell_type": "code",
   "execution_count": 130,
   "metadata": {},
   "outputs": [
    {
     "name": "stdout",
     "output_type": "stream",
     "text": [
      "              precision    recall  f1-score   support\n",
      "\n",
      "           0       0.16      1.00      0.28       980\n",
      "           1       0.29      1.00      0.45      1135\n",
      "           2       0.00      0.00      0.00      1032\n",
      "           3       0.00      0.00      0.00      1010\n",
      "           4       0.00      0.00      0.00       982\n",
      "           5       0.00      0.00      0.00       892\n",
      "           6       0.00      0.00      0.00       958\n",
      "           7       0.00      0.00      0.00      1028\n",
      "           8       0.00      0.00      0.00       974\n",
      "           9       0.00      0.00      0.00      1009\n",
      "\n",
      "   micro avg       0.21      0.21      0.21     10000\n",
      "   macro avg       0.05      0.20      0.07     10000\n",
      "weighted avg       0.05      0.21      0.08     10000\n",
      " samples avg       0.21      0.21      0.21     10000\n",
      "\n"
     ]
    },
    {
     "name": "stderr",
     "output_type": "stream",
     "text": [
      "c:\\Users\\nandi\\AppData\\Local\\Programs\\Python\\Python310\\lib\\site-packages\\sklearn\\metrics\\_classification.py:1509: UndefinedMetricWarning: Precision is ill-defined and being set to 0.0 in labels with no predicted samples. Use `zero_division` parameter to control this behavior.\n",
      "  _warn_prf(average, modifier, f\"{metric.capitalize()} is\", len(result))\n"
     ]
    }
   ],
   "source": [
    "from sklearn.metrics import classification_report\n",
    "y_pred = (predictions > 0.5).astype(int)  # Assuming binary classification\n",
    "print(classification_report(y_test_full, y_pred))\n"
   ]
  }
 ],
 "metadata": {
  "kernelspec": {
   "display_name": "Python 3",
   "language": "python",
   "name": "python3"
  },
  "language_info": {
   "codemirror_mode": {
    "name": "ipython",
    "version": 3
   },
   "file_extension": ".py",
   "mimetype": "text/x-python",
   "name": "python",
   "nbconvert_exporter": "python",
   "pygments_lexer": "ipython3",
   "version": "3.10.7"
  }
 },
 "nbformat": 4,
 "nbformat_minor": 2
}
