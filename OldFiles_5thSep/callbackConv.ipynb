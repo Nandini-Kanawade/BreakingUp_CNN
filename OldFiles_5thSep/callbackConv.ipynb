{
 "cells": [
  {
   "cell_type": "code",
   "execution_count": 30,
   "metadata": {},
   "outputs": [],
   "source": [
    "\n",
    "import os\n",
    "import tensorflow as tf\n",
    "import numpy as np\n",
    "from tensorflow import keras\n",
    "from tensorflow.keras import layers, models\n",
    "import matplotlib.pyplot as plt\n",
    "import seaborn as sns\n",
    "from tensorflow.keras.callbacks import Callback\n",
    "from keras.utils import to_categorical"
   ]
  },
  {
   "cell_type": "code",
   "execution_count": 31,
   "metadata": {},
   "outputs": [],
   "source": [
    "# Function to compute and save statistics\n",
    "def save_model_statistics(file_path, filters, biases, stage):\n",
    "    with open(file_path, 'a') as f:\n",
    "        f.write(\"-\" * 100 + \"\\n\")\n",
    "        f.write(f\"{stage}:\\n\\n\")\n",
    "        for i in range(2):\n",
    "            mean = np.mean(filters[:, :, 0, i])\n",
    "            variance = np.var(filters[:, :, 0, i])\n",
    "            f.write(f\"Kernel {i + 1} Weights:\\n\")\n",
    "            f.write(f\"Mean: {mean}\\n\")\n",
    "            f.write(f\"Variance: {variance}\\n\")\n",
    "\n",
    "            mean = np.mean(biases[i])\n",
    "            variance = np.var(biases[i])\n",
    "            f.write(f\"Kernel {i + 1} Biases:\\n\")\n",
    "            f.write(f\"Mean: {mean}\\n\")\n",
    "            f.write(f\"Variance: {variance}\\n\")\n",
    "\n",
    "# Function to save weights\n",
    "def save_model_weights(file_path, filters, biases, stage):\n",
    "    with open(file_path, 'a') as f:\n",
    "        f.write(\"-\" * 10 + \"\\n\")\n",
    "        f.write(f\"\\n{stage}:\\n\")\n",
    "        for i in range(2):\n",
    "            x = (filters[:, :, 0, i])\n",
    "            y = (biases[i])\n",
    "            f.write(f\"Kernel {i + 1}\\n\")\n",
    "            f.write(f\"\\n{x}\\n\")\n",
    "            f.write(f\"\\n{y}\\n\")\n",
    "\n",
    "# Function to save kernel comparison images\n",
    "def save_kernel_comparison_images(file_path, filters_before, filters_after):\n",
    "    fig, axes = plt.subplots(2, 1, figsize=(10, 10))\n",
    "    \n",
    "    for i in range(2):\n",
    "        ax = axes[i]\n",
    "        kernel = np.concatenate([filters_before[:, :, 0, i], filters_after[:, :, 0, i]], axis=1)\n",
    "        ax.imshow(kernel, cmap='gray')\n",
    "        #plt.set_title(f'Kernel {i + 1}')\n",
    "        for (x, z), val in np.ndenumerate(kernel):\n",
    "            ax.text(z, x, f'{val:.4f}', ha='center', va='center', color='red', fontsize=8)\n",
    "        ax.axis('off')\n",
    "\n",
    "    plt.tight_layout()\n",
    "    plt.savefig(file_path)\n",
    "    plt.close()\n"
   ]
  },
  {
   "cell_type": "code",
   "execution_count": 32,
   "metadata": {},
   "outputs": [],
   "source": [
    "# Function to save all model parameters (weights and biases) in a .npz file\n",
    "def save_all_model_parameters(epoch, model):\n",
    "    # Create a directory if it doesn't exist\n",
    "    save_dir = \"model_parameters\"\n",
    "    if not os.path.exists(save_dir):\n",
    "        os.makedirs(save_dir)\n",
    "    \n",
    "    # Save the weights before training and after each epoch\n",
    "    file_path = os.path.join(save_dir, f\"parameters_epoch_{epoch}.npz\")\n",
    "    \n",
    "    # Get all weights (filters and biases) as a list of numpy arrays\n",
    "    params = model.get_weights()\n",
    "    \n",
    "    # Save the parameters in a .npz file (this format can handle multiple arrays)\n",
    "    np.savez(file_path, *params)\n",
    "    print(f\"Saved parameters for epoch {epoch} to {file_path}\")"
   ]
  },
  {
   "cell_type": "code",
   "execution_count": 33,
   "metadata": {},
   "outputs": [],
   "source": [
    "class WeightsCallback(tf.keras.callbacks.Callback):\n",
    "    def on_epoch_end(self, epoch, logs=None):\n",
    "        weights = self.model.layers[0].get_weights()[0]\n",
    "        bias = self.model.layers[0].get_weights()[1]\n",
    "        print(f\"\\nEpoch {epoch + 1}:\")\n",
    "        print(f\"Weights:\\n{weights}\")\n",
    "        print(f\"Bias:\\n{bias}\")\n",
    "        print(f\"Loss: {logs['loss']}\")\n",
    "        save_model_weights(\"6_weights.txt\", weights, bias, epoch)\n",
    "        save_all_model_parameters(epoch + 1, self.model)\n",
    "        print(f\"Saved parameters for epoch {epoch + 1}\")\n"
   ]
  },
  {
   "cell_type": "code",
   "execution_count": 34,
   "metadata": {},
   "outputs": [],
   "source": [
    "# Load MNIST data\n",
    "mnist = keras.datasets.mnist\n",
    "(x_full, y_full), (x_test_full, y_test_full) = mnist.load_data()\n",
    "\n",
    "x_full = x_full.reshape(-1, 28, 28, 1)\n",
    "x_test_full = x_test_full.reshape(-1, 28, 28, 1)\n",
    "y_full = to_categorical(y_full, num_classes=10)\n",
    "y_test_full=to_categorical(y_test_full, num_classes=10)"
   ]
  },
  {
   "cell_type": "code",
   "execution_count": 35,
   "metadata": {},
   "outputs": [
    {
     "name": "stdout",
     "output_type": "stream",
     "text": [
      "(60000, 28, 28, 1)\n",
      "(28, 28, 1)\n",
      "(60000, 10)\n",
      "[0. 0. 0. 0. 0. 1. 0. 0. 0. 0.]\n"
     ]
    }
   ],
   "source": [
    "print(x_full.shape)\n",
    "print(x_full[0].shape)\n",
    "print(y_full.shape)\n",
    "print(y_full[0])"
   ]
  },
  {
   "cell_type": "code",
   "execution_count": 36,
   "metadata": {},
   "outputs": [],
   "source": [
    "model = models.Sequential()\n",
    "model.add(layers.Conv2D(2, (3, 3), activation='relu', input_shape=(28, 28, 1)))\n",
    "model.add(layers.Flatten())\n",
    "#model.add(layers.Dense(64, activation='relu'))\n",
    "model.add(layers.Dense(10, activation='softmax'))"
   ]
  },
  {
   "cell_type": "code",
   "execution_count": 37,
   "metadata": {},
   "outputs": [
    {
     "name": "stdout",
     "output_type": "stream",
     "text": [
      "Saved parameters for epoch before_training to model_parameters\\parameters_epoch_before_training.npz\n"
     ]
    }
   ],
   "source": [
    "save_all_model_parameters('before_training', model)"
   ]
  },
  {
   "cell_type": "code",
   "execution_count": 38,
   "metadata": {},
   "outputs": [
    {
     "name": "stdout",
     "output_type": "stream",
     "text": [
      "Weights:\n",
      "(3, 3, 1, 2)\n",
      "Bias:\n",
      "(2,)\n",
      "Weights:\n",
      "[[[[ 0.32745436  0.20183757]]\n",
      "\n",
      "  [[ 0.3934023   0.36534193]]\n",
      "\n",
      "  [[ 0.00441238 -0.09786722]]]\n",
      "\n",
      "\n",
      " [[[ 0.2056953   0.43710205]]\n",
      "\n",
      "  [[ 0.19909361 -0.14429855]]\n",
      "\n",
      "  [[-0.3392408  -0.3120576 ]]]\n",
      "\n",
      "\n",
      " [[[-0.04676974  0.31183186]]\n",
      "\n",
      "  [[ 0.07719919 -0.1820727 ]]\n",
      "\n",
      "  [[-0.2673459  -0.21499568]]]]\n",
      "Bias:\n",
      "[0. 0.]\n"
     ]
    }
   ],
   "source": [
    "weights_init=(model.layers[0].get_weights()[0])\n",
    "bias_init=(model.layers[0].get_weights()[1])\n",
    "print(f\"Weights:\\n{weights_init.shape}\")\n",
    "print(f\"Bias:\\n{bias_init.shape}\")\n",
    "print(f\"Weights:\\n{weights_init}\")\n",
    "print(f\"Bias:\\n{bias_init}\")\n"
   ]
  },
  {
   "cell_type": "code",
   "execution_count": 39,
   "metadata": {},
   "outputs": [
    {
     "data": {
      "image/png": "[encoded data removed]",
      "text/plain": [
       "<Figure size 1000x500 with 2 Axes>"
      ]
     },
     "metadata": {},
     "output_type": "display_data"
    }
   ],
   "source": [
    "fig, axes = plt.subplots(1, 2, figsize=(10, 5))\n",
    "\n",
    "ax = axes[0]\n",
    "ax.imshow(weights_init[:, :, 0, 0], cmap='gray')\n",
    "ax.set_title('Filter 1')\n",
    "ax.axis('off')\n",
    "for (i, j), val in np.ndenumerate(weights_init[:, :, 0, 0]):\n",
    "    ax.text(j, i, f'{val:.2f}', ha='center', va='center', color='red', fontsize=8)\n",
    "\n",
    "ax = axes[1]\n",
    "ax.imshow(weights_init[:, :, 0, 1], cmap='gray')\n",
    "ax.set_title('Filter 2')\n",
    "ax.axis('off')\n",
    "for (i, j), val in np.ndenumerate(weights_init[:, :, 0, 1]):\n",
    "    ax.text(j, i, f'{val:.2f}', ha='center', va='center', color='red', fontsize=8)\n",
    "plt.show()"
   ]
  },
  {
   "cell_type": "code",
   "execution_count": 40,
   "metadata": {},
   "outputs": [
    {
     "name": "stdout",
     "output_type": "stream",
     "text": [
      "Conv Layer 1 Weights:\n",
      "Mean: 0.061544522643089294\n",
      "Variance: 0.056063976138830185\n",
      "Conv Layer 1 Biases:\n",
      "Mean: 0.0\n",
      "Variance: 0.0\n",
      "------------------------------\n",
      "Conv Layer 2 Weights:\n",
      "Mean: 0.040535733103752136\n",
      "Variance: 0.07276397198438644\n",
      "Conv Layer 2 Biases:\n",
      "Mean: 0.0\n",
      "Variance: 0.0\n",
      "------------------------------\n"
     ]
    }
   ],
   "source": [
    "for i in range(2):\n",
    "    mean = np.mean(weights_init[:, :, 0, i])\n",
    "    variance = np.var(weights_init[:, :, 0, i])\n",
    "    print(f\"Conv Layer {i + 1} Weights:\")\n",
    "    print(f\"Mean: {mean}\")\n",
    "    print(f\"Variance: {variance}\")\n",
    "    \n",
    "    mean = np.mean(bias_init[i])\n",
    "    variance = np.var(bias_init[i])\n",
    "    print(f\"Conv Layer {i + 1} Biases:\")\n",
    "    print(f\"Mean: {mean}\")\n",
    "    print(f\"Variance: {variance}\")\n",
    "    print(\"-\" * 30)\n",
    "\n",
    "save_model_statistics('6.txt', weights_init, bias_init, 'Before Training')\n",
    "save_model_weights('6_weights.txt', weights_init, bias_init, 'Before Training')"
   ]
  },
  {
   "cell_type": "code",
   "execution_count": 41,
   "metadata": {},
   "outputs": [
    {
     "name": "stdout",
     "output_type": "stream",
     "text": [
      "Epoch 1/10\n",
      "\u001b[1m1823/1875\u001b[0m \u001b[32m━━━━━━━━━━━━━━━━━━━\u001b[0m\u001b[37m━\u001b[0m \u001b[1m0s\u001b[0m 2ms/step - accuracy: 0.7957 - loss: 9.7478\n",
      "Epoch 1:\n",
      "Weights:\n",
      "[[[[ 0.0383924  -0.02233021]]\n",
      "\n",
      "  [[ 0.11209961  0.1245484 ]]\n",
      "\n",
      "  [[-0.01310476 -0.18445493]]]\n",
      "\n",
      "\n",
      " [[[ 0.01133383  0.17085437]]\n",
      "\n",
      "  [[ 0.04410573 -0.11847664]]\n",
      "\n",
      "  [[-0.10223569 -0.19893384]]]\n",
      "\n",
      "\n",
      " [[[-0.09292353  0.07228663]]\n",
      "\n",
      "  [[ 0.02692039 -0.1495675 ]]\n",
      "\n",
      "  [[-0.01272362 -0.09293635]]]]\n",
      "Bias:\n",
      "[-0.18918078 -0.36271048]\n",
      "Loss: 3.6115047931671143\n",
      "Saved parameters for epoch 1 to model_parameters\\parameters_epoch_1.npz\n",
      "Saved parameters for epoch 1\n",
      "\u001b[1m1875/1875\u001b[0m \u001b[32m━━━━━━━━━━━━━━━━━━━━\u001b[0m\u001b[37m\u001b[0m \u001b[1m5s\u001b[0m 2ms/step - accuracy: 0.7976 - loss: 9.5756\n",
      "Epoch 2/10\n",
      "\u001b[1m1872/1875\u001b[0m \u001b[32m━━━━━━━━━━━━━━━━━━━\u001b[0m\u001b[37m━\u001b[0m \u001b[1m0s\u001b[0m 2ms/step - accuracy: 0.9268 - loss: 0.3452\n",
      "Epoch 2:\n",
      "Weights:\n",
      "[[[[ 0.01260738  0.00289224]]\n",
      "\n",
      "  [[ 0.04503503  0.04691412]]\n",
      "\n",
      "  [[ 0.00076422 -0.11044599]]]\n",
      "\n",
      "\n",
      " [[[ 0.01238261  0.07449221]]\n",
      "\n",
      "  [[ 0.01107964 -0.03141462]]\n",
      "\n",
      "  [[-0.02668481 -0.16412728]]]\n",
      "\n",
      "\n",
      " [[[-0.0376589   0.02285845]]\n",
      "\n",
      "  [[-0.00684707 -0.05176773]]\n",
      "\n",
      "  [[ 0.00144807 -0.03175307]]]]\n",
      "Bias:\n",
      "[-0.16153084 -0.47974136]\n",
      "Loss: 0.2825661599636078\n",
      "Saved parameters for epoch 2 to model_parameters\\parameters_epoch_2.npz\n",
      "Saved parameters for epoch 2\n",
      "\u001b[1m1875/1875\u001b[0m \u001b[32m━━━━━━━━━━━━━━━━━━━━\u001b[0m\u001b[37m\u001b[0m \u001b[1m4s\u001b[0m 2ms/step - accuracy: 0.9268 - loss: 0.3451\n",
      "Epoch 3/10\n",
      "\u001b[1m1848/1875\u001b[0m \u001b[32m━━━━━━━━━━━━━━━━━━━\u001b[0m\u001b[37m━\u001b[0m \u001b[1m0s\u001b[0m 1ms/step - accuracy: 0.9483 - loss: 0.1752\n",
      "Epoch 3:\n",
      "Weights:\n",
      "[[[[ 0.0092562   0.01048551]]\n",
      "\n",
      "  [[ 0.0289146   0.01519314]]\n",
      "\n",
      "  [[ 0.0040015  -0.06318329]]]\n",
      "\n",
      "\n",
      " [[[ 0.00767256  0.0499419 ]]\n",
      "\n",
      "  [[ 0.00727925 -0.00720676]]\n",
      "\n",
      "  [[-0.01158418 -0.09656388]]]\n",
      "\n",
      "\n",
      " [[[-0.03599974  0.01437772]]\n",
      "\n",
      "  [[-0.00683042 -0.05289263]]\n",
      "\n",
      "  [[ 0.00625204 -0.0195717 ]]]]\n",
      "Bias:\n",
      "[-0.12064099 -0.58875203]\n",
      "Loss: 0.17419518530368805\n",
      "Saved parameters for epoch 3 to model_parameters\\parameters_epoch_3.npz\n",
      "Saved parameters for epoch 3\n",
      "\u001b[1m1875/1875\u001b[0m \u001b[32m━━━━━━━━━━━━━━━━━━━━\u001b[0m\u001b[37m\u001b[0m \u001b[1m2s\u001b[0m 1ms/step - accuracy: 0.9483 - loss: 0.1752\n",
      "Epoch 4/10\n",
      "\u001b[1m1872/1875\u001b[0m \u001b[32m━━━━━━━━━━━━━━━━━━━\u001b[0m\u001b[37m━\u001b[0m \u001b[1m0s\u001b[0m 2ms/step - accuracy: 0.9541 - loss: 0.1545\n",
      "Epoch 4:\n",
      "Weights:\n",
      "[[[[ 0.00669191  0.01152088]]\n",
      "\n",
      "  [[ 0.02489642  0.00899938]]\n",
      "\n",
      "  [[ 0.00529089 -0.03863904]]]\n",
      "\n",
      "\n",
      " [[[ 0.00503171  0.03599387]]\n",
      "\n",
      "  [[ 0.00965089 -0.00614822]]\n",
      "\n",
      "  [[-0.00404944 -0.04698103]]]\n",
      "\n",
      "\n",
      " [[[-0.03886492  0.01275402]]\n",
      "\n",
      "  [[-0.01127226 -0.03679929]]\n",
      "\n",
      "  [[-0.00245981 -0.01496135]]]]\n",
      "Bias:\n",
      "[-0.10950755 -0.66608876]\n",
      "Loss: 0.15916471183300018\n",
      "Saved parameters for epoch 4 to model_parameters\\parameters_epoch_4.npz\n",
      "Saved parameters for epoch 4\n",
      "\u001b[1m1875/1875\u001b[0m \u001b[32m━━━━━━━━━━━━━━━━━━━━\u001b[0m\u001b[37m\u001b[0m \u001b[1m4s\u001b[0m 2ms/step - accuracy: 0.9541 - loss: 0.1545\n",
      "Epoch 5/10\n",
      "\u001b[1m1868/1875\u001b[0m \u001b[32m━━━━━━━━━━━━━━━━━━━\u001b[0m\u001b[37m━\u001b[0m \u001b[1m0s\u001b[0m 3ms/step - accuracy: 0.9576 - loss: 0.1366\n",
      "Epoch 5:\n",
      "Weights:\n",
      "[[[[ 0.00874522  0.01335087]]\n",
      "\n",
      "  [[ 0.01956743  0.00074055]]\n",
      "\n",
      "  [[ 0.00593913 -0.03858592]]]\n",
      "\n",
      "\n",
      " [[[-0.00168364  0.03713446]]\n",
      "\n",
      "  [[ 0.00669406 -0.00702717]]\n",
      "\n",
      "  [[-0.00098793 -0.0509958 ]]]\n",
      "\n",
      "\n",
      " [[[-0.05977755  0.00982014]]\n",
      "\n",
      "  [[-0.02280724 -0.02815071]]\n",
      "\n",
      "  [[-0.00998286 -0.02681165]]]]\n",
      "Bias:\n",
      "[-0.06564637 -0.6841343 ]\n",
      "Loss: 0.1405554562807083\n",
      "Saved parameters for epoch 5 to model_parameters\\parameters_epoch_5.npz\n",
      "Saved parameters for epoch 5\n",
      "\u001b[1m1875/1875\u001b[0m \u001b[32m━━━━━━━━━━━━━━━━━━━━\u001b[0m\u001b[37m\u001b[0m \u001b[1m6s\u001b[0m 3ms/step - accuracy: 0.9576 - loss: 0.1366\n",
      "Epoch 6/10\n",
      "\u001b[1m1871/1875\u001b[0m \u001b[32m━━━━━━━━━━━━━━━━━━━\u001b[0m\u001b[37m━\u001b[0m \u001b[1m0s\u001b[0m 3ms/step - accuracy: 0.9596 - loss: 0.1300\n",
      "Epoch 6:\n",
      "Weights:\n",
      "[[[[ 0.00542462  0.00991845]]\n",
      "\n",
      "  [[ 0.02581015 -0.0002532 ]]\n",
      "\n",
      "  [[ 0.00619213 -0.03492953]]]\n",
      "\n",
      "\n",
      " [[[-0.01231634  0.02983824]]\n",
      "\n",
      "  [[ 0.01305906 -0.01089089]]\n",
      "\n",
      "  [[-0.00231066 -0.05261699]]]\n",
      "\n",
      "\n",
      " [[[-0.05631054  0.00588487]]\n",
      "\n",
      "  [[-0.02042542 -0.02951735]]\n",
      "\n",
      "  [[-0.00795659 -0.02874947]]]]\n",
      "Bias:\n",
      "[-0.00956757 -0.6772723 ]\n",
      "Loss: 0.1342325657606125\n",
      "Saved parameters for epoch 6 to model_parameters\\parameters_epoch_6.npz\n",
      "Saved parameters for epoch 6\n",
      "\u001b[1m1875/1875\u001b[0m \u001b[32m━━━━━━━━━━━━━━━━━━━━\u001b[0m\u001b[37m\u001b[0m \u001b[1m5s\u001b[0m 3ms/step - accuracy: 0.9596 - loss: 0.1300\n",
      "Epoch 7/10\n",
      "\u001b[1m1871/1875\u001b[0m \u001b[32m━━━━━━━━━━━━━━━━━━━\u001b[0m\u001b[37m━\u001b[0m \u001b[1m0s\u001b[0m 3ms/step - accuracy: 0.9631 - loss: 0.1176\n",
      "Epoch 7:\n",
      "Weights:\n",
      "[[[[-0.00035536  0.01377913]]\n",
      "\n",
      "  [[ 0.02501611 -0.00807736]]\n",
      "\n",
      "  [[ 0.00575062 -0.0377816 ]]]\n",
      "\n",
      "\n",
      " [[[-0.0162146   0.03103126]]\n",
      "\n",
      "  [[ 0.0176035  -0.0108171 ]]\n",
      "\n",
      "  [[-0.0031097  -0.03590268]]]\n",
      "\n",
      "\n",
      " [[[-0.0662543   0.00326712]]\n",
      "\n",
      "  [[-0.03367133 -0.02193332]]\n",
      "\n",
      "  [[-0.00397841 -0.01964981]]]]\n",
      "Bias:\n",
      "[-0.00642274 -0.65003824]\n",
      "Loss: 0.12732696533203125\n",
      "Saved parameters for epoch 7 to model_parameters\\parameters_epoch_7.npz\n",
      "Saved parameters for epoch 7\n",
      "\u001b[1m1875/1875\u001b[0m \u001b[32m━━━━━━━━━━━━━━━━━━━━\u001b[0m\u001b[37m\u001b[0m \u001b[1m5s\u001b[0m 3ms/step - accuracy: 0.9631 - loss: 0.1177\n",
      "Epoch 8/10\n",
      "\u001b[1m1850/1875\u001b[0m \u001b[32m━━━━━━━━━━━━━━━━━━━\u001b[0m\u001b[37m━\u001b[0m \u001b[1m0s\u001b[0m 2ms/step - accuracy: 0.9642 - loss: 0.1137\n",
      "Epoch 8:\n",
      "Weights:\n",
      "[[[[-0.0036078   0.00889032]]\n",
      "\n",
      "  [[ 0.02696905 -0.00363828]]\n",
      "\n",
      "  [[ 0.01249265 -0.03498469]]]\n",
      "\n",
      "\n",
      " [[[-0.01766282  0.03260997]]\n",
      "\n",
      "  [[ 0.01710325 -0.00224475]]\n",
      "\n",
      "  [[-0.00978656 -0.0294544 ]]]\n",
      "\n",
      "\n",
      " [[[-0.05822988  0.0002931 ]]\n",
      "\n",
      "  [[-0.04046164 -0.01885472]]\n",
      "\n",
      "  [[ 0.00190508 -0.02692991]]]]\n",
      "Bias:\n",
      "[-0.00607967 -0.63339645]\n",
      "Loss: 0.12060797214508057\n",
      "Saved parameters for epoch 8 to model_parameters\\parameters_epoch_8.npz\n",
      "Saved parameters for epoch 8\n",
      "\u001b[1m1875/1875\u001b[0m \u001b[32m━━━━━━━━━━━━━━━━━━━━\u001b[0m\u001b[37m\u001b[0m \u001b[1m4s\u001b[0m 2ms/step - accuracy: 0.9642 - loss: 0.1138\n",
      "Epoch 9/10\n",
      "\u001b[1m1860/1875\u001b[0m \u001b[32m━━━━━━━━━━━━━━━━━━━\u001b[0m\u001b[37m━\u001b[0m \u001b[1m0s\u001b[0m 2ms/step - accuracy: 0.9680 - loss: 0.1008\n",
      "Epoch 9:\n",
      "Weights:\n",
      "[[[[-0.00646799  0.00819493]]\n",
      "\n",
      "  [[ 0.02670384 -0.00701704]]\n",
      "\n",
      "  [[ 0.00872204 -0.03608911]]]\n",
      "\n",
      "\n",
      " [[[-0.0251536   0.03121088]]\n",
      "\n",
      "  [[ 0.01871773 -0.00839743]]\n",
      "\n",
      "  [[-0.01121683 -0.03403553]]]\n",
      "\n",
      "\n",
      " [[[-0.06736483 -0.00236926]]\n",
      "\n",
      "  [[-0.03639542 -0.02112589]]\n",
      "\n",
      "  [[-0.00088143 -0.02305817]]]]\n",
      "Bias:\n",
      "[-0.00937572 -0.5906204 ]\n",
      "Loss: 0.10893156379461288\n",
      "Saved parameters for epoch 9 to model_parameters\\parameters_epoch_9.npz\n",
      "Saved parameters for epoch 9\n",
      "\u001b[1m1875/1875\u001b[0m \u001b[32m━━━━━━━━━━━━━━━━━━━━\u001b[0m\u001b[37m\u001b[0m \u001b[1m4s\u001b[0m 2ms/step - accuracy: 0.9680 - loss: 0.1009\n",
      "Epoch 10/10\n",
      "\u001b[1m1855/1875\u001b[0m \u001b[32m━━━━━━━━━━━━━━━━━━━\u001b[0m\u001b[37m━\u001b[0m \u001b[1m0s\u001b[0m 2ms/step - accuracy: 0.9687 - loss: 0.0997\n",
      "Epoch 10:\n",
      "Weights:\n",
      "[[[[-0.00343155  0.01273545]]\n",
      "\n",
      "  [[ 0.02878741 -0.00498735]]\n",
      "\n",
      "  [[ 0.01249722 -0.04043916]]]\n",
      "\n",
      "\n",
      " [[[-0.02842758  0.03635903]]\n",
      "\n",
      "  [[ 0.02194781 -0.00316267]]\n",
      "\n",
      "  [[-0.01327149 -0.03573151]]]\n",
      "\n",
      "\n",
      " [[[-0.07625375  0.00183946]]\n",
      "\n",
      "  [[-0.04212296 -0.01811536]]\n",
      "\n",
      "  [[ 0.00194239 -0.03971713]]]]\n",
      "Bias:\n",
      "[-0.01026036 -0.5552191 ]\n",
      "Loss: 0.10466982424259186\n",
      "Saved parameters for epoch 10 to model_parameters\\parameters_epoch_10.npz\n",
      "Saved parameters for epoch 10\n",
      "\u001b[1m1875/1875\u001b[0m \u001b[32m━━━━━━━━━━━━━━━━━━━━\u001b[0m\u001b[37m\u001b[0m \u001b[1m3s\u001b[0m 2ms/step - accuracy: 0.9687 - loss: 0.0998\n"
     ]
    },
    {
     "data": {
      "text/plain": [
       "<keras.src.callbacks.history.History at 0x2199dd4c670>"
      ]
     },
     "execution_count": 41,
     "metadata": {},
     "output_type": "execute_result"
    }
   ],
   "source": [
    "model.compile(optimizer='adam',\n",
    "              loss='categorical_crossentropy',\n",
    "              metrics=['accuracy'])\n",
    "\n",
    "model.fit(x_full, y_full, epochs=10, callbacks=[WeightsCallback()])"
   ]
  },
  {
   "cell_type": "code",
   "execution_count": 42,
   "metadata": {},
   "outputs": [
    {
     "name": "stdout",
     "output_type": "stream",
     "text": [
      "Weights:\n",
      "[[[[-0.00343155  0.01273545]]\n",
      "\n",
      "  [[ 0.02878741 -0.00498735]]\n",
      "\n",
      "  [[ 0.01249722 -0.04043916]]]\n",
      "\n",
      "\n",
      " [[[-0.02842758  0.03635903]]\n",
      "\n",
      "  [[ 0.02194781 -0.00316267]]\n",
      "\n",
      "  [[-0.01327149 -0.03573151]]]\n",
      "\n",
      "\n",
      " [[[-0.07625375  0.00183946]]\n",
      "\n",
      "  [[-0.04212296 -0.01811536]]\n",
      "\n",
      "  [[ 0.00194239 -0.03971713]]]]\n",
      "Bias:\n",
      "[-0.01026036 -0.5552191 ]\n"
     ]
    }
   ],
   "source": [
    "weights_final=(model.layers[0].get_weights()[0])\n",
    "bias_final=(model.layers[0].get_weights()[1])\n",
    "print(f\"Weights:\\n{weights_final}\")\n",
    "print(f\"Bias:\\n{bias_final}\")"
   ]
  },
  {
   "cell_type": "code",
   "execution_count": 43,
   "metadata": {},
   "outputs": [
    {
     "data": {
      "image/png": "[encoded data removed]",
      "text/plain": [
       "<Figure size 1000x500 with 2 Axes>"
      ]
     },
     "metadata": {},
     "output_type": "display_data"
    }
   ],
   "source": [
    "fig, axes = plt.subplots(1, 2, figsize=(10, 5))\n",
    "ax = axes[0]\n",
    "ax.imshow(weights_final[:, :, 0, 0], cmap='gray')\n",
    "ax.set_title('Filter 1')\n",
    "ax.axis('off')\n",
    "for (i, j), val in np.ndenumerate(weights_final[:, :, 0, 0]):\n",
    "    ax.text(j, i, f'{val:.2f}', ha='center', va='center', color='red', fontsize=8)\n",
    "ax = axes[1]\n",
    "ax.imshow(weights_final[:, :, 0, 1], cmap='gray')\n",
    "ax.set_title('Filter 2')\n",
    "ax.axis('off')\n",
    "for (i, j), val in np.ndenumerate(weights_final[:, :, 0, 1]):\n",
    "    ax.text(j, i, f'{val:.2f}', ha='center', va='center', color='red', fontsize=8)\n",
    "plt.show()"
   ]
  },
  {
   "cell_type": "code",
   "execution_count": 44,
   "metadata": {},
   "outputs": [
    {
     "name": "stdout",
     "output_type": "stream",
     "text": [
      "Conv Layer 1 Weights:\n",
      "Mean: -0.010925832204520702\n",
      "Variance: 0.0009978915331885219\n",
      "Conv Layer 1 Biases:\n",
      "Mean: -0.010260357521474361\n",
      "Variance: 0.0\n",
      "------------------------------\n",
      "Conv Layer 2 Weights:\n",
      "Mean: -0.01013546995818615\n",
      "Variance: 0.000601729319896549\n",
      "Conv Layer 2 Biases:\n",
      "Mean: -0.5552191138267517\n",
      "Variance: 0.0\n",
      "------------------------------\n"
     ]
    }
   ],
   "source": [
    "for i in range(2):\n",
    "    mean = np.mean(weights_final[:, :, 0, i])\n",
    "    variance = np.var(weights_final[:, :, 0, i])\n",
    "    print(f\"Conv Layer {i + 1} Weights:\")\n",
    "    print(f\"Mean: {mean}\")\n",
    "    print(f\"Variance: {variance}\")\n",
    "    \n",
    "    mean = np.mean(bias_final[i])\n",
    "    variance = np.var(bias_final[i])\n",
    "    print(f\"Conv Layer {i + 1} Biases:\")\n",
    "    print(f\"Mean: {mean}\")\n",
    "    print(f\"Variance: {variance}\")\n",
    "    print(\"-\" * 30)\n",
    "\n",
    "save_model_statistics('6.txt', weights_final, bias_final, 'After Training')\n",
    "save_model_weights('6_weights.txt', weights_final, bias_final, 'After Training')\n",
    "save_kernel_comparison_images('6.png', weights_init, weights_final)"
   ]
  },
  {
   "cell_type": "code",
   "execution_count": 45,
   "metadata": {},
   "outputs": [
    {
     "name": "stdout",
     "output_type": "stream",
     "text": [
      "\u001b[1m313/313\u001b[0m \u001b[32m━━━━━━━━━━━━━━━━━━━━\u001b[0m\u001b[37m\u001b[0m \u001b[1m1s\u001b[0m 3ms/step - accuracy: 0.9549 - loss: 0.1978\n",
      "Test accuracy: 0.9613000154495239\n",
      "Saved parameters for epoch after_training to model_parameters\\parameters_epoch_after_training.npz\n"
     ]
    }
   ],
   "source": [
    "test_loss, test_acc = model.evaluate(x_test_full, y_test_full)\n",
    "print(f'Test accuracy: {test_acc}')\n",
    "save_all_model_parameters('after_training', model)"
   ]
  },
  {
   "cell_type": "code",
   "execution_count": 46,
   "metadata": {},
   "outputs": [
    {
     "name": "stdout",
     "output_type": "stream",
     "text": [
      "\u001b[1m313/313\u001b[0m \u001b[32m━━━━━━━━━━━━━━━━━━━━\u001b[0m\u001b[37m\u001b[0m \u001b[1m1s\u001b[0m 3ms/step\n"
     ]
    },
    {
     "data": {
      "text/plain": [
       "[<matplotlib.lines.Line2D at 0x2199d77a680>]"
      ]
     },
     "execution_count": 46,
     "metadata": {},
     "output_type": "execute_result"
    },
    {
     "data": {
      "image/png": "[encoded data removed]",
      "text/plain": [
       "<Figure size 640x480 with 1 Axes>"
      ]
     },
     "metadata": {},
     "output_type": "display_data"
    }
   ],
   "source": [
    "predictions = model.predict(x_test_full)\n",
    "plt.plot((predictions[0])) \n"
   ]
  },
  {
   "cell_type": "code",
   "execution_count": 47,
   "metadata": {},
   "outputs": [
    {
     "data": {
      "image/png": "[encoded data removed]",
      "text/plain": [
       "<Figure size 1000x1000 with 25 Axes>"
      ]
     },
     "metadata": {},
     "output_type": "display_data"
    }
   ],
   "source": [
    "plt.figure(figsize=(10, 10))\n",
    "for i in range(25):\n",
    "    plt.subplot(5, 5, i + 1)\n",
    "    plt.xticks([])\n",
    "    plt.yticks([])\n",
    "    plt.grid(False)\n",
    "    plt.imshow(x_test_full[i].reshape(28, 28), cmap=plt.cm.binary)\n",
    "    plt.xlabel(f\"Pred: {np.argmax(predictions[i])}, Actual: {np.argmax(y_test_full[i])}\")\n",
    "plt.show()\n"
   ]
  },
  {
   "cell_type": "code",
   "execution_count": 48,
   "metadata": {},
   "outputs": [
    {
     "name": "stdout",
     "output_type": "stream",
     "text": [
      "[[ 0.01273545 -0.00498735 -0.04043916]\n",
      " [ 0.03635903 -0.00316267 -0.03573151]\n",
      " [ 0.00183946 -0.01811536 -0.03971713]]\n",
      "(28, 28)\n"
     ]
    }
   ],
   "source": [
    "\n",
    "from scipy.signal import convolve2d\n",
    "\n",
    "image = x_test_full[1]\n",
    "image = image[:, :, 0]\n",
    "\n",
    "kernel = weights_final[:,:,0,1]\n",
    "\n",
    "print(kernel)\n",
    "print(image.shape)"
   ]
  },
  {
   "cell_type": "code",
   "execution_count": 49,
   "metadata": {},
   "outputs": [
    {
     "data": {
      "image/png": "[encoded data removed]",
      "text/plain": [
       "<Figure size 1500x500 with 3 Axes>"
      ]
     },
     "metadata": {},
     "output_type": "display_data"
    }
   ],
   "source": [
    "\n",
    "\n",
    "# Perform the convolution operation with no padding and stride of 1\n",
    "convolved_output = convolve2d(image, kernel, mode='valid')\n",
    "\n",
    "# Plotting\n",
    "fig, axs = plt.subplots(1, 3, figsize=(15, 5))\n",
    "\n",
    "# Original image\n",
    "axs[0].imshow(image, cmap='gray')\n",
    "axs[0].set_title('Original Image')\n",
    "axs[0].axis('off')\n",
    "\n",
    "# Kernel\n",
    "axs[1].imshow(kernel, cmap='gray')\n",
    "axs[1].set_title('Kernel')\n",
    "axs[1].axis('off')\n",
    "\n",
    "# Convolution output\n",
    "axs[2].imshow(convolved_output, cmap='gray')\n",
    "axs[2].set_title('Convolution Output')\n",
    "axs[2].axis('off')\n",
    "\n",
    "plt.show()\n"
   ]
  },
  {
   "cell_type": "code",
   "execution_count": 50,
   "metadata": {},
   "outputs": [
    {
     "data": {
      "image/png": "[encoded data removed]",
      "text/plain": [
       "<Figure size 1500x500 with 3 Axes>"
      ]
     },
     "metadata": {},
     "output_type": "display_data"
    }
   ],
   "source": [
    "kernel = weights_final[:,:,0,0]\n",
    "\n",
    "\n",
    "# Perform the convolution operation with no padding and stride of 1\n",
    "convolved_output = convolve2d(image, kernel, mode='valid')\n",
    "\n",
    "# Plotting\n",
    "fig, axs = plt.subplots(1, 3, figsize=(15, 5))\n",
    "\n",
    "# Original image\n",
    "axs[0].imshow(image, cmap='gray')\n",
    "axs[0].set_title('Original Image')\n",
    "axs[0].axis('off')\n",
    "\n",
    "# Kernel\n",
    "axs[1].imshow(kernel, cmap='gray')\n",
    "axs[1].set_title('Kernel')\n",
    "axs[1].axis('off')\n",
    "\n",
    "# Convolution output\n",
    "axs[2].imshow(convolved_output, cmap='gray')\n",
    "axs[2].set_title('Convolution Output')\n",
    "axs[2].axis('off')\n",
    "\n",
    "plt.show()\n"
   ]
  },
  {
   "cell_type": "code",
   "execution_count": 51,
   "metadata": {},
   "outputs": [
    {
     "data": {
      "text/html": [
       "<pre style=\"white-space:pre;overflow-x:auto;line-height:normal;font-family:Menlo,'DejaVu Sans Mono',consolas,'Courier New',monospace\"><span style=\"font-weight: bold\">Model: \"sequential_2\"</span>\n",
       "</pre>\n"
      ],
      "text/plain": [
       "\u001b[1mModel: \"sequential_2\"\u001b[0m\n"
      ]
     },
     "metadata": {},
     "output_type": "display_data"
    },
    {
     "data": {
      "text/html": [
       "<pre style=\"white-space:pre;overflow-x:auto;line-height:normal;font-family:Menlo,'DejaVu Sans Mono',consolas,'Courier New',monospace\">┏━━━━━━━━━━━━━━━━━━━━━━━━━━━━━━━━━┳━━━━━━━━━━━━━━━━━━━━━━━━┳━━━━━━━━━━━━━━━┓\n",
       "┃<span style=\"font-weight: bold\"> Layer (type)                    </span>┃<span style=\"font-weight: bold\"> Output Shape           </span>┃<span style=\"font-weight: bold\">       Param # </span>┃\n",
       "┡━━━━━━━━━━━━━━━━━━━━━━━━━━━━━━━━━╇━━━━━━━━━━━━━━━━━━━━━━━━╇━━━━━━━━━━━━━━━┩\n",
       "│ conv2d_2 (<span style=\"color: #0087ff; text-decoration-color: #0087ff\">Conv2D</span>)               │ (<span style=\"color: #00d7ff; text-decoration-color: #00d7ff\">None</span>, <span style=\"color: #00af00; text-decoration-color: #00af00\">26</span>, <span style=\"color: #00af00; text-decoration-color: #00af00\">26</span>, <span style=\"color: #00af00; text-decoration-color: #00af00\">2</span>)      │            <span style=\"color: #00af00; text-decoration-color: #00af00\">20</span> │\n",
       "├─────────────────────────────────┼────────────────────────┼───────────────┤\n",
       "│ flatten_2 (<span style=\"color: #0087ff; text-decoration-color: #0087ff\">Flatten</span>)             │ (<span style=\"color: #00d7ff; text-decoration-color: #00d7ff\">None</span>, <span style=\"color: #00af00; text-decoration-color: #00af00\">1352</span>)           │             <span style=\"color: #00af00; text-decoration-color: #00af00\">0</span> │\n",
       "├─────────────────────────────────┼────────────────────────┼───────────────┤\n",
       "│ dense_2 (<span style=\"color: #0087ff; text-decoration-color: #0087ff\">Dense</span>)                 │ (<span style=\"color: #00d7ff; text-decoration-color: #00d7ff\">None</span>, <span style=\"color: #00af00; text-decoration-color: #00af00\">10</span>)             │        <span style=\"color: #00af00; text-decoration-color: #00af00\">13,530</span> │\n",
       "└─────────────────────────────────┴────────────────────────┴───────────────┘\n",
       "</pre>\n"
      ],
      "text/plain": [
       "┏━━━━━━━━━━━━━━━━━━━━━━━━━━━━━━━━━┳━━━━━━━━━━━━━━━━━━━━━━━━┳━━━━━━━━━━━━━━━┓\n",
       "┃\u001b[1m \u001b[0m\u001b[1mLayer (type)                   \u001b[0m\u001b[1m \u001b[0m┃\u001b[1m \u001b[0m\u001b[1mOutput Shape          \u001b[0m\u001b[1m \u001b[0m┃\u001b[1m \u001b[0m\u001b[1m      Param #\u001b[0m\u001b[1m \u001b[0m┃\n",
       "┡━━━━━━━━━━━━━━━━━━━━━━━━━━━━━━━━━╇━━━━━━━━━━━━━━━━━━━━━━━━╇━━━━━━━━━━━━━━━┩\n",
       "│ conv2d_2 (\u001b[38;5;33mConv2D\u001b[0m)               │ (\u001b[38;5;45mNone\u001b[0m, \u001b[38;5;34m26\u001b[0m, \u001b[38;5;34m26\u001b[0m, \u001b[38;5;34m2\u001b[0m)      │            \u001b[38;5;34m20\u001b[0m │\n",
       "├─────────────────────────────────┼────────────────────────┼───────────────┤\n",
       "│ flatten_2 (\u001b[38;5;33mFlatten\u001b[0m)             │ (\u001b[38;5;45mNone\u001b[0m, \u001b[38;5;34m1352\u001b[0m)           │             \u001b[38;5;34m0\u001b[0m │\n",
       "├─────────────────────────────────┼────────────────────────┼───────────────┤\n",
       "│ dense_2 (\u001b[38;5;33mDense\u001b[0m)                 │ (\u001b[38;5;45mNone\u001b[0m, \u001b[38;5;34m10\u001b[0m)             │        \u001b[38;5;34m13,530\u001b[0m │\n",
       "└─────────────────────────────────┴────────────────────────┴───────────────┘\n"
      ]
     },
     "metadata": {},
     "output_type": "display_data"
    },
    {
     "data": {
      "text/html": [
       "<pre style=\"white-space:pre;overflow-x:auto;line-height:normal;font-family:Menlo,'DejaVu Sans Mono',consolas,'Courier New',monospace\"><span style=\"font-weight: bold\"> Total params: </span><span style=\"color: #00af00; text-decoration-color: #00af00\">40,652</span> (158.80 KB)\n",
       "</pre>\n"
      ],
      "text/plain": [
       "\u001b[1m Total params: \u001b[0m\u001b[38;5;34m40,652\u001b[0m (158.80 KB)\n"
      ]
     },
     "metadata": {},
     "output_type": "display_data"
    },
    {
     "data": {
      "text/html": [
       "<pre style=\"white-space:pre;overflow-x:auto;line-height:normal;font-family:Menlo,'DejaVu Sans Mono',consolas,'Courier New',monospace\"><span style=\"font-weight: bold\"> Trainable params: </span><span style=\"color: #00af00; text-decoration-color: #00af00\">13,550</span> (52.93 KB)\n",
       "</pre>\n"
      ],
      "text/plain": [
       "\u001b[1m Trainable params: \u001b[0m\u001b[38;5;34m13,550\u001b[0m (52.93 KB)\n"
      ]
     },
     "metadata": {},
     "output_type": "display_data"
    },
    {
     "data": {
      "text/html": [
       "<pre style=\"white-space:pre;overflow-x:auto;line-height:normal;font-family:Menlo,'DejaVu Sans Mono',consolas,'Courier New',monospace\"><span style=\"font-weight: bold\"> Non-trainable params: </span><span style=\"color: #00af00; text-decoration-color: #00af00\">0</span> (0.00 B)\n",
       "</pre>\n"
      ],
      "text/plain": [
       "\u001b[1m Non-trainable params: \u001b[0m\u001b[38;5;34m0\u001b[0m (0.00 B)\n"
      ]
     },
     "metadata": {},
     "output_type": "display_data"
    },
    {
     "data": {
      "text/html": [
       "<pre style=\"white-space:pre;overflow-x:auto;line-height:normal;font-family:Menlo,'DejaVu Sans Mono',consolas,'Courier New',monospace\"><span style=\"font-weight: bold\"> Optimizer params: </span><span style=\"color: #00af00; text-decoration-color: #00af00\">27,102</span> (105.87 KB)\n",
       "</pre>\n"
      ],
      "text/plain": [
       "\u001b[1m Optimizer params: \u001b[0m\u001b[38;5;34m27,102\u001b[0m (105.87 KB)\n"
      ]
     },
     "metadata": {},
     "output_type": "display_data"
    }
   ],
   "source": [
    "model.summary()"
   ]
  },
  {
   "cell_type": "code",
   "execution_count": 53,
   "metadata": {},
   "outputs": [
    {
     "name": "stdout",
     "output_type": "stream",
     "text": [
      "['arr_0', 'arr_1', 'arr_2', 'arr_3']\n",
      "arr_0: (3, 3, 1, 2)\n",
      "[[[[ 0.32745436  0.20183757]]\n",
      "\n",
      "  [[ 0.3934023   0.36534193]]\n",
      "\n",
      "  [[ 0.00441238 -0.09786722]]]\n",
      "\n",
      "\n",
      " [[[ 0.2056953   0.43710205]]\n",
      "\n",
      "  [[ 0.19909361 -0.14429855]]\n",
      "\n",
      "  [[-0.3392408  -0.3120576 ]]]\n",
      "\n",
      "\n",
      " [[[-0.04676974  0.31183186]]\n",
      "\n",
      "  [[ 0.07719919 -0.1820727 ]]\n",
      "\n",
      "  [[-0.2673459  -0.21499568]]]]\n",
      "arr_1: (2,)\n",
      "[0. 0.]\n",
      "arr_2: (1352, 10)\n",
      "[[-0.01350408  0.05990323  0.05828901 ...  0.0458791  -0.05285347\n",
      "   0.02662394]\n",
      " [-0.0437794  -0.05265618  0.04550166 ...  0.0074237   0.02018043\n",
      "   0.01697258]\n",
      " [ 0.00395309 -0.05896823  0.01288715 ...  0.04747714 -0.03170438\n",
      "  -0.01459434]\n",
      " ...\n",
      " [ 0.0258544   0.02619705  0.02285913 ... -0.05359734 -0.03745397\n",
      "  -0.04494038]\n",
      " [ 0.04637261 -0.00462637 -0.01435548 ... -0.01538108  0.05520579\n",
      "   0.06077284]\n",
      " [ 0.03749619 -0.02498829 -0.00076264 ... -0.04074502  0.04849603\n",
      "  -0.02210932]]\n",
      "arr_3: (10,)\n",
      "[0. 0. 0. 0. 0. 0. 0. 0. 0. 0.]\n"
     ]
    }
   ],
   "source": [
    "#np.load()=> reads the .npz files\n",
    "data = np.load('model_parameters/parameters_epoch_before_training.npz')\n",
    "\n",
    "print(data.files)\n",
    "\n",
    "for key in data:\n",
    "    print(f\"{key}: {data[key].shape}\")\n",
    "    print(data[key]) "
   ]
  }
 ],
 "metadata": {
  "kernelspec": {
   "display_name": "Python 3",
   "language": "python",
   "name": "python3"
  },
  "language_info": {
   "codemirror_mode": {
    "name": "ipython",
    "version": 3
   },
   "file_extension": ".py",
   "mimetype": "text/x-python",
   "name": "python",
   "nbconvert_exporter": "python",
   "pygments_lexer": "ipython3",
   "version": "3.10.7"
  }
 },
 "nbformat": 4,
 "nbformat_minor": 2
}
