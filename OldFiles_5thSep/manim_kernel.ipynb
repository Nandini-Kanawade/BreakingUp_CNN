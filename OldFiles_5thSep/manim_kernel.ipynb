{
 "cells": [
  {
   "cell_type": "code",
   "execution_count": 1,
   "metadata": {},
   "outputs": [
    {
     "name": "stderr",
     "output_type": "stream",
     "text": [
      "c:\\Users\\nandi\\AppData\\Local\\Programs\\Python\\Python310\\lib\\site-packages\\pydub\\utils.py:170: RuntimeWarning: Couldn't find ffmpeg or avconv - defaulting to ffmpeg, but may not work\n",
      "  warn(\"Couldn't find ffmpeg or avconv - defaulting to ffmpeg, but may not work\", RuntimeWarning)\n"
     ]
    }
   ],
   "source": [
    "from manim import *"
   ]
  },
  {
   "cell_type": "code",
   "execution_count": 4,
   "metadata": {},
   "outputs": [],
   "source": [
    "class KernelEvolution(Scene):\n",
    "    def construct(self):\n",
    "        # Define the initial kernel values (as a 3x3 matrix example)\n",
    "        initial_kernel = [\n",
    "            [0.1, 0.2, -0.3],\n",
    "            [0.4, 0.5, -0.1],\n",
    "            [-0.2, 0.6, 0.3]\n",
    "        ]\n",
    "\n",
    "        # Define the kernel values after 10 epochs\n",
    "        kernel_epochs = [\n",
    "            [\n",
    "                [0.12, 0.21, -0.32],\n",
    "                [0.42, 0.49, -0.11],\n",
    "                [-0.22, 0.63, 0.28]\n",
    "            ],\n",
    "            [\n",
    "                [0.13, 0.23, -0.35],\n",
    "                [0.45, 0.46, -0.12],\n",
    "                [-0.24, 0.65, 0.25]\n",
    "            ],\n",
    "            # Add the remaining kernel changes for all 10 epochs...\n",
    "            # These are just example values; replace with your actual values\n",
    "        ]\n",
    "\n",
    "        # Create a matrix visualization for the initial kernel\n",
    "        kernel_matrix = Matrix(initial_kernel)\n",
    "        kernel_matrix.shift(UP)\n",
    "\n",
    "        # Display the initial kernel\n",
    "        self.play(Write(kernel_matrix))\n",
    "\n",
    "        # Loop through each epoch to show kernel updates\n",
    "        for epoch, kernel_values in enumerate(kernel_epochs):\n",
    "            # Create a new matrix with updated kernel values for each epoch\n",
    "            new_kernel_matrix = Matrix(kernel_values)\n",
    "            new_kernel_matrix.shift(UP)\n",
    "\n",
    "            # Transition from the old matrix to the new one\n",
    "            self.play(Transform(kernel_matrix, new_kernel_matrix))\n",
    "\n",
    "            # Show the epoch number\n",
    "            epoch_text = Text(f\"Epoch {epoch + 1}\", font_size=36)\n",
    "            epoch_text.to_edge(DOWN)\n",
    "            self.play(Write(epoch_text))\n",
    "            self.wait(1)\n",
    "\n",
    "            # Remove the epoch text to make room for the next one\n",
    "            self.play(FadeOut(epoch_text))\n",
    "\n",
    "        self.wait(2)\n"
   ]
  }
 ],
 "metadata": {
  "kernelspec": {
   "display_name": "Python 3",
   "language": "python",
   "name": "python3"
  },
  "language_info": {
   "codemirror_mode": {
    "name": "ipython",
    "version": 3
   },
   "file_extension": ".py",
   "mimetype": "text/x-python",
   "name": "python",
   "nbconvert_exporter": "python",
   "pygments_lexer": "ipython3",
   "version": "3.10.7"
  }
 },
 "nbformat": 4,
 "nbformat_minor": 2
}
